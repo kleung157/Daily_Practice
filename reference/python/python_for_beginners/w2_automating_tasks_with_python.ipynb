{
 "cells": [
  {
   "cell_type": "markdown",
   "id": "0c82c196-4b71-4e8a-b12e-aed0794841ae",
   "metadata": {
    "jp-MarkdownHeadingCollapsed": true
   },
   "source": [
    "# Lists"
   ]
  },
  {
   "cell_type": "code",
   "execution_count": 72,
   "id": "1b647127-8257-44d1-bbce-f8752f21aef8",
   "metadata": {},
   "outputs": [
    {
     "name": "stdout",
     "output_type": "stream",
     "text": [
      "['Tommy', 'Isabel', 'Daniel']\n",
      "Tommy\n",
      "Isabel\n",
      "Daniel\n",
      "\n",
      "['Tommy']\n",
      "['Tommy', 'Isabel']\n",
      "['Tommy', 'Isabel', 'Daniel']\n",
      "\n",
      "[]\n",
      "['Isabel']\n",
      "['Isabel', 'Daniel']\n",
      "\n",
      "[]\n",
      "['Daniel']\n",
      "\n",
      "['Tommy', 'Isabel', 'Daniel']\n",
      "['Tommy', 'Isabel', 'Daniel']\n",
      "\n",
      "Daniel\n",
      "Isabel\n",
      "Tommy\n",
      "\n",
      "['Tommy', 'Isabel']\n",
      "['Tommy']\n",
      "[]\n",
      "\n",
      "['Daniel']\n",
      "['Isabel', 'Daniel']\n",
      "['Tommy', 'Isabel', 'Daniel']\n"
     ]
    }
   ],
   "source": [
    "friends_list = [\"Tommy\", \"Isabel\", \"Daniel\"]\n",
    "print(friends_list)\n",
    "print(friends_list[0])\n",
    "print(friends_list[1])\n",
    "print(friends_list[2])\n",
    "print('')\n",
    "print(friends_list[0:1])\n",
    "print(friends_list[0:2])\n",
    "print(friends_list[0:3])\n",
    "print('')\n",
    "print(friends_list[1:1])\n",
    "print(friends_list[1:2])\n",
    "print(friends_list[1:3])\n",
    "print('')\n",
    "print(friends_list[2:2])\n",
    "print(friends_list[2:3])\n",
    "print('')\n",
    "print(friends_list[:3])\n",
    "print(friends_list[0:])\n",
    "print('')\n",
    "print(friends_list[-1])\n",
    "print(friends_list[-2])\n",
    "print(friends_list[-3])\n",
    "print('')\n",
    "print(friends_list[:-1])\n",
    "print(friends_list[:-2])\n",
    "print(friends_list[:-3])\n",
    "print('')\n",
    "print(friends_list[-1:])\n",
    "print(friends_list[-2:])\n",
    "print(friends_list[-3:])"
   ]
  },
  {
   "cell_type": "code",
   "execution_count": 20,
   "id": "03c0c0eb-4447-4e09-8494-07aa842dbae2",
   "metadata": {},
   "outputs": [
    {
     "data": {
      "text/plain": [
       "list"
      ]
     },
     "execution_count": 20,
     "metadata": {},
     "output_type": "execute_result"
    }
   ],
   "source": [
    "type(friends_list)"
   ]
  },
  {
   "cell_type": "code",
   "execution_count": 22,
   "id": "4c38358a-0757-44ac-a85e-3693f22421b9",
   "metadata": {},
   "outputs": [
    {
     "data": {
      "text/plain": [
       "3"
      ]
     },
     "execution_count": 22,
     "metadata": {},
     "output_type": "execute_result"
    }
   ],
   "source": [
    "len(friends_list)"
   ]
  },
  {
   "cell_type": "code",
   "execution_count": 48,
   "id": "37da74bd-2a50-4bcb-99cb-6523b150caf7",
   "metadata": {},
   "outputs": [
    {
     "name": "stdout",
     "output_type": "stream",
     "text": [
      "Tommy\n"
     ]
    }
   ],
   "source": [
    "first_friend = friends_list[0]\n",
    "print(first_friend)"
   ]
  },
  {
   "cell_type": "code",
   "execution_count": 64,
   "id": "2de39ae2-84a3-4fe6-a9ad-b76a19a03937",
   "metadata": {
    "scrolled": true
   },
   "outputs": [
    {
     "ename": "IndexError",
     "evalue": "list index out of range",
     "output_type": "error",
     "traceback": [
      "\u001b[1;31m---------------------------------------------------------------------------\u001b[0m",
      "\u001b[1;31mIndexError\u001b[0m                                Traceback (most recent call last)",
      "Cell \u001b[1;32mIn[64], line 1\u001b[0m\n\u001b[1;32m----> 1\u001b[0m \u001b[38;5;28mprint\u001b[39m(friends_list[\u001b[38;5;241m3\u001b[39m])\n",
      "\u001b[1;31mIndexError\u001b[0m: list index out of range"
     ]
    }
   ],
   "source": [
    "print(friends_list[3])"
   ]
  },
  {
   "cell_type": "code",
   "execution_count": 74,
   "id": "495b283c-4c25-4a6e-949a-9b3516caa3b5",
   "metadata": {},
   "outputs": [
    {
     "name": "stdout",
     "output_type": "stream",
     "text": [
      "['Tommy', 'Isabel', 'Daniel', 'Otto']\n"
     ]
    }
   ],
   "source": [
    "friends_list.append(\"Otto\")\n",
    "print(friends_list)"
   ]
  },
  {
   "cell_type": "code",
   "execution_count": 76,
   "id": "7bd5711a-7aad-4e26-a773-5113722d71d9",
   "metadata": {},
   "outputs": [
    {
     "name": "stdout",
     "output_type": "stream",
     "text": [
      "['Isabel', 'Daniel', 'Otto']\n"
     ]
    }
   ],
   "source": [
    "friends_list.remove(\"Tommy\")\n",
    "print(friends_list)"
   ]
  },
  {
   "cell_type": "code",
   "execution_count": 78,
   "id": "521264d7-b2d8-4377-b8a3-0fdf27740bfc",
   "metadata": {},
   "outputs": [
    {
     "name": "stdout",
     "output_type": "stream",
     "text": [
      "[42, 28, 30]\n"
     ]
    }
   ],
   "source": [
    "list_ages = [42, 28, 30]\n",
    "print(list_ages)"
   ]
  },
  {
   "cell_type": "code",
   "execution_count": 80,
   "id": "fb40382a-fc23-447c-9338-6263d6ca7f21",
   "metadata": {},
   "outputs": [],
   "source": [
    "#list of tasks in priority order. Multi-line lists are allowed in python!\n",
    "list_of_tasks = [\n",
    "    \"Compose a brief email to my boss explaining that I will be late for tomorrow's meeting.\",\n",
    "    \"Write a birthday poem for Otto, celebrating his 28th birthday.\",\n",
    "    \"Write a 300-word review of the movie 'The Arrival'.\"\n",
    "]"
   ]
  },
  {
   "cell_type": "code",
   "execution_count": 84,
   "id": "3987b64e-d4fe-4d48-b60d-6d23619eb3b8",
   "metadata": {},
   "outputs": [
    {
     "name": "stdout",
     "output_type": "stream",
     "text": [
      "Compose a brief email to my boss explaining that I will be late for tomorrow's meeting.\n"
     ]
    }
   ],
   "source": [
    "task = list_of_tasks[0]\n",
    "print(task)"
   ]
  },
  {
   "cell_type": "code",
   "execution_count": 88,
   "id": "e14a1a30-c79d-41da-beb5-db7a47af9346",
   "metadata": {},
   "outputs": [
    {
     "name": "stdout",
     "output_type": "stream",
     "text": [
      "Write a 300-word review of the movie 'The Arrival'.\n"
     ]
    }
   ],
   "source": [
    "task = list_of_tasks[2]\n",
    "print(task)"
   ]
  },
  {
   "cell_type": "markdown",
   "id": "90e0b601-9ce5-46a1-9deb-a9582fcab459",
   "metadata": {
    "jp-MarkdownHeadingCollapsed": true
   },
   "source": [
    "# For Loops"
   ]
  },
  {
   "cell_type": "code",
   "execution_count": 91,
   "id": "eef56e79-c67c-480b-84f4-bfe3e9ba9fe8",
   "metadata": {},
   "outputs": [
    {
     "name": "stdout",
     "output_type": "stream",
     "text": [
      "Compose a brief email to my boss explaining that I will be late for tomorrow's meeting.\n",
      "Write a birthday poem for Otto, celebrating his 28th birthday.\n",
      "Write a 300-word review of the movie 'The Arrival'.\n"
     ]
    }
   ],
   "source": [
    "list_of_tasks = [\n",
    "    \"Compose a brief email to my boss explaining that I will be late for tomorrow's meeting.\",\n",
    "    \"Write a birthday poem for Otto, celebrating his 28th birthday.\",\n",
    "    \"Write a 300-word review of the movie 'The Arrival'.\"\n",
    "]\n",
    "for task in list_of_tasks:\n",
    "    print(task)"
   ]
  },
  {
   "cell_type": "code",
   "execution_count": 115,
   "id": "7dd7fdad-dace-489a-85b5-71933dee1d86",
   "metadata": {},
   "outputs": [
    {
     "name": "stdout",
     "output_type": "stream",
     "text": [
      "For the ice cream flavor listed below, provide a captivating description that could be used for promotion \n",
      "Flavor: Vanilla \n",
      "\n",
      "For the ice cream flavor listed below, provide a captivating description that could be used for promotion \n",
      "Flavor: Chocolate \n",
      "\n",
      "For the ice cream flavor listed below, provide a captivating description that could be used for promotion \n",
      "Flavor: Strawberry \n",
      "\n",
      "For the ice cream flavor listed below, provide a captivating description that could be used for promotion \n",
      "Flavor: Mint Chocolate Chip \n",
      "\n"
     ]
    }
   ],
   "source": [
    "ice_cream_flavors = [\"Vanilla\", \"Chocolate\", \"Strawberry\", \"Mint Chocolate Chip\"]\n",
    "for flavor in ice_cream_flavors:\n",
    "    prompt = f\"\"\"For the ice cream flavor listed below, provide a captivating description that could be used for promotion \\nFlavor: {flavor} \\n\"\"\"\n",
    "    print(prompt)"
   ]
  },
  {
   "cell_type": "code",
   "execution_count": 127,
   "id": "1b4cc595-8f13-43da-8e9f-e7be0c9dde34",
   "metadata": {},
   "outputs": [
    {
     "name": "stdout",
     "output_type": "stream",
     "text": [
      "['For the ice cream flavor listed below, provide a captivating description that could be used for promotion Flavor: Vanilla', 'For the ice cream flavor listed below, provide a captivating description that could be used for promotion Flavor: Chocolate', 'For the ice cream flavor listed below, provide a captivating description that could be used for promotion Flavor: Strawberry', 'For the ice cream flavor listed below, provide a captivating description that could be used for promotion Flavor: Mint Chocolate Chip']\n"
     ]
    }
   ],
   "source": [
    "ice_cream_flavors = [\"Vanilla\", \"Chocolate\", \"Strawberry\", \"Mint Chocolate Chip\"]\n",
    "promotional_descriptions = []\n",
    "for flavor in ice_cream_flavors:\n",
    "    prompt = f\"\"\"For the ice cream flavor listed below, provide a captivating description that could be used for promotion Flavor: {flavor}\"\"\"\n",
    "    description = prompt\n",
    "    promotional_descriptions.append(description)\n",
    "\n",
    "print(promotional_descriptions)"
   ]
  },
  {
   "cell_type": "code",
   "execution_count": 145,
   "id": "e1ae8df3-d5c1-44a2-a780-6506eebbb226",
   "metadata": {},
   "outputs": [
    {
     "name": "stdout",
     "output_type": "stream",
     "text": [
      "Aple ['Apple']\n",
      "Wether ['Apple', 'Weather']\n",
      "Newpaper ['Apple', 'Weather', 'Newspaper']\n",
      "['Apple', 'Weather', 'Newspaper']\n"
     ]
    }
   ],
   "source": [
    "words_with_typos = [\"Aple\", \"Wether\", \"Newpaper\"]\n",
    "words_without_typos = []\n",
    "\n",
    "for word in words_with_typos:\n",
    "    prompt = f\"\"\"Fix the spelling mistake in the following word: {word}\n",
    "    Provide only the word.\n",
    "    \"\"\"\n",
    "    if word == \"Aple\":\n",
    "        correct_word = \"Apple\"\n",
    "        words_without_typos.append(correct_word)\n",
    "        print(word, words_without_typos)\n",
    "    if word == \"Wether\":\n",
    "        correct_word = \"Weather\"\n",
    "        words_without_typos.append(correct_word)\n",
    "        print(word, words_without_typos)\n",
    "    if word == \"Newpaper\":\n",
    "        correct_word = \"Newspaper\"\n",
    "        words_without_typos.append(correct_word)\n",
    "        print(word, words_without_typos)\n",
    "\n",
    "print(words_without_typos)"
   ]
  },
  {
   "cell_type": "markdown",
   "id": "70c19aef-0806-465d-b3ff-1e5812c35a0c",
   "metadata": {
    "jp-MarkdownHeadingCollapsed": true
   },
   "source": [
    "# Dictionaries"
   ]
  },
  {
   "cell_type": "code",
   "execution_count": 155,
   "id": "32c5f5c7-7abb-4702-992c-e15f2c2194ff",
   "metadata": {},
   "outputs": [
    {
     "name": "stdout",
     "output_type": "stream",
     "text": [
      "['Vanilla: Classic and creamy with a rich, smooth flavor from real vanilla beans.', 'Chocolate: Deep and indulgent, made with rich cocoa for a satisfying chocolate experience.', 'Strawberry: Sweet and fruity, bursting with the fresh taste of ripe strawberries.', 'Mint Chocolate Chip: Refreshing mint ice cream studded with decadent chocolate chips.', 'Cookie Dough: Vanilla ice cream loaded with chunks of chocolate chip cookie dough.', 'Salted Caramel: Sweet and salty with a smooth caramel swirl and a hint of sea salt.', 'Pistachio: Nutty and creamy, featuring the distinct taste of real pistachios.', 'Cookies and Cream: Vanilla ice cream packed with chunks of chocolate sandwich cookies.', 'Mango: Tropical and tangy, made with juicy mangoes for a refreshing treat.', 'Rocky Road: Chocolate ice cream mixed with marshmallows, nuts, and chocolate chunks.']\n"
     ]
    }
   ],
   "source": [
    "ice_cream_flavors = [\n",
    "    \"Vanilla: Classic and creamy with a rich, smooth flavor from real vanilla beans.\",\n",
    "    \"Chocolate: Deep and indulgent, made with rich cocoa for a satisfying chocolate experience.\",\n",
    "    \"Strawberry: Sweet and fruity, bursting with the fresh taste of ripe strawberries.\",\n",
    "    \"Mint Chocolate Chip: Refreshing mint ice cream studded with decadent chocolate chips.\",\n",
    "    \"Cookie Dough: Vanilla ice cream loaded with chunks of chocolate chip cookie dough.\",\n",
    "    \"Salted Caramel: Sweet and salty with a smooth caramel swirl and a hint of sea salt.\",\n",
    "    \"Pistachio: Nutty and creamy, featuring the distinct taste of real pistachios.\",\n",
    "    \"Cookies and Cream: Vanilla ice cream packed with chunks of chocolate sandwich cookies.\",\n",
    "    \"Mango: Tropical and tangy, made with juicy mangoes for a refreshing treat.\",\n",
    "    \"Rocky Road: Chocolate ice cream mixed with marshmallows, nuts, and chocolate chunks.\"\n",
    "]\n",
    "print(ice_cream_flavors)"
   ]
  },
  {
   "cell_type": "code",
   "execution_count": 157,
   "id": "9b414691-3c24-4cc7-91bc-e3c86ef2dbd1",
   "metadata": {},
   "outputs": [
    {
     "data": {
      "text/plain": [
       "list"
      ]
     },
     "execution_count": 157,
     "metadata": {},
     "output_type": "execute_result"
    }
   ],
   "source": [
    "type(ice_cream_flavors)"
   ]
  },
  {
   "cell_type": "code",
   "execution_count": 199,
   "id": "09875896-5231-4919-a46b-10fc257bac91",
   "metadata": {},
   "outputs": [
    {
     "name": "stdout",
     "output_type": "stream",
     "text": [
      "{'Vanilla': 'Classic and creamy with a rich, smooth flavor from real vanilla beans.', 'Chocolate': 'Deep and indulgent, made with rich cocoa for a satisfying chocolate experience.', 'Strawberry': 'Sweet and fruity, bursting with the fresh taste of ripe strawberries.', 'Mint Chocolate Chip': 'Refreshing mint ice cream studded with decadent chocolate chips.', 'Cookie Dough': 'Vanilla ice cream loaded with chunks of chocolate chip cookie dough.', 'Salted Caramel': 'Sweet and salty with a smooth caramel swirl and a hint of sea salt.', 'Pistachio': 'Nutty and creamy, featuring the distinct taste of real pistachios.', 'Cookies and Cream': 'Vanilla ice cream packed with chunks of chocolate sandwich cookies.', 'Mango': 'Tropical and tangy, made with juicy mangoes for a refreshing treat.', 'Rocky Road': 'Chocolate ice cream mixed with marshmallows, nuts, and chocolate chunks.'}\n"
     ]
    }
   ],
   "source": [
    "ice_cream_flavors = {\n",
    "    \"Vanilla\": \"Classic and creamy with a rich, smooth flavor from real vanilla beans.\",\n",
    "    \"Chocolate\": \"Deep and indulgent, made with rich cocoa for a satisfying chocolate experience.\",\n",
    "    \"Strawberry\": \"Sweet and fruity, bursting with the fresh taste of ripe strawberries.\",\n",
    "    \"Mint Chocolate Chip\": \"Refreshing mint ice cream studded with decadent chocolate chips.\",\n",
    "    \"Cookie Dough\": \"Vanilla ice cream loaded with chunks of chocolate chip cookie dough.\",\n",
    "    \"Salted Caramel\": \"Sweet and salty with a smooth caramel swirl and a hint of sea salt.\",\n",
    "    \"Pistachio\": \"Nutty and creamy, featuring the distinct taste of real pistachios.\",\n",
    "    \"Cookies and Cream\": \"Vanilla ice cream packed with chunks of chocolate sandwich cookies.\",\n",
    "    \"Mango\": \"Tropical and tangy, made with juicy mangoes for a refreshing treat.\",\n",
    "    \"Rocky Road\": \"Chocolate ice cream mixed with marshmallows, nuts, and chocolate chunks.\"\n",
    "}\n",
    "print(ice_cream_flavors)"
   ]
  },
  {
   "cell_type": "code",
   "execution_count": 173,
   "id": "362b10c9-19fc-47bf-9bc3-7f665bda1681",
   "metadata": {},
   "outputs": [
    {
     "data": {
      "text/plain": [
       "dict"
      ]
     },
     "execution_count": 173,
     "metadata": {},
     "output_type": "execute_result"
    }
   ],
   "source": [
    "type(ice_cream_flavors)"
   ]
  },
  {
   "cell_type": "code",
   "execution_count": 175,
   "id": "db9a7635-de66-486c-92b9-3cafada6cf0f",
   "metadata": {},
   "outputs": [
    {
     "name": "stdout",
     "output_type": "stream",
     "text": [
      "dict_keys(['Vanilla', 'Chocolate', 'Strawberry', 'Mint Chocolate Chip', 'Cookie Dough', 'Salted Caramel', 'Pistachio', 'Cookies and Cream', 'Mango', 'Rocky Road'])\n"
     ]
    }
   ],
   "source": [
    "print(ice_cream_flavors.keys())"
   ]
  },
  {
   "cell_type": "code",
   "execution_count": 177,
   "id": "576978f5-7dfb-4eea-b497-357a53ec5336",
   "metadata": {},
   "outputs": [
    {
     "name": "stdout",
     "output_type": "stream",
     "text": [
      "dict_values(['Classic and creamy with a rich, smooth flavor from real vanilla beans.', 'Deep and indulgent, made with rich cocoa for a satisfying chocolate experience.', 'Sweet and fruity, bursting with the fresh taste of ripe strawberries.', 'Refreshing mint ice cream studded with decadent chocolate chips.', 'Vanilla ice cream loaded with chunks of chocolate chip cookie dough.', 'Sweet and salty with a smooth caramel swirl and a hint of sea salt.', 'Nutty and creamy, featuring the distinct taste of real pistachios.', 'Vanilla ice cream packed with chunks of chocolate sandwich cookies.', 'Tropical and tangy, made with juicy mangoes for a refreshing treat.', 'Chocolate ice cream mixed with marshmallows, nuts, and chocolate chunks.'])\n"
     ]
    }
   ],
   "source": [
    "print(ice_cream_flavors.values())"
   ]
  },
  {
   "cell_type": "code",
   "execution_count": 179,
   "id": "c6db0cfc-b22c-4329-ac24-8cf1609e6003",
   "metadata": {},
   "outputs": [
    {
     "ename": "KeyError",
     "evalue": "0",
     "output_type": "error",
     "traceback": [
      "\u001b[1;31m---------------------------------------------------------------------------\u001b[0m",
      "\u001b[1;31mKeyError\u001b[0m                                  Traceback (most recent call last)",
      "Cell \u001b[1;32mIn[179], line 1\u001b[0m\n\u001b[1;32m----> 1\u001b[0m \u001b[38;5;28mprint\u001b[39m(ice_cream_flavors[\u001b[38;5;241m0\u001b[39m])\n",
      "\u001b[1;31mKeyError\u001b[0m: 0"
     ]
    }
   ],
   "source": [
    "print(ice_cream_flavors[0])"
   ]
  },
  {
   "cell_type": "code",
   "execution_count": 183,
   "id": "6df0b536-da3f-4a65-a573-3b68dbf75b95",
   "metadata": {},
   "outputs": [
    {
     "name": "stdout",
     "output_type": "stream",
     "text": [
      "Vanilla ice cream loaded with chunks of chocolate chip cookie dough.\n"
     ]
    }
   ],
   "source": [
    "print(ice_cream_flavors[\"Cookie Dough\"])"
   ]
  },
  {
   "cell_type": "code",
   "execution_count": 193,
   "id": "cecf819a-44bf-4e94-928b-2d18adf3b80d",
   "metadata": {},
   "outputs": [
    {
     "name": "stdout",
     "output_type": "stream",
     "text": [
      "The keys for value: Classic and creamy with a rich, smooth flavor from real vanilla beans. \n",
      "are: ['Vanilla']\n"
     ]
    }
   ],
   "source": [
    "target_value = \"Classic and creamy with a rich, smooth flavor from real vanilla beans.\"\n",
    "\n",
    "matching_keys = []\n",
    "for key, value in ice_cream_flavors.items():\n",
    "    if value == target_value:\n",
    "        matching_keys.append(key)\n",
    "\n",
    "print(f\"The keys for value: {target_value} \\nare: {matching_keys}\")"
   ]
  },
  {
   "cell_type": "code",
   "execution_count": 201,
   "id": "514c2e8b-3c4d-44d1-bb17-cb9ddfbd1b80",
   "metadata": {},
   "outputs": [
    {
     "name": "stdout",
     "output_type": "stream",
     "text": [
      "Vanilla ice cream loaded with chunks of chocolate chip cookie dough.\n",
      "{'Vanilla': 'Classic and creamy with a rich, smooth flavor from real vanilla beans.', 'Chocolate': 'Deep and indulgent, made with rich cocoa for a satisfying chocolate experience.', 'Strawberry': 'Sweet and fruity, bursting with the fresh taste of ripe strawberries.', 'Mint Chocolate Chip': 'Refreshing mint ice cream studded with decadent chocolate chips.', 'Cookie Dough': 'Chocolate ice cream mix witother ingredients.', 'Salted Caramel': 'Sweet and salty with a smooth caramel swirl and a hint of sea salt.', 'Pistachio': 'Nutty and creamy, featuring the distinct taste of real pistachios.', 'Cookies and Cream': 'Vanilla ice cream packed with chunks of chocolate sandwich cookies.', 'Mango': 'Tropical and tangy, made with juicy mangoes for a refreshing treat.', 'Rocky Road': 'Chocolate ice cream mixed with marshmallows, nuts, and chocolate chunks.'}\n"
     ]
    }
   ],
   "source": [
    "cookie_dough_description = ice_cream_flavors[\"Cookie Dough\"]\n",
    "print(cookie_dough_description)\n",
    "ice_cream_flavors[\"Cookie Dough\"] = \"Chocolate ice cream mix witother ingredients.\"\n",
    "print(ice_cream_flavors)"
   ]
  },
  {
   "cell_type": "code",
   "execution_count": 203,
   "id": "e9cf92d2-5364-48c1-9869-09683c923221",
   "metadata": {},
   "outputs": [
    {
     "name": "stdout",
     "output_type": "stream",
     "text": [
      "{'Vanilla': 'Classic and creamy with a rich, smooth flavor from real vanilla beans.', 'Chocolate': 'Deep and indulgent, made with rich cocoa for a satisfying chocolate experience.', 'Strawberry': 'Sweet and fruity, bursting with the fresh taste of ripe strawberries.', 'Mint Chocolate Chip': 'Refreshing mint ice cream studded with decadent chocolate chips.', 'Cookie Dough': 'Chocolate ice cream mixed with other ingredients.', 'Salted Caramel': 'Sweet and salty with a smooth caramel swirl and a hint of sea salt.', 'Pistachio': 'Nutty and creamy, featuring the distinct taste of real pistachios.', 'Cookies and Cream': 'Vanilla ice cream packed with chunks of chocolate sandwich cookies.', 'Mango': 'Tropical and tangy, made with juicy mangoes for a refreshing treat.', 'Rocky Road': 'Chocolate ice cream mixed with marshmallows, nuts, and chocolate chunks.'}\n"
     ]
    }
   ],
   "source": [
    "ice_cream_flavors[\"Cookie Dough\"] = \"Chocolate ice cream mixed with other ingredients.\"\n",
    "print(ice_cream_flavors)"
   ]
  },
  {
   "cell_type": "code",
   "execution_count": 207,
   "id": "1dba23bd-3903-409d-8d72-4145a68bb11d",
   "metadata": {},
   "outputs": [
    {
     "name": "stdout",
     "output_type": "stream",
     "text": [
      "{'age': 28, 'favorite_color': 'red'}\n"
     ]
    }
   ],
   "source": [
    "isabel_facts = {\n",
    "    \"age\": 28,\n",
    "    \"favorite_color\": \"red\"\n",
    "}\n",
    "print(isabel_facts)"
   ]
  },
  {
   "cell_type": "code",
   "execution_count": 237,
   "id": "cfc4ffb5-1715-4e51-9006-524a24b7fa8e",
   "metadata": {},
   "outputs": [
    {
     "name": "stdout",
     "output_type": "stream",
     "text": [
      "{'age': 28, 'favorite_color': 'red', 'cat_names': ('Charlie', 'Smokey', 'Tabitha')}\n"
     ]
    }
   ],
   "source": [
    "# Key: value(tuple)\n",
    "isabel_facts[\"cat_names\"] = (\"Charlie\", \"Smokey\", \"Tabitha\")\n",
    "print(isabel_facts)"
   ]
  },
  {
   "cell_type": "code",
   "execution_count": 239,
   "id": "30410a8f-3bc3-4b19-8225-d0bc255f7e77",
   "metadata": {},
   "outputs": [
    {
     "name": "stdout",
     "output_type": "stream",
     "text": [
      "{'age': 28, 'favorite_color': 'red', 'cat_names': {'Charlie', 'Tabitha', 'Smokey'}}\n"
     ]
    }
   ],
   "source": [
    "# Key: value{set}\n",
    "isabel_facts[\"cat_names\"] = {\"Charlie\", \"Smokey\", \"Tabitha\"}\n",
    "print(isabel_facts)"
   ]
  },
  {
   "cell_type": "code",
   "execution_count": 241,
   "id": "c61bc80d-5419-4e17-923e-59e4fec8d2f8",
   "metadata": {},
   "outputs": [
    {
     "name": "stdout",
     "output_type": "stream",
     "text": [
      "{'age': 28, 'favorite_color': 'red', 'cat_names': ['Charlie', 'Smokey', 'Tabitha']}\n"
     ]
    }
   ],
   "source": [
    "# Key: value[list]\n",
    "isabel_facts[\"cat_names\"] = [\"Charlie\", \"Smokey\", \"Tabitha\"]\n",
    "print(isabel_facts)"
   ]
  },
  {
   "cell_type": "code",
   "execution_count": 243,
   "id": "70987633-eff7-45b9-b663-116b5b99eff2",
   "metadata": {},
   "outputs": [
    {
     "name": "stdout",
     "output_type": "stream",
     "text": [
      "{'age': 28, 'favorite_color': 'red', 'cat_names': ['Charlie', 'Smokey', 'Tabitha'], 'favorite_snacks': ['pineapple_cake', 'candy']}\n"
     ]
    }
   ],
   "source": [
    "isabel_facts[\"favorite_snacks\"] = [\"pineapple_cake\", \"candy\"]\n",
    "print(isabel_facts)"
   ]
  },
  {
   "cell_type": "code",
   "execution_count": 245,
   "id": "5e889c39-20a9-4716-861d-9f803488b921",
   "metadata": {},
   "outputs": [],
   "source": [
    "#task example, large list not ordered by priority. Want to prioritize\n",
    "list_of_tasks = [\n",
    "    \"Compose a brief email to my boss explaining that I will be late for tomorrow's meeting.\",\n",
    "    \"Write a birthday poem for Otto, celebrating his 28th birthday.\",\n",
    "    \"Write a 300-word review of the movie 'The Arrival'.\",\n",
    "    \"Draft a thank-you note for my neighbor Dapinder who helped water my plants while I was on vacation.\",\n",
    "    \"Create an outline for a presentation on the benefits of remote work.\"\n",
    "]"
   ]
  },
  {
   "cell_type": "code",
   "execution_count": 247,
   "id": "d0078c73-d1a9-4c10-8caa-6a24368e2fa2",
   "metadata": {},
   "outputs": [],
   "source": [
    "# organize by priority\n",
    "high_priority_tasks = [\n",
    "    \"Compose a brief email to my boss explaining that I will be late for tomorrow's meeting.\",\n",
    "    \"Create an outline for a presentation on the benefits of remote work.\"\n",
    "]\n",
    "\n",
    "medium_priority_tasks = [\n",
    "    \"Write a birthday poem for Otto, celebrating his 28th birthday.\",\n",
    "     \"Draft a thank-you note for my neighbor Dapinder who helped water my plants while I was on vacation.\"\n",
    "]\n",
    "\n",
    "low_priority_tasks = [\n",
    "    \"Write a 300-word review of the movie 'The Arrival'.\"\n",
    "]"
   ]
  },
  {
   "cell_type": "code",
   "execution_count": 249,
   "id": "548dbfe0-39a3-412d-9898-95ac91358860",
   "metadata": {},
   "outputs": [
    {
     "name": "stdout",
     "output_type": "stream",
     "text": [
      "{'high_priority': [\"Compose a brief email to my boss explaining that I will be late for tomorrow's meeting.\", 'Create an outline for a presentation on the benefits of remote work.'], 'medium_priority': ['Write a birthday poem for Otto, celebrating his 28th birthday.', 'Draft a thank-you note for my neighbor Dapinder who helped water my plants while I was on vacation.'], 'low_priority': [\"Write a 300-word review of the movie 'The Arrival'.\"]}\n"
     ]
    }
   ],
   "source": [
    "prioritized_tasks = {\n",
    "    \"high_priority\": high_priority_tasks,\n",
    "    \"medium_priority\": medium_priority_tasks,\n",
    "    \"low_priority\": low_priority_tasks\n",
    "}\n",
    "print(prioritized_tasks)"
   ]
  },
  {
   "cell_type": "code",
   "execution_count": 251,
   "id": "13d88d38-bc2c-477c-9827-aa770227a131",
   "metadata": {},
   "outputs": [
    {
     "name": "stdout",
     "output_type": "stream",
     "text": [
      "[\"Compose a brief email to my boss explaining that I will be late for tomorrow's meeting.\", 'Create an outline for a presentation on the benefits of remote work.']\n"
     ]
    }
   ],
   "source": [
    "print(prioritized_tasks[\"high_priority\"])"
   ]
  },
  {
   "cell_type": "code",
   "execution_count": 253,
   "id": "8e8694cf-cf24-4616-a0e4-a4ca27080ad0",
   "metadata": {},
   "outputs": [
    {
     "name": "stdout",
     "output_type": "stream",
     "text": [
      "Compose a brief email to my boss explaining that I will be late for tomorrow's meeting.\n",
      "Create an outline for a presentation on the benefits of remote work.\n"
     ]
    }
   ],
   "source": [
    "for task in prioritized_tasks[\"high_priority\"]:\n",
    "    print(task)"
   ]
  },
  {
   "cell_type": "code",
   "execution_count": 255,
   "id": "7a449fa2-bd6f-4e02-8eed-17d18f9003ab",
   "metadata": {},
   "outputs": [
    {
     "name": "stdout",
     "output_type": "stream",
     "text": [
      "Write a birthday poem for Otto, celebrating his 28th birthday.\n",
      "Draft a thank-you note for my neighbor Dapinder who helped water my plants while I was on vacation.\n"
     ]
    }
   ],
   "source": [
    "for task in prioritized_tasks[\"medium_priority\"]:\n",
    "    print(task)"
   ]
  },
  {
   "cell_type": "code",
   "execution_count": 8,
   "id": "8742208c-c035-49a8-9120-eb5ca4fae0d1",
   "metadata": {},
   "outputs": [],
   "source": [
    "food_preferences_tommy = {\n",
    "    \"dietary_restrictions\": \"vegetarian\",\n",
    "    \"favorite_ingredients\": [\"tofu\", \"olives\"],\n",
    "    \"experience_level\": \"intermediate\",\n",
    "    \"maximum_spice_level\": 6\n",
    "}"
   ]
  },
  {
   "cell_type": "code",
   "execution_count": 10,
   "id": "c574b4d1-25f8-48c1-8bf5-3c5c6e144f7a",
   "metadata": {},
   "outputs": [
    {
     "name": "stdout",
     "output_type": "stream",
     "text": [
      "dict_keys(['dietary_restrictions', 'favorite_ingredients', 'experience_level', 'maximum_spice_level'])\n"
     ]
    }
   ],
   "source": [
    "print(food_preferences_tommy.keys())"
   ]
  },
  {
   "cell_type": "code",
   "execution_count": 12,
   "id": "a720f88b-7a49-49a5-b96f-c48b96e94189",
   "metadata": {},
   "outputs": [
    {
     "data": {
      "text/plain": [
       "dict_values(['vegetarian', ['tofu', 'olives'], 'intermediate', 6])"
      ]
     },
     "execution_count": 12,
     "metadata": {},
     "output_type": "execute_result"
    }
   ],
   "source": [
    "food_preferences_tommy.values()"
   ]
  },
  {
   "cell_type": "code",
   "execution_count": 16,
   "id": "2a910aca-6add-4cef-8a10-cadb76df4940",
   "metadata": {},
   "outputs": [
    {
     "name": "stdout",
     "output_type": "stream",
     "text": [
      "Please suggest a recipe that tries to include the following ingredients:\n",
      "['tofu', 'olives']\n",
      "The recipe should adhere to the following dietary restrictions:\n",
      "vegetarian\n",
      "The difficulty of the recipe should be:\n",
      "intermediate\n",
      "The maximum spice level on a scale of 10 should be:\n",
      "6\n",
      "Provide a two sentence description.\n",
      "\n"
     ]
    }
   ],
   "source": [
    "prompt = f\"\"\"Please suggest a recipe that tries to include the following ingredients:\n",
    "{food_preferences_tommy[\"favorite_ingredients\"]}\n",
    "The recipe should adhere to the following dietary restrictions:\n",
    "{food_preferences_tommy[\"dietary_restrictions\"]}\n",
    "The difficulty of the recipe should be:\n",
    "{food_preferences_tommy[\"experience_level\"]}\n",
    "The maximum spice level on a scale of 10 should be:\n",
    "{food_preferences_tommy[\"maximum_spice_level\"]}\n",
    "Provide a two sentence description.\n",
    "\"\"\"\n",
    "print(prompt)"
   ]
  },
  {
   "cell_type": "code",
   "execution_count": 18,
   "id": "1581c9ad-6db6-46a6-99a7-42abeccd0593",
   "metadata": {},
   "outputs": [],
   "source": [
    "available_spices = [\"cumin\", \"turmeric\", \"oregano\", \"paprika\"]"
   ]
  },
  {
   "cell_type": "code",
   "execution_count": 20,
   "id": "445bb24b-76d9-4a08-a1d0-485ef218ecbb",
   "metadata": {},
   "outputs": [
    {
     "name": "stdout",
     "output_type": "stream",
     "text": [
      "Please suggest a recipe that tries to include the following ingredients:\n",
      "['tofu', 'olives']\n",
      "The recipe should adhere to the following dietary restrictions:\n",
      "vegetarian\n",
      "The difficulty of the recipe should be:\n",
      "intermediate\n",
      "The maximum spice level on a scale of 10 should be:\n",
      "6\n",
      "Provide a two sentence description.\n",
      "\n",
      "The recipe should not include spices outside of this list:\n",
      "Spices: ['cumin', 'turmeric', 'oregano', 'paprika']\n",
      "\n"
     ]
    }
   ],
   "source": [
    "prompt = f\"\"\"Please suggest a recipe that tries to include the following ingredients:\n",
    "{food_preferences_tommy[\"favorite_ingredients\"]}\n",
    "The recipe should adhere to the following dietary restrictions:\n",
    "{food_preferences_tommy[\"dietary_restrictions\"]}\n",
    "The difficulty of the recipe should be:\n",
    "{food_preferences_tommy[\"experience_level\"]}\n",
    "The maximum spice level on a scale of 10 should be:\n",
    "{food_preferences_tommy[\"maximum_spice_level\"]}\n",
    "Provide a two sentence description.\n",
    "\n",
    "The recipe should not include spices outside of this list:\n",
    "Spices: {available_spices}\n",
    "\"\"\"\n",
    "print(prompt)"
   ]
  },
  {
   "cell_type": "code",
   "execution_count": 22,
   "id": "8d5cbe11-8047-4632-885d-63b7f403f950",
   "metadata": {},
   "outputs": [
    {
     "name": "stdout",
     "output_type": "stream",
     "text": [
      "vegetarian\n"
     ]
    }
   ],
   "source": [
    "print(food_preferences_tommy[\"dietary_restrictions\"])"
   ]
  },
  {
   "cell_type": "code",
   "execution_count": 24,
   "id": "c46aa7f6-b80d-4d0b-8009-d6daea03daf4",
   "metadata": {},
   "outputs": [],
   "source": [
    "food_preferences_tommy[\"is_vegetarian\"] = True"
   ]
  },
  {
   "cell_type": "code",
   "execution_count": 26,
   "id": "376e748c-4ecd-4e27-911f-91821ab8abd5",
   "metadata": {},
   "outputs": [
    {
     "name": "stdout",
     "output_type": "stream",
     "text": [
      "{'dietary_restrictions': 'vegetarian', 'favorite_ingredients': ['tofu', 'olives'], 'experience_level': 'intermediate', 'maximum_spice_level': 6, 'is_vegetarian': True}\n"
     ]
    }
   ],
   "source": [
    "print(food_preferences_tommy)"
   ]
  },
  {
   "cell_type": "markdown",
   "id": "32c1afa6-78a8-4ca4-b7de-ae9ac7d6a60f",
   "metadata": {},
   "source": [
    "## Booleans"
   ]
  },
  {
   "cell_type": "code",
   "execution_count": 30,
   "id": "d84924d5-2dbb-4364-930e-4b17f425999b",
   "metadata": {},
   "outputs": [],
   "source": [
    "food_preferences_tommy = {\n",
    "    # \"dietary_restrictions\": \"vegetarian\",\n",
    "    \"favorite_ingredients\": [\"tofu\", \"olives\"],\n",
    "    \"experience_level\": \"intermediate\",\n",
    "    \"maximum_spice_level\": 6\n",
    "}\n",
    "\n",
    "food_preferences_tommy[\"is_vegetarian\"] = True"
   ]
  },
  {
   "cell_type": "code",
   "execution_count": 34,
   "id": "5df98967-5183-409f-95f8-0e5a0c81b8d7",
   "metadata": {
    "scrolled": true
   },
   "outputs": [
    {
     "name": "stdout",
     "output_type": "stream",
     "text": [
      "{'favorite_ingredients': ['tofu', 'olives'], 'experience_level': 'intermediate', 'maximum_spice_level': 6, 'is_vegetarian': True}\n"
     ]
    }
   ],
   "source": [
    "print(food_preferences_tommy)"
   ]
  },
  {
   "cell_type": "code",
   "execution_count": 36,
   "id": "3037cebb-3727-44e5-9692-75459c96e865",
   "metadata": {},
   "outputs": [
    {
     "name": "stdout",
     "output_type": "stream",
     "text": [
      "True\n",
      "False\n"
     ]
    },
    {
     "data": {
      "text/plain": [
       "bool"
      ]
     },
     "execution_count": 36,
     "metadata": {},
     "output_type": "execute_result"
    }
   ],
   "source": [
    "print(True)\n",
    "print(False)\n",
    "type(True)"
   ]
  },
  {
   "cell_type": "code",
   "execution_count": 38,
   "id": "4ef38e4a-5a93-478d-a8e1-6f2b8257390f",
   "metadata": {},
   "outputs": [
    {
     "data": {
      "text/plain": [
       "bool"
      ]
     },
     "execution_count": 38,
     "metadata": {},
     "output_type": "execute_result"
    }
   ],
   "source": [
    "type(False)"
   ]
  },
  {
   "cell_type": "code",
   "execution_count": 41,
   "id": "e893dbc3-6ed4-4126-a5e2-bf947395c3c6",
   "metadata": {},
   "outputs": [
    {
     "name": "stdout",
     "output_type": "stream",
     "text": [
      "True\n",
      "False\n"
     ]
    }
   ],
   "source": [
    "is_tommy_my_friend = True\n",
    "is_isabel_older_than_me = False\n",
    "\n",
    "print(is_tommy_my_friend)\n",
    "print(is_isabel_older_than_me)"
   ]
  },
  {
   "cell_type": "code",
   "execution_count": 43,
   "id": "5015285a-26dc-4704-926e-1d7b6a596c92",
   "metadata": {},
   "outputs": [],
   "source": [
    "isabel_age = 28\n",
    "daniel_age = 30\n",
    "tommy_age = 30"
   ]
  },
  {
   "cell_type": "code",
   "execution_count": 45,
   "id": "ca89bc69-5d3d-407d-8b29-5d76cdc30b7d",
   "metadata": {},
   "outputs": [
    {
     "name": "stdout",
     "output_type": "stream",
     "text": [
      "False\n"
     ]
    }
   ],
   "source": [
    "print(isabel_age > daniel_age)"
   ]
  },
  {
   "cell_type": "code",
   "execution_count": 47,
   "id": "1a4c8bda-5966-420a-9b3b-2539eedbb232",
   "metadata": {},
   "outputs": [
    {
     "name": "stdout",
     "output_type": "stream",
     "text": [
      "True\n"
     ]
    }
   ],
   "source": [
    "print(isabel_age < daniel_age)"
   ]
  },
  {
   "cell_type": "code",
   "execution_count": 49,
   "id": "ac457fd9-7201-467e-84fc-2d5db064c779",
   "metadata": {},
   "outputs": [
    {
     "name": "stdout",
     "output_type": "stream",
     "text": [
      "False\n"
     ]
    }
   ],
   "source": [
    "is_isabel_older_than_daniel = isabel_age > daniel_age\n",
    "print(is_isabel_older_than_daniel)"
   ]
  },
  {
   "cell_type": "code",
   "execution_count": 51,
   "id": "8e69f0cc-0884-4311-9f09-abd57290c009",
   "metadata": {},
   "outputs": [
    {
     "name": "stdout",
     "output_type": "stream",
     "text": [
      "True\n"
     ]
    }
   ],
   "source": [
    "print(isabel_age <= daniel_age)"
   ]
  },
  {
   "cell_type": "code",
   "execution_count": 53,
   "id": "2e87f80d-2aa4-4ad7-a943-951de903bc62",
   "metadata": {},
   "outputs": [
    {
     "name": "stdout",
     "output_type": "stream",
     "text": [
      "False\n"
     ]
    }
   ],
   "source": [
    "print(tommy_age < daniel_age)"
   ]
  },
  {
   "cell_type": "code",
   "execution_count": 55,
   "id": "6704d685-e715-4239-ae11-d161a6decd2f",
   "metadata": {},
   "outputs": [
    {
     "name": "stdout",
     "output_type": "stream",
     "text": [
      "True\n"
     ]
    }
   ],
   "source": [
    "print(tommy_age <= daniel_age)"
   ]
  },
  {
   "cell_type": "code",
   "execution_count": 57,
   "id": "30795139-a57c-430d-8bc1-74b471046f9b",
   "metadata": {},
   "outputs": [
    {
     "name": "stdout",
     "output_type": "stream",
     "text": [
      "False\n"
     ]
    }
   ],
   "source": [
    "print(tommy_age > daniel_age)"
   ]
  },
  {
   "cell_type": "code",
   "execution_count": 59,
   "id": "cd705e6d-127e-4e3f-afe4-39663a0b9667",
   "metadata": {},
   "outputs": [
    {
     "name": "stdout",
     "output_type": "stream",
     "text": [
      "True\n"
     ]
    }
   ],
   "source": [
    "print(tommy_age >= daniel_age)"
   ]
  },
  {
   "cell_type": "code",
   "execution_count": 61,
   "id": "964ea107-3e5a-4453-a5b3-d11dd22a31c0",
   "metadata": {},
   "outputs": [
    {
     "name": "stdout",
     "output_type": "stream",
     "text": [
      "True\n"
     ]
    }
   ],
   "source": [
    "print(tommy_age == daniel_age)"
   ]
  },
  {
   "cell_type": "code",
   "execution_count": 63,
   "id": "908b8447-192a-49e5-b49b-fce2bc587714",
   "metadata": {},
   "outputs": [
    {
     "name": "stdout",
     "output_type": "stream",
     "text": [
      "False\n"
     ]
    }
   ],
   "source": [
    "print(isabel_age == daniel_age)"
   ]
  },
  {
   "cell_type": "code",
   "execution_count": 95,
   "id": "48524019-3f80-40d3-9825-de30cb3dfa99",
   "metadata": {},
   "outputs": [
    {
     "name": "stdout",
     "output_type": "stream",
     "text": [
      "False\n",
      "False\n",
      "True\n"
     ]
    }
   ],
   "source": [
    "print(\"vegetarian\" == \"vegan\")\n",
    "print(\"fives\" == \"vegan\")\n",
    "print(\"vegan\" == \"vegan\")"
   ]
  },
  {
   "cell_type": "code",
   "execution_count": 87,
   "id": "87c9ebc0-33cd-4a93-946b-b93e69d51137",
   "metadata": {},
   "outputs": [
    {
     "name": "stdout",
     "output_type": "stream",
     "text": [
      "True\n",
      "True\n"
     ]
    }
   ],
   "source": [
    "is_tommy_my_friend = True\n",
    "is_isabel_my_friend = True\n",
    "\n",
    "print(is_tommy_my_friend and is_isabel_my_friend)\n",
    "print(is_tommy_my_friend or is_isabel_my_friend)"
   ]
  },
  {
   "cell_type": "code",
   "execution_count": 89,
   "id": "5f5926c5-5d52-42bb-805e-92d67febbd6d",
   "metadata": {
    "scrolled": true
   },
   "outputs": [
    {
     "name": "stdout",
     "output_type": "stream",
     "text": [
      "False\n",
      "True\n"
     ]
    }
   ],
   "source": [
    "is_tommy_my_friend = True\n",
    "is_isabel_my_friend = False\n",
    "\n",
    "print(is_tommy_my_friend and is_isabel_my_friend)\n",
    "print(is_tommy_my_friend or is_isabel_my_friend)"
   ]
  },
  {
   "cell_type": "code",
   "execution_count": 93,
   "id": "61381aa7-c425-4bdc-af50-5bdb774c0fa3",
   "metadata": {},
   "outputs": [
    {
     "name": "stdout",
     "output_type": "stream",
     "text": [
      "True\n",
      "True\n"
     ]
    }
   ],
   "source": [
    "isabel_age = 28\n",
    "daniel_age = 30\n",
    "tommy_age = 30\n",
    "\n",
    "is_isabel_younger_than_tommy = isabel_age < tommy_age\n",
    "is_isabel_younger_than_daniel = isabel_age < daniel_age\n",
    "\n",
    "print(is_isabel_younger_than_tommy and is_isabel_younger_than_daniel)\n",
    "print(is_isabel_younger_than_tommy or is_isabel_younger_than_daniel)"
   ]
  },
  {
   "cell_type": "code",
   "execution_count": 97,
   "id": "8c9a3aee-5c13-433f-87a2-6ff80020384d",
   "metadata": {},
   "outputs": [],
   "source": [
    "task_list = [\n",
    "    {\n",
    "        \"description\": \"Compose a brief email to my boss explaining that I will be late for next week's meeting.\",\n",
    "        \"time_to_complete\": 3\n",
    "    },\n",
    "    {\n",
    "        \"description\": \"Create an outline for a presentation on the benefits of remote work.\",\n",
    "        \"time_to_complete\": 60\n",
    "    },\n",
    "    {\n",
    "        \"description\": \"Write a 300-word review of the movie 'The Arrival'.\",\n",
    "        \"time_to_complete\": 30\n",
    "    },\n",
    "    {\n",
    "        \"description\": \"Create a shopping list for tofu and olive stir fry.\",\n",
    "        \"time_to_complete\": 5\n",
    "    }\n",
    "]"
   ]
  },
  {
   "cell_type": "code",
   "execution_count": 111,
   "id": "edd959b3-0fa0-43d2-9478-6cbd0a5fa192",
   "metadata": {},
   "outputs": [
    {
     "name": "stdout",
     "output_type": "stream",
     "text": [
      "{'description': \"Compose a brief email to my boss explaining that I will be late for next week's meeting.\", 'time_to_complete': 3}\n"
     ]
    }
   ],
   "source": [
    "task = task_list[0]\n",
    "print(task)"
   ]
  },
  {
   "cell_type": "code",
   "execution_count": 113,
   "id": "02343879-cbc6-4e5b-8710-d14778f7088d",
   "metadata": {},
   "outputs": [
    {
     "data": {
      "text/plain": [
       "True"
      ]
     },
     "execution_count": 113,
     "metadata": {},
     "output_type": "execute_result"
    }
   ],
   "source": [
    "task[\"time_to_complete\"] <= 5"
   ]
  },
  {
   "cell_type": "code",
   "execution_count": 115,
   "id": "31419865-271a-4011-8588-f9daf5c3ba00",
   "metadata": {},
   "outputs": [
    {
     "name": "stdout",
     "output_type": "stream",
     "text": [
      "Compose a brief email to my boss explaining that I will be late for next week's meeting.\n"
     ]
    }
   ],
   "source": [
    "if task[\"time_to_complete\"] <= 5:\n",
    "    task_to_do = task[\"description\"]\n",
    "    print(task_to_do)"
   ]
  },
  {
   "cell_type": "code",
   "execution_count": 121,
   "id": "5a1903b0-291e-4053-9c3e-a031da04c46d",
   "metadata": {},
   "outputs": [],
   "source": [
    "task = task_list[1]\n",
    "if task[\"time_to_complete\"] <= 5:\n",
    "    task_to_do = task[\"description\"]\n",
    "    print(task_to_do)"
   ]
  },
  {
   "cell_type": "code",
   "execution_count": 125,
   "id": "59a6f874-9300-4d8d-a0a6-af3596d4e700",
   "metadata": {},
   "outputs": [],
   "source": [
    "task = task_list[2]\n",
    "if task[\"time_to_complete\"] <= 5:\n",
    "    task_to_do = task[\"description\"]\n",
    "    print(task_to_do)"
   ]
  },
  {
   "cell_type": "code",
   "execution_count": 127,
   "id": "673b87eb-4307-442e-a0fd-9986efdb73ab",
   "metadata": {},
   "outputs": [
    {
     "name": "stdout",
     "output_type": "stream",
     "text": [
      "Create a shopping list for tofu and olive stir fry.\n"
     ]
    }
   ],
   "source": [
    "task = task_list[3]\n",
    "if task[\"time_to_complete\"] <= 5:\n",
    "    task_to_do = task[\"description\"]\n",
    "    print(task_to_do)"
   ]
  },
  {
   "cell_type": "code",
   "execution_count": 129,
   "id": "056b59a7-c7f2-4cd5-a718-973f3f55e09a",
   "metadata": {},
   "outputs": [
    {
     "name": "stdout",
     "output_type": "stream",
     "text": [
      "False\n"
     ]
    }
   ],
   "source": [
    "task = task_list[1]\n",
    "if task[\"time_to_complete\"] <= 5:\n",
    "    task_to_do = task[\"description\"]\n",
    "    print(task_to_do)\n",
    "else: \n",
    "    print(False)"
   ]
  },
  {
   "cell_type": "code",
   "execution_count": 135,
   "id": "2b984e1a-cc1b-4bcd-96fe-b824a17fb9e2",
   "metadata": {},
   "outputs": [
    {
     "name": "stdout",
     "output_type": "stream",
     "text": [
      "Compose a brief email to my boss explaining that I will be late for next week's meeting.\n",
      "Create a shopping list for tofu and olive stir fry.\n"
     ]
    }
   ],
   "source": [
    "for task in task_list:\n",
    "    if task[\"time_to_complete\"] <= 5:\n",
    "        task_to_do = task[\"description\"]\n",
    "        print(task_to_do)"
   ]
  },
  {
   "cell_type": "code",
   "execution_count": 149,
   "id": "aac5e1a1-93dd-45be-9eae-d3e951edad96",
   "metadata": {},
   "outputs": [
    {
     "name": "stdout",
     "output_type": "stream",
     "text": [
      "Compose a brief email to my boss explaining that I will be late for next week's meeting.\n",
      "To complete later: 60 time to complete.\n",
      "To complete later: 30 time to complete.\n",
      "Create a shopping list for tofu and olive stir fry.\n"
     ]
    }
   ],
   "source": [
    "for task in task_list:\n",
    "    if task[\"time_to_complete\"] <= 5:\n",
    "        task_to_do = task[\"description\"]\n",
    "        print(task_to_do)\n",
    "    else:\n",
    "        print(f\"To complete later: {task[\"time_to_complete\"]} time to complete.\")"
   ]
  },
  {
   "cell_type": "code",
   "execution_count": 151,
   "id": "35dcd79e-2ae6-49a6-bafe-c813423f90ba",
   "metadata": {},
   "outputs": [
    {
     "name": "stdout",
     "output_type": "stream",
     "text": [
      "Compose a brief email to my boss explaining that I will be late for next week's meeting.\n",
      "Create a shopping list for tofu and olive stir fry.\n"
     ]
    }
   ],
   "source": [
    "tasks_for_later = []\n",
    "\n",
    "for task in task_list:\n",
    "    if task[\"time_to_complete\"] <= 5:\n",
    "        task_to_do = task[\"description\"]\n",
    "        print(task_to_do)\n",
    "    else:\n",
    "        tasks_for_later.append(task)"
   ]
  },
  {
   "cell_type": "code",
   "execution_count": 153,
   "id": "fbe96745-c471-4ad0-9d95-2ad8f812f080",
   "metadata": {},
   "outputs": [
    {
     "name": "stdout",
     "output_type": "stream",
     "text": [
      "[{'description': 'Create an outline for a presentation on the benefits of remote work.', 'time_to_complete': 60}, {'description': \"Write a 300-word review of the movie 'The Arrival'.\", 'time_to_complete': 30}]\n"
     ]
    }
   ],
   "source": [
    "print(tasks_for_later)"
   ]
  },
  {
   "cell_type": "code",
   "execution_count": 157,
   "id": "97d44c06-a94f-4cc5-b4cb-ff0f4fb7a751",
   "metadata": {},
   "outputs": [
    {
     "name": "stdout",
     "output_type": "stream",
     "text": [
      "\n",
      "Embarking on a gastronomic journey through Cape Town revealed a city brimming with culinary treasures. Each stop was a testament to the rich flavors and unique dishes that define this vibrant city's food scene.\n",
      "\n",
      "My first destination was The Test Kitchen, a restaurant that has earned its place among the world's best. Situated in the trendy Woodstock area, this dining spot is celebrated for its innovative dishes. I was particularly taken by their signature dish, the \"Pickled Fish Tacos.\" The tangy, flavorful fish wrapped in a soft taco, paired with a zesty salsa, was a delightful start to my culinary adventure. The industrial-chic ambiance added a modern edge to the dining experience.\n",
      "\n",
      "Next, I made my way to La Colombe, perched on the slopes of Constantia. Known for its refined and artistic approach to cuisine, La Colombe's \"Tuna La Colombe\" is a must-try. This dish features perfectly seared tuna, complemented by a delicate ponzu dressing and bursts of citrus. The presentation was as exquisite as the flavors, making it a memorable highlight of the day.\n",
      "\n",
      "For a taste of traditional South African fare, I headed to Gold Restaurant. Located in Green Point, this vibrant eatery offers a culinary tour of the continent. The \"Bobotie,\" a classic Cape Malay dish, stood out with its spiced minced meat topped with a savory custard. The rich, aromatic flavors, combined with the lively African drumming and dance performances, created an immersive cultural experience.\n",
      "\n",
      "At the bustling V&A Waterfront, I visited Harbour House for some of the freshest seafood in town. The \"Grilled Kingklip\" was a revelation. The succulent, flaky fish, grilled to perfection and served with a side of roasted vegetables, highlighted the ocean's bounty. The stunning views of the harbor added to the meal's appeal.\n",
      "\n",
      "Finally, my journey concluded at The Pot Luck Club, another gem in Woodstock. This trendy spot is known for its small plates, perfect for sharing. The standout dish was the \"Beef Tataki.\" Thinly sliced, seared beef with a tangy soy dressing and a hint of wasabi provided a burst of umami and heat. The eclectic, artistic vibe of the restaurant made for a fitting end to my culinary tour.\n",
      "\n"
     ]
    }
   ],
   "source": [
    "journal = f\"\"\"\n",
    "Embarking on a gastronomic journey through Cape Town revealed a city brimming with culinary treasures. Each stop was a testament to the rich flavors and unique dishes that define this vibrant city's food scene.\n",
    "\n",
    "My first destination was The Test Kitchen, a restaurant that has earned its place among the world's best. Situated in the trendy Woodstock area, this dining spot is celebrated for its innovative dishes. I was particularly taken by their signature dish, the \"Pickled Fish Tacos.\" The tangy, flavorful fish wrapped in a soft taco, paired with a zesty salsa, was a delightful start to my culinary adventure. The industrial-chic ambiance added a modern edge to the dining experience.\n",
    "\n",
    "Next, I made my way to La Colombe, perched on the slopes of Constantia. Known for its refined and artistic approach to cuisine, La Colombe's \"Tuna La Colombe\" is a must-try. This dish features perfectly seared tuna, complemented by a delicate ponzu dressing and bursts of citrus. The presentation was as exquisite as the flavors, making it a memorable highlight of the day.\n",
    "\n",
    "For a taste of traditional South African fare, I headed to Gold Restaurant. Located in Green Point, this vibrant eatery offers a culinary tour of the continent. The \"Bobotie,\" a classic Cape Malay dish, stood out with its spiced minced meat topped with a savory custard. The rich, aromatic flavors, combined with the lively African drumming and dance performances, created an immersive cultural experience.\n",
    "\n",
    "At the bustling V&A Waterfront, I visited Harbour House for some of the freshest seafood in town. The \"Grilled Kingklip\" was a revelation. The succulent, flaky fish, grilled to perfection and served with a side of roasted vegetables, highlighted the ocean's bounty. The stunning views of the harbor added to the meal's appeal.\n",
    "\n",
    "Finally, my journey concluded at The Pot Luck Club, another gem in Woodstock. This trendy spot is known for its small plates, perfect for sharing. The standout dish was the \"Beef Tataki.\" Thinly sliced, seared beef with a tangy soy dressing and a hint of wasabi provided a burst of umami and heat. The eclectic, artistic vibe of the restaurant made for a fitting end to my culinary tour.\n",
    "\"\"\"\n",
    "\n",
    "print(journal)"
   ]
  },
  {
   "cell_type": "code",
   "execution_count": 159,
   "id": "631ec531-ff28-4d8e-9a3d-f99e70877685",
   "metadata": {},
   "outputs": [],
   "source": [
    "prompt = f\"\"\"\n",
    "Given the following journal entry from a food critic, identify the restaurants and their specialties.\n",
    "For each restaurant, highlight its name and specialties in bold and use different colors for each.\n",
    "Provide the output as HTML suitable for display in a Jupyter notebook.\n",
    "\n",
    "Journal entry:\n",
    "{journal}\n",
    "\"\"\""
   ]
  },
  {
   "cell_type": "code",
   "execution_count": 165,
   "id": "4525a838-6e24-4ae7-aec7-fba1f2070b15",
   "metadata": {},
   "outputs": [],
   "source": [
    "html_response = \"\"\"\n",
    "<div>\n",
    "  <p>Embarking on a gastronomic journey through Cape Town revealed a city brimming with culinary treasures. Each stop was a testament to the rich flavors and unique dishes that define this vibrant city's food scene.</p>\n",
    "\n",
    "  <p>My first destination was <b style=\"color: #FF6347;\">The Test Kitchen</b>, a restaurant that has earned its place among the world's best. Situated in the trendy Woodstock area, this dining spot is celebrated for its innovative dishes. I was particularly taken by their signature dish, the <b style=\"color: #4682B4;\">\"Pickled Fish Tacos\"</b>. The tangy, flavorful fish wrapped in a soft taco, paired with a zesty salsa, was a delightful start to my culinary adventure. The industrial-chic ambiance added a modern edge to the dining experience.</p>\n",
    "\n",
    "  <p>Next, I made my way to <b style=\"color: #32CD32;\">La Colombe</b>, perched on the slopes of Constantia. Known for its refined and artistic approach to cuisine, <b style=\"color: #6A5ACD;\">La Colombe's \"Tuna La Colombe\"</b> is a must-try. This dish features perfectly seared tuna, complemented by a delicate ponzu dressing and bursts of citrus. The presentation was as exquisite as the flavors, making it a memorable highlight of the day.</p>\n",
    "\n",
    "  <p>For a taste of traditional South African fare, I headed to <b style=\"color: #FFD700;\">Gold Restaurant</b>. Located in Green Point, this vibrant eatery offers a culinary tour of the continent. The <b style=\"color: #DA70D6;\">\"Bobotie\"</b>, a classic Cape Malay dish, stood out with its spiced minced meat topped with a savory custard. The rich, aromatic flavors, combined with the lively African drumming and dance performances, created an immersive cultural experience.</p>\n",
    "\n",
    "  <p>At the bustling V&A Waterfront, I visited <b style=\"color: #ADD8E6;\">Harbour House</b> for some of the freshest seafood in town. The <b style=\"color: #FF4500;\">\"Grilled Kingklip\"</b> was a revelation. The succulent, flaky fish, grilled to perfection and served with a side of roasted vegetables, highlighted the ocean's bounty. The stunning views of the harbor added to the meal's appeal.</p>\n",
    "\n",
    "  <p>Finally, my journey concluded at <b style=\"color: #8A2BE2;\">The Pot Luck Club</b>, another gem in Woodstock. This trendy spot is known for its small plates, perfect for sharing. The standout dish was the <b style=\"color: #FF8C00;\">\"Beef Tataki\"</b>. Thinly sliced, seared beef with a tangy soy dressing and a hint of wasabi provided a burst of umami and heat. The eclectic, artistic vibe of the restaurant made for a fitting end to my culinary tour.</p>\n",
    "</div>\n",
    "\"\"\""
   ]
  },
  {
   "cell_type": "code",
   "execution_count": 167,
   "id": "2c04a791-107e-4bcd-a16a-cd1e366cdb7d",
   "metadata": {},
   "outputs": [
    {
     "data": {
      "text/html": [
       "\n",
       "<div>\n",
       "  <p>Embarking on a gastronomic journey through Cape Town revealed a city brimming with culinary treasures. Each stop was a testament to the rich flavors and unique dishes that define this vibrant city's food scene.</p>\n",
       "\n",
       "  <p>My first destination was <b style=\"color: #FF6347;\">The Test Kitchen</b>, a restaurant that has earned its place among the world's best. Situated in the trendy Woodstock area, this dining spot is celebrated for its innovative dishes. I was particularly taken by their signature dish, the <b style=\"color: #4682B4;\">\"Pickled Fish Tacos\"</b>. The tangy, flavorful fish wrapped in a soft taco, paired with a zesty salsa, was a delightful start to my culinary adventure. The industrial-chic ambiance added a modern edge to the dining experience.</p>\n",
       "\n",
       "  <p>Next, I made my way to <b style=\"color: #32CD32;\">La Colombe</b>, perched on the slopes of Constantia. Known for its refined and artistic approach to cuisine, <b style=\"color: #6A5ACD;\">La Colombe's \"Tuna La Colombe\"</b> is a must-try. This dish features perfectly seared tuna, complemented by a delicate ponzu dressing and bursts of citrus. The presentation was as exquisite as the flavors, making it a memorable highlight of the day.</p>\n",
       "\n",
       "  <p>For a taste of traditional South African fare, I headed to <b style=\"color: #FFD700;\">Gold Restaurant</b>. Located in Green Point, this vibrant eatery offers a culinary tour of the continent. The <b style=\"color: #DA70D6;\">\"Bobotie\"</b>, a classic Cape Malay dish, stood out with its spiced minced meat topped with a savory custard. The rich, aromatic flavors, combined with the lively African drumming and dance performances, created an immersive cultural experience.</p>\n",
       "\n",
       "  <p>At the bustling V&A Waterfront, I visited <b style=\"color: #ADD8E6;\">Harbour House</b> for some of the freshest seafood in town. The <b style=\"color: #FF4500;\">\"Grilled Kingklip\"</b> was a revelation. The succulent, flaky fish, grilled to perfection and served with a side of roasted vegetables, highlighted the ocean's bounty. The stunning views of the harbor added to the meal's appeal.</p>\n",
       "\n",
       "  <p>Finally, my journey concluded at <b style=\"color: #8A2BE2;\">The Pot Luck Club</b>, another gem in Woodstock. This trendy spot is known for its small plates, perfect for sharing. The standout dish was the <b style=\"color: #FF8C00;\">\"Beef Tataki\"</b>. Thinly sliced, seared beef with a tangy soy dressing and a hint of wasabi provided a burst of umami and heat. The eclectic, artistic vibe of the restaurant made for a fitting end to my culinary tour.</p>\n",
       "</div>\n"
      ],
      "text/plain": [
       "<IPython.core.display.HTML object>"
      ]
     },
     "metadata": {},
     "output_type": "display_data"
    }
   ],
   "source": [
    "from IPython.display import display, HTML\n",
    "display(HTML(html_response))"
   ]
  }
 ],
 "metadata": {
  "kernelspec": {
   "display_name": "Python [conda env:base] *",
   "language": "python",
   "name": "conda-base-py"
  },
  "language_info": {
   "codemirror_mode": {
    "name": "ipython",
    "version": 3
   },
   "file_extension": ".py",
   "mimetype": "text/x-python",
   "name": "python",
   "nbconvert_exporter": "python",
   "pygments_lexer": "ipython3",
   "version": "3.12.3"
  }
 },
 "nbformat": 4,
 "nbformat_minor": 5
}
