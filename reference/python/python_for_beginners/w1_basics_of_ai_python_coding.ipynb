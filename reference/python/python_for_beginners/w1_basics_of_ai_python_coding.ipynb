{
 "cells": [
  {
   "cell_type": "markdown",
   "id": "388c134f-c18f-40b0-9c88-89694654a98c",
   "metadata": {
    "jp-MarkdownHeadingCollapsed": true
   },
   "source": [
    "# Types, Strings, F-Strings"
   ]
  },
  {
   "cell_type": "code",
   "execution_count": 1,
   "id": "c8eebd61-841b-4f29-9a7a-7a101e808a58",
   "metadata": {},
   "outputs": [
    {
     "name": "stdout",
     "output_type": "stream",
     "text": [
      "Hello World! My name is Kevin and I am 33\n"
     ]
    }
   ],
   "source": [
    "name = 'Kevin'\n",
    "age = 33\n",
    "print('Hello World! My name is {} and I am {}'.format(name, age))"
   ]
  },
  {
   "cell_type": "code",
   "execution_count": 2,
   "id": "329a2c58-5508-437c-ba74-933ec61000f4",
   "metadata": {},
   "outputs": [
    {
     "name": "stdout",
     "output_type": "stream",
     "text": [
      "My name is Kevin and I am 33.\n"
     ]
    }
   ],
   "source": [
    "# formatted f-strings\n",
    "name = 'Kevin'\n",
    "age = 33\n",
    "print(f'My name is {name} and I am {age}.')"
   ]
  },
  {
   "cell_type": "code",
   "execution_count": 3,
   "id": "87171a97-05af-4f45-8659-a15ac17ebbd2",
   "metadata": {},
   "outputs": [
    {
     "name": "stdout",
     "output_type": "stream",
     "text": [
      "Hello, Kevin!\n"
     ]
    }
   ],
   "source": [
    "print(\"Hello, Kevin!\")"
   ]
  },
  {
   "cell_type": "code",
   "execution_count": 4,
   "id": "e136ade6-f340-4462-b766-7081b74e554b",
   "metadata": {},
   "outputs": [
    {
     "name": "stdout",
     "output_type": "stream",
     "text": [
      "My favorite color is blue\n"
     ]
    }
   ],
   "source": [
    "print(\"My favorite color is blue\")"
   ]
  },
  {
   "cell_type": "code",
   "execution_count": 5,
   "id": "f74d70e9-c566-4557-9796-a29d4ff338c4",
   "metadata": {},
   "outputs": [
    {
     "name": "stdout",
     "output_type": "stream",
     "text": [
      "How are you feeling today?\n"
     ]
    }
   ],
   "source": [
    "print(\"How are you feeling today?\")"
   ]
  },
  {
   "cell_type": "code",
   "execution_count": 6,
   "id": "ad1b019b-a8d7-47c6-8ce8-b0df365a3bfc",
   "metadata": {},
   "outputs": [
    {
     "name": "stdout",
     "output_type": "stream",
     "text": [
      "Hello, World! It's great to be here!\n"
     ]
    }
   ],
   "source": [
    "# Multiline string\n",
    "print(\"\"\"Hello, World! It's great to be here!\"\"\")"
   ]
  },
  {
   "cell_type": "code",
   "execution_count": 7,
   "id": "9c41cb1d-24af-42b5-bd36-72e3c12b194d",
   "metadata": {},
   "outputs": [
    {
     "name": "stdout",
     "output_type": "stream",
     "text": [
      "Hello, World! \n",
      "It's great to be here!\n"
     ]
    }
   ],
   "source": [
    "print(\"\"\"Hello, World! \n",
    "It's great to be here!\"\"\")"
   ]
  },
  {
   "cell_type": "code",
   "execution_count": 8,
   "id": "79a98a79-b908-4611-beeb-d130e0d678bc",
   "metadata": {},
   "outputs": [
    {
     "name": "stdout",
     "output_type": "stream",
     "text": [
      "Hello, World! \n",
      "It's great to be here!\n"
     ]
    }
   ],
   "source": [
    "print(\"\"\"Hello, World! \\nIt's great to be here!\"\"\")"
   ]
  },
  {
   "cell_type": "code",
   "execution_count": 9,
   "id": "8e94164b-8a57-478e-a13a-3e86cdf56909",
   "metadata": {},
   "outputs": [
    {
     "data": {
      "text/plain": [
       "str"
      ]
     },
     "execution_count": 9,
     "metadata": {},
     "output_type": "execute_result"
    }
   ],
   "source": [
    "# Type function\n",
    "type(\"Hello, World!\")"
   ]
  },
  {
   "cell_type": "code",
   "execution_count": 10,
   "id": "87d2aae5-de0b-4445-8b32-3f7640874de0",
   "metadata": {},
   "outputs": [
    {
     "data": {
      "text/plain": [
       "float"
      ]
     },
     "execution_count": 10,
     "metadata": {},
     "output_type": "execute_result"
    }
   ],
   "source": [
    "type(10.0)"
   ]
  },
  {
   "cell_type": "code",
   "execution_count": 11,
   "id": "19b067d7-9464-4ae5-a4b6-544222e0b693",
   "metadata": {},
   "outputs": [
    {
     "data": {
      "text/plain": [
       "int"
      ]
     },
     "execution_count": 11,
     "metadata": {},
     "output_type": "execute_result"
    }
   ],
   "source": [
    "type(1)"
   ]
  },
  {
   "cell_type": "code",
   "execution_count": 12,
   "id": "d03fc40b-608d-4a2e-8470-926d04f46d3d",
   "metadata": {},
   "outputs": [
    {
     "data": {
      "text/plain": [
       "bool"
      ]
     },
     "execution_count": 12,
     "metadata": {},
     "output_type": "execute_result"
    }
   ],
   "source": [
    "type(True)"
   ]
  },
  {
   "cell_type": "code",
   "execution_count": 13,
   "id": "40586505-2412-4804-919f-826c25abdc03",
   "metadata": {},
   "outputs": [
    {
     "name": "stdout",
     "output_type": "stream",
     "text": [
      "5\n",
      "17\n",
      "720\n",
      "1.6666666666666667\n",
      "1.628894626777442\n"
     ]
    }
   ],
   "source": [
    "# Calculator\n",
    "print(2 + 3)\n",
    "print(57 - 40)\n",
    "print(12 * 60)\n",
    "print(100 / 60)\n",
    "print(1.05 ** 10)"
   ]
  },
  {
   "cell_type": "code",
   "execution_count": 14,
   "id": "799f8b47-e301-4131-bfed-5772f249f2c2",
   "metadata": {},
   "outputs": [
    {
     "name": "stdout",
     "output_type": "stream",
     "text": [
      "23.88888888888889\n"
     ]
    }
   ],
   "source": [
    "print((75 - 32) * 5/9)"
   ]
  },
  {
   "cell_type": "code",
   "execution_count": 15,
   "id": "195183bb-6729-465b-9e5c-a27d96fcd09f",
   "metadata": {},
   "outputs": [
    {
     "name": "stdout",
     "output_type": "stream",
     "text": [
      "The temperature 75F in degrees Celsius is 23.89 C\n"
     ]
    }
   ],
   "source": [
    "# F-strings\n",
    "print(f\"The temperature 75F in degrees Celsius is {(75-32) * 5/9:.2f} C\")"
   ]
  },
  {
   "cell_type": "code",
   "execution_count": 16,
   "id": "ed43cdbb-ecbc-490b-a224-e680f30461f5",
   "metadata": {},
   "outputs": [
    {
     "name": "stdout",
     "output_type": "stream",
     "text": [
      "Isabel is 4.0 dog years old.\n"
     ]
    }
   ],
   "source": [
    "print(f\"Isabel is {28/7} dog years old.\")"
   ]
  },
  {
   "cell_type": "code",
   "execution_count": 17,
   "id": "0318d59a-de27-4037-952d-2172cd2897ad",
   "metadata": {},
   "outputs": [
    {
     "name": "stdout",
     "output_type": "stream",
     "text": [
      "Isabel is 4 dog years old.\n"
     ]
    }
   ],
   "source": [
    "print(f\"Isabel is {28/7:.0f} dog years old.\")"
   ]
  },
  {
   "cell_type": "code",
   "execution_count": 18,
   "id": "eed1bd34-a43d-4237-8d1e-e7ec51a3d1e2",
   "metadata": {},
   "outputs": [
    {
     "name": "stdout",
     "output_type": "stream",
     "text": [
      "\n",
      "    Most countries use the metric system for recipe measurement, \n",
      "    but American bakers use a different system. For example, they use \n",
      "    fluid ounces to measure liquids instead of milliliters (ml).\n",
      "    \n",
      "    So you need to convert recipe units to your local measuring system!\n",
      "    \n",
      "    For example, 8 fluid ounces of milk is 236.588 ml.\n",
      "    And 100ml of water is 3.381405650328842 fluid ounces.\n",
      "\n"
     ]
    }
   ],
   "source": [
    "print(f\"\"\"\n",
    "    Most countries use the metric system for recipe measurement, \n",
    "    but American bakers use a different system. For example, they use \n",
    "    fluid ounces to measure liquids instead of milliliters (ml).\n",
    "    \n",
    "    So you need to convert recipe units to your local measuring system!\n",
    "    \n",
    "    For example, 8 fluid ounces of milk is {8 * 29.5735} ml.\n",
    "    And 100ml of water is {100 / 29.5735} fluid ounces.\n",
    "\"\"\")"
   ]
  },
  {
   "cell_type": "code",
   "execution_count": 19,
   "id": "8912abe5-6aa9-494b-a1db-1e58756b5704",
   "metadata": {},
   "outputs": [
    {
     "name": "stdout",
     "output_type": "stream",
     "text": [
      "\n",
      "    Most countries use the metric system for recipe measurement, \n",
      "    but American bakers use a different system. For example, they use \n",
      "    fluid ounces to measure liquids instead of milliliters (ml).\n",
      "    \n",
      "    So you need to convert recipe units to your local measuring system!\n",
      "    \n",
      "    For example, 8 fluid ounces of milk is 236.59 ml.\n",
      "    And 100ml of water is 3.38 fluid ounces.\n",
      "\n"
     ]
    }
   ],
   "source": [
    "print(f\"\"\"\n",
    "    Most countries use the metric system for recipe measurement, \n",
    "    but American bakers use a different system. For example, they use \n",
    "    fluid ounces to measure liquids instead of milliliters (ml).\n",
    "    \n",
    "    So you need to convert recipe units to your local measuring system!\n",
    "    \n",
    "    For example, 8 fluid ounces of milk is {8 * 29.5735:.2f} ml.\n",
    "    And 100ml of water is {100 / 29.5735:.2f} fluid ounces.\n",
    "\"\"\")"
   ]
  },
  {
   "cell_type": "markdown",
   "id": "91087ae1-3f7b-4cc7-8180-9c6e1eac51b8",
   "metadata": {
    "jp-MarkdownHeadingCollapsed": true
   },
   "source": [
    "# Variables"
   ]
  },
  {
   "cell_type": "code",
   "execution_count": 21,
   "id": "2f686f90-038f-4f22-8670-91a7d9b2007a",
   "metadata": {},
   "outputs": [
    {
     "name": "stdout",
     "output_type": "stream",
     "text": [
      "5\n"
     ]
    }
   ],
   "source": [
    "age = 5\n",
    "print(age)"
   ]
  },
  {
   "cell_type": "code",
   "execution_count": 22,
   "id": "eac1fe33-3780-476e-b515-3f1da4683d7e",
   "metadata": {},
   "outputs": [
    {
     "name": "stdout",
     "output_type": "stream",
     "text": [
      "Name: Otto \n",
      "Age: 5\n"
     ]
    }
   ],
   "source": [
    "name = \"Otto\"\n",
    "gnome_height = 12.7\n",
    "print(f\"Name: {name} \\nAge: {age}\")"
   ]
  },
  {
   "cell_type": "code",
   "execution_count": 23,
   "id": "28db6583-f8e7-4724-adb9-5c5531151cbb",
   "metadata": {},
   "outputs": [
    {
     "name": "stdout",
     "output_type": "stream",
     "text": [
      "0\n",
      "50\n"
     ]
    }
   ],
   "source": [
    "score = 0\n",
    "print(score)\n",
    "\n",
    "score = score + 50\n",
    "print(score)"
   ]
  },
  {
   "cell_type": "code",
   "execution_count": 24,
   "id": "483bd1e1-a7fb-409e-acff-0cfa8dcb8a32",
   "metadata": {},
   "outputs": [
    {
     "name": "stdout",
     "output_type": "stream",
     "text": [
      "100\n"
     ]
    }
   ],
   "source": [
    "score += 50\n",
    "print(score)"
   ]
  },
  {
   "cell_type": "code",
   "execution_count": 25,
   "id": "d5f4fbe5-b95b-4800-9c18-e91d5718930a",
   "metadata": {},
   "outputs": [
    {
     "name": "stdout",
     "output_type": "stream",
     "text": [
      "Otto's dog age is 7. So a dog that's about\n",
      "7 would be the same age as Otto. Any dog born about 7\n",
      "years ago would be in the same stage of life as Otto.\n"
     ]
    }
   ],
   "source": [
    "dog_age = 49/7\n",
    "print(f\"\"\"Otto's dog age is {dog_age:.0f}. So a dog that's about\n",
    "{dog_age:.0f} would be the same age as Otto. Any dog born about {dog_age:.0f}\n",
    "years ago would be in the same stage of life as Otto.\"\"\")"
   ]
  },
  {
   "cell_type": "code",
   "execution_count": 26,
   "id": "83ef94f2-c75b-4b14-8b1f-91bba1d4f6f9",
   "metadata": {},
   "outputs": [
    {
     "name": "stdout",
     "output_type": "stream",
     "text": [
      "Otto's dog age is 8. So a dog that's about\n",
      "8 would be the same age as Otto. Any dog born about 8\n",
      "years ago would be in the same stage of life as Otto.\n"
     ]
    }
   ],
   "source": [
    "dog_age = 56/7\n",
    "print(f\"\"\"Otto's dog age is {dog_age:.0f}. So a dog that's about\n",
    "{dog_age:.0f} would be the same age as Otto. Any dog born about {dog_age:.0f}\n",
    "years ago would be in the same stage of life as Otto.\"\"\")"
   ]
  },
  {
   "cell_type": "code",
   "execution_count": 27,
   "id": "7b2902b7-b23b-4832-9d81-d2547f98cba9",
   "metadata": {},
   "outputs": [
    {
     "name": "stdout",
     "output_type": "stream",
     "text": [
      "Otto Matic's dog age is 8. So a dog that's about\n",
      "8 would be the same age as Otto Matic. Any dog born about 8\n",
      "years ago would be in the same stage of life as Otto Matic.\n"
     ]
    }
   ],
   "source": [
    "name = \"Otto Matic\"\n",
    "print(f\"\"\"{name}'s dog age is {dog_age:.0f}. So a dog that's about\n",
    "{dog_age:.0f} would be the same age as {name}. Any dog born about {dog_age:.0f}\n",
    "years ago would be in the same stage of life as {name}.\"\"\")"
   ]
  },
  {
   "cell_type": "code",
   "execution_count": 28,
   "id": "cbb05333-4f3e-4a3f-b5b2-eebb02fef497",
   "metadata": {},
   "outputs": [
    {
     "name": "stdout",
     "output_type": "stream",
     "text": [
      "I have visited 4 countries. I plan to visit 10 more countries, \n",
      "and when I'm done I will have visited 14 countries.\n"
     ]
    }
   ],
   "source": [
    "# Create two variables, 'countries_visited' and 'countries_to_visit' and assign them the number of\n",
    "# countries you've been to and the number of countries you hope to visit. Then complete the print statement.\n",
    "countries_visited = 4\n",
    "countries_to_visit = 10\n",
    "\n",
    "print(f\"\"\"I have visited {countries_visited} countries. I plan to visit {countries_to_visit} more countries, \n",
    "and when I'm done I will have visited {countries_visited + countries_to_visit} countries.\"\"\")"
   ]
  },
  {
   "cell_type": "code",
   "execution_count": 31,
   "id": "7db0858b-9d08-484e-a919-bccef7ecd33e",
   "metadata": {},
   "outputs": [],
   "source": [
    "drivers = \"unicorn\"\n",
    "drivers_vehicle = \"colorful, asymmetric dinosaur car\"\n",
    "favorite_planet = \"Pluto\""
   ]
  },
  {
   "cell_type": "code",
   "execution_count": 41,
   "id": "56203baa-3fab-472f-955a-876a43b6892f",
   "metadata": {},
   "outputs": [
    {
     "name": "stdout",
     "output_type": "stream",
     "text": [
      "Write me a 300 word children's story about a unicorn racing a colorful, asymmetric dinosaur car for the Pluto champion cup.\n"
     ]
    }
   ],
   "source": [
    "print(f\"\"\"Write me a 300 word children's story about a {drivers} racing a {drivers_vehicle} for the {favorite_planet} champion cup.\"\"\")"
   ]
  },
  {
   "cell_type": "markdown",
   "id": "3895a4a6-d64a-4731-96d1-b47606166624",
   "metadata": {
    "jp-MarkdownHeadingCollapsed": true
   },
   "source": [
    "# Functions"
   ]
  },
  {
   "cell_type": "code",
   "execution_count": 47,
   "id": "a5d3aa91-ba32-458b-b019-5b227e905b41",
   "metadata": {},
   "outputs": [
    {
     "name": "stdout",
     "output_type": "stream",
     "text": [
      "12\n"
     ]
    }
   ],
   "source": [
    "print(len(\"Hello World!\"))"
   ]
  },
  {
   "cell_type": "code",
   "execution_count": 59,
   "id": "c4d0d1d1-1a54-459e-a737-9fce89a37920",
   "metadata": {},
   "outputs": [
    {
     "name": "stdout",
     "output_type": "stream",
     "text": [
      "42.2\n"
     ]
    }
   ],
   "source": [
    "print(round(42.17, 1))"
   ]
  },
  {
   "cell_type": "code",
   "execution_count": 63,
   "id": "3b4bdd27-a1c9-49e7-935b-42b39d9f2074",
   "metadata": {},
   "outputs": [
    {
     "name": "stdout",
     "output_type": "stream",
     "text": [
      "The rounded number of 42.17 to 1 decimal place is 42.1\n"
     ]
    }
   ],
   "source": [
    "print(f\"The rounded number of 42.17 to 1 decimal place is {round(42.1, 1)}\")"
   ]
  },
  {
   "cell_type": "code",
   "execution_count": 65,
   "id": "db59f52b-f99d-460d-8d89-00aeaba4fba8",
   "metadata": {},
   "outputs": [
    {
     "name": "stdout",
     "output_type": "stream",
     "text": [
      "12\n"
     ]
    }
   ],
   "source": [
    "string_length = len(\"Hello World!\")\n",
    "print(string_length)"
   ]
  },
  {
   "cell_type": "code",
   "execution_count": 69,
   "id": "daafb3fd-2cd4-4093-bf1e-ec831a01fc08",
   "metadata": {},
   "outputs": [
    {
     "name": "stdout",
     "output_type": "stream",
     "text": [
      "Write a couplet about my friend Tommy who has about 5 potatoes\n"
     ]
    }
   ],
   "source": [
    "name = \"Tommy\"\n",
    "potatoes = 4.75\n",
    "prompt = f\"\"\"Write a couplet about my friend {name} who has about {round(potatoes)} potatoes\"\"\"\n",
    "print(prompt)"
   ]
  }
 ],
 "metadata": {
  "kernelspec": {
   "display_name": "Python [conda env:base] *",
   "language": "python",
   "name": "conda-base-py"
  },
  "language_info": {
   "codemirror_mode": {
    "name": "ipython",
    "version": 3
   },
   "file_extension": ".py",
   "mimetype": "text/x-python",
   "name": "python",
   "nbconvert_exporter": "python",
   "pygments_lexer": "ipython3",
   "version": "3.12.3"
  }
 },
 "nbformat": 4,
 "nbformat_minor": 5
}
