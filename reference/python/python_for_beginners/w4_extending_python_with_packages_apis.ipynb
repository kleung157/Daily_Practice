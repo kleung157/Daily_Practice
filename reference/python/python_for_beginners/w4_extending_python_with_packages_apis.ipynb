{
 "cells": [
  {
   "cell_type": "markdown",
   "id": "419986be-6629-4f0a-97ee-24460796d4e0",
   "metadata": {
    "jp-MarkdownHeadingCollapsed": true
   },
   "source": [
    "# Using Functions From a Local File"
   ]
  },
  {
   "cell_type": "code",
   "execution_count": 2,
   "id": "8a964b7f-87eb-4592-9a97-1b3507bc97d6",
   "metadata": {},
   "outputs": [],
   "source": [
    "from helper_functions import celsius_to_fahrenheit"
   ]
  },
  {
   "cell_type": "code",
   "execution_count": 3,
   "id": "8304fc92-24d0-41dd-a3b5-db325660d5e6",
   "metadata": {},
   "outputs": [
    {
     "data": {
      "text/plain": [
       "68.0"
      ]
     },
     "execution_count": 3,
     "metadata": {},
     "output_type": "execute_result"
    }
   ],
   "source": [
    "celsius_to_fahrenheit(20)"
   ]
  },
  {
   "cell_type": "code",
   "execution_count": 4,
   "id": "e156d849-9677-464e-b565-df1b6f76807a",
   "metadata": {},
   "outputs": [
    {
     "data": {
      "text/plain": [
       "-17.77777777777778"
      ]
     },
     "execution_count": 4,
     "metadata": {},
     "output_type": "execute_result"
    }
   ],
   "source": [
    "import helper_functions\n",
    "helper_functions.fahrenheit_to_celsius(0)"
   ]
  },
  {
   "cell_type": "code",
   "execution_count": 5,
   "id": "70c65f11-5cdb-490c-a0eb-a1cce099565b",
   "metadata": {},
   "outputs": [],
   "source": [
    "# using * gets all the functions of a python file.\n",
    "from helper_functions import *"
   ]
  },
  {
   "cell_type": "markdown",
   "id": "a3f76510-2648-4837-978b-0672d1f85950",
   "metadata": {},
   "source": [
    "# Built-In Packages"
   ]
  },
  {
   "cell_type": "code",
   "execution_count": 7,
   "id": "e9797b02-18e3-4a0b-9915-5597a328dfbd",
   "metadata": {},
   "outputs": [],
   "source": [
    "from math import cos, sin, pi"
   ]
  },
  {
   "cell_type": "code",
   "execution_count": 8,
   "id": "01e64d64-34a6-4e9d-a60a-12fc30d15f4e",
   "metadata": {},
   "outputs": [
    {
     "name": "stdout",
     "output_type": "stream",
     "text": [
      "3.141592653589793\n"
     ]
    }
   ],
   "source": [
    "print(pi)"
   ]
  },
  {
   "cell_type": "code",
   "execution_count": 9,
   "id": "34de4f9b-ddf5-492e-823c-d1b5592ceb59",
   "metadata": {},
   "outputs": [
    {
     "data": {
      "text/plain": [
       "float"
      ]
     },
     "execution_count": 9,
     "metadata": {},
     "output_type": "execute_result"
    }
   ],
   "source": [
    "type(pi)"
   ]
  },
  {
   "cell_type": "code",
   "execution_count": 10,
   "id": "cfce6c2d-eb33-408c-8466-52f9fb77fef9",
   "metadata": {},
   "outputs": [],
   "source": [
    "values = [0, pi/2, pi, 3/2*pi, 2*pi]"
   ]
  },
  {
   "cell_type": "code",
   "execution_count": 11,
   "id": "d390405e-ac67-4fe0-b881-d2bf63cd89e9",
   "metadata": {},
   "outputs": [
    {
     "name": "stdout",
     "output_type": "stream",
     "text": [
      "The cosine of 0.00 is 1.00\n",
      "The cosine of 1.57 is 0.00\n",
      "The cosine of 3.14 is -1.00\n",
      "The cosine of 4.71 is -0.00\n",
      "The cosine of 6.28 is 1.00\n"
     ]
    }
   ],
   "source": [
    "for value in values:\n",
    "    print(f\"The cosine of {value:.2f} is {cos(value):.2f}\")"
   ]
  },
  {
   "cell_type": "code",
   "execution_count": 12,
   "id": "35173055-d6e3-4a70-a100-fcf2703eec20",
   "metadata": {},
   "outputs": [
    {
     "ename": "NameError",
     "evalue": "name 'floor' is not defined",
     "output_type": "error",
     "traceback": [
      "\u001b[1;31m---------------------------------------------------------------------------\u001b[0m",
      "\u001b[1;31mNameError\u001b[0m                                 Traceback (most recent call last)",
      "Cell \u001b[1;32mIn[12], line 1\u001b[0m\n\u001b[1;32m----> 1\u001b[0m floor(\u001b[38;5;241m5.7\u001b[39m)\n",
      "\u001b[1;31mNameError\u001b[0m: name 'floor' is not defined"
     ]
    }
   ],
   "source": [
    "floor(5.7)"
   ]
  },
  {
   "cell_type": "code",
   "execution_count": 13,
   "id": "049fdbab-9721-4a11-8774-890261a34818",
   "metadata": {},
   "outputs": [],
   "source": [
    "from math import floor"
   ]
  },
  {
   "cell_type": "code",
   "execution_count": 15,
   "id": "aa6177ff-39b6-45ee-916d-74fc1d65cf1d",
   "metadata": {},
   "outputs": [
    {
     "data": {
      "text/plain": [
       "5"
      ]
     },
     "execution_count": 15,
     "metadata": {},
     "output_type": "execute_result"
    }
   ],
   "source": [
    "floor(5.7)"
   ]
  },
  {
   "cell_type": "code",
   "execution_count": 17,
   "id": "2c17e8a9-29ca-44e8-a3b6-8c9eff263d34",
   "metadata": {},
   "outputs": [],
   "source": [
    "from statistics import mean, stdev"
   ]
  },
  {
   "cell_type": "code",
   "execution_count": 19,
   "id": "b7c50c8c-f48d-442b-badf-05ac3eef1e44",
   "metadata": {},
   "outputs": [],
   "source": [
    "my_friends_heights = [160, 172, 155, 180, 165, 170, 158, 182, 175, 168]"
   ]
  },
  {
   "cell_type": "code",
   "execution_count": 21,
   "id": "1da8f799-3a11-4868-a9a0-889586c7a015",
   "metadata": {},
   "outputs": [
    {
     "data": {
      "text/plain": [
       "168.5"
      ]
     },
     "execution_count": 21,
     "metadata": {},
     "output_type": "execute_result"
    }
   ],
   "source": [
    "mean(my_friends_heights)"
   ]
  },
  {
   "cell_type": "code",
   "execution_count": 23,
   "id": "a7a64443-4eeb-4b24-ae91-a90f764f0b31",
   "metadata": {},
   "outputs": [
    {
     "data": {
      "text/plain": [
       "9.119576013536301"
      ]
     },
     "execution_count": 23,
     "metadata": {},
     "output_type": "execute_result"
    }
   ],
   "source": [
    "stdev(my_friends_heights)"
   ]
  },
  {
   "cell_type": "code",
   "execution_count": 25,
   "id": "588f4ec5-6faa-4706-9733-f930c5930417",
   "metadata": {},
   "outputs": [],
   "source": [
    "from random import sample"
   ]
  },
  {
   "cell_type": "code",
   "execution_count": 27,
   "id": "3afc6805-a0a7-40a8-8aec-648b032bc39b",
   "metadata": {},
   "outputs": [],
   "source": [
    "spices = [\"cumin\", \"turmeric\", \"oregano\", \"paprika\"]\n",
    "vegetables = [\"lettuce\", \"tomato\", \"carrot\", \"broccoli\"]\n",
    "proteins = [\"chicken\", \"tofu\", \"beef\", \"fish\", \"tempeh\"]"
   ]
  },
  {
   "cell_type": "code",
   "execution_count": 29,
   "id": "839f4342-29cf-4bae-8f57-6e3221984461",
   "metadata": {},
   "outputs": [],
   "source": [
    "random_spices = sample(spices, 2)\n",
    "random_vegetables = sample(vegetables, 2)\n",
    "random_protein = sample(proteins, 1)"
   ]
  },
  {
   "cell_type": "code",
   "execution_count": 31,
   "id": "0a09c113-a34c-4f6e-846d-68325df1f4ea",
   "metadata": {},
   "outputs": [
    {
     "name": "stdout",
     "output_type": "stream",
     "text": [
      "['tempeh']\n"
     ]
    }
   ],
   "source": [
    "print(random_protein)"
   ]
  },
  {
   "cell_type": "code",
   "execution_count": 33,
   "id": "b152f6f6-a90e-464b-92fc-97a80b29abdc",
   "metadata": {
    "scrolled": true
   },
   "outputs": [
    {
     "name": "stdout",
     "output_type": "stream",
     "text": [
      "Please suggest a recipe that includes the following ingredients.\n",
      "\n",
      "Spices: ['cumin', 'oregano']\n",
      "Vegetables: ['broccoli', 'tomato']\n",
      "Proteins: ['tempeh']\n",
      "\n"
     ]
    }
   ],
   "source": [
    "prompt = f\"\"\"Please suggest a recipe that includes the following ingredients.\n",
    "\n",
    "Spices: {random_spices}\n",
    "Vegetables: {random_vegetables}\n",
    "Proteins: {random_protein}\n",
    "\"\"\"\n",
    "print(prompt)"
   ]
  },
  {
   "cell_type": "code",
   "execution_count": 35,
   "id": "1d5750a1-e709-4b79-bb84-9f9c275d1310",
   "metadata": {
    "jupyter": {
     "source_hidden": true
    }
   },
   "outputs": [],
   "source": [
    "# recipe = get_llm_response(prompt)\n",
    "recipe = \"\"\"# Hearty Beef & Vegetable Stew\n",
    "\n",
    "This robust and flavorful stew features tender beef, sweet carrots, and rich tomatoes, elevated by the earthy warmth of turmeric and cumin. It's perfect for a comforting meal.\n",
    "\n",
    "* **Yields:** 4-6 servings\n",
    "* **Prep time:** 20 minutes\n",
    "* **Cook time:** 2 - 2.5 hours\n",
    "\n",
    "## Ingredients:\n",
    "\n",
    "* 2 tablespoons olive oil\n",
    "* 1.5 lbs beef stew meat, cut into 1-inch cubes (e.g., chuck roast)\n",
    "* 1 large onion, chopped\n",
    "* 2 cloves garlic, minced\n",
    "* 1 teaspoon ground cumin\n",
    "* 1/2 teaspoon ground turmeric\n",
    "* 1/2 teaspoon dried oregano\n",
    "* 2 large carrots, peeled and cut into 1-inch pieces\n",
    "* 1 can (28 oz) crushed tomatoes (or diced tomatoes)\n",
    "* 3 cups beef broth\n",
    "* 1 bay leaf\n",
    "* Salt and freshly ground black pepper to taste\n",
    "* *Optional:* chopped fresh parsley for garnish\n",
    "* *Optional:* 1 cup chopped potatoes or 1/2 cup green peas (added in the last 30 minutes of cooking)\n",
    "\n",
    "## Instructions:\n",
    "\n",
    "1.  **Sear the Beef:** Heat olive oil in a large, heavy-bottomed pot or Dutch oven over medium-high heat. Pat the beef stew meat dry with paper towels and season generously with salt and pepper. Add the beef to the pot in a single layer (do this in batches if necessary to avoid overcrowding) and sear until well browned on all sides, about 3-4 minutes per side. Remove the beef and set aside.\n",
    "2.  **Sauté Aromatics:** Reduce heat to medium. Add the chopped onion to the pot and cook, stirring occasionally, until softened and translucent, about 5-7 minutes. Add the minced garlic and cook for another minute until fragrant.\n",
    "3.  **Add Spices:** Stir in the ground cumin, ground turmeric, and dried oregano. Cook for 1-2 minutes, stirring constantly, until the spices are fragrant.\n",
    "4.  **Deglaze and Combine:** Return the seared beef to the pot. Add the chopped carrots, crushed tomatoes, beef broth, and bay leaf. Stir everything together, scraping up any browned bits from the bottom of the pot.\n",
    "5.  **Simmer:** Bring the stew to a gentle simmer. Once simmering, reduce the heat to low, cover the pot, and let it cook for at least 2 to 2.5 hours, or until the beef is very tender and easily falls apart with a fork. Stir occasionally to prevent sticking.\n",
    "6.  **Adjust Seasoning:** Taste the stew and adjust salt and pepper as needed. If you're adding optional potatoes or peas, do so in the last 30 minutes of cooking until they are tender.\n",
    "7.  **Serve:** Remove the bay leaf before serving. Ladle the hot stew into bowls. Garnish with fresh parsley if desired. This stew pairs wonderfully with crusty bread, rice, or mashed potatoes.\n",
    "\n",
    "Enjoy this comforting and aromatic beef and vegetable stew!\"\"\""
   ]
  },
  {
   "cell_type": "code",
   "execution_count": 40,
   "id": "3d126abf-45d6-4942-b5e1-56dd6b50a3f2",
   "metadata": {
    "collapsed": true,
    "jupyter": {
     "outputs_hidden": true
    }
   },
   "outputs": [
    {
     "data": {
      "text/markdown": [
       "# Hearty Beef & Vegetable Stew\n",
       "\n",
       "This robust and flavorful stew features tender beef, sweet carrots, and rich tomatoes, elevated by the earthy warmth of turmeric and cumin. It's perfect for a comforting meal.\n",
       "\n",
       "* **Yields:** 4-6 servings\n",
       "* **Prep time:** 20 minutes\n",
       "* **Cook time:** 2 - 2.5 hours\n",
       "\n",
       "## Ingredients:\n",
       "\n",
       "* 2 tablespoons olive oil\n",
       "* 1.5 lbs beef stew meat, cut into 1-inch cubes (e.g., chuck roast)\n",
       "* 1 large onion, chopped\n",
       "* 2 cloves garlic, minced\n",
       "* 1 teaspoon ground cumin\n",
       "* 1/2 teaspoon ground turmeric\n",
       "* 1/2 teaspoon dried oregano\n",
       "* 2 large carrots, peeled and cut into 1-inch pieces\n",
       "* 1 can (28 oz) crushed tomatoes (or diced tomatoes)\n",
       "* 3 cups beef broth\n",
       "* 1 bay leaf\n",
       "* Salt and freshly ground black pepper to taste\n",
       "* *Optional:* chopped fresh parsley for garnish\n",
       "* *Optional:* 1 cup chopped potatoes or 1/2 cup green peas (added in the last 30 minutes of cooking)\n",
       "\n",
       "## Instructions:\n",
       "\n",
       "1.  **Sear the Beef:** Heat olive oil in a large, heavy-bottomed pot or Dutch oven over medium-high heat. Pat the beef stew meat dry with paper towels and season generously with salt and pepper. Add the beef to the pot in a single layer (do this in batches if necessary to avoid overcrowding) and sear until well browned on all sides, about 3-4 minutes per side. Remove the beef and set aside.\n",
       "2.  **Sauté Aromatics:** Reduce heat to medium. Add the chopped onion to the pot and cook, stirring occasionally, until softened and translucent, about 5-7 minutes. Add the minced garlic and cook for another minute until fragrant.\n",
       "3.  **Add Spices:** Stir in the ground cumin, ground turmeric, and dried oregano. Cook for 1-2 minutes, stirring constantly, until the spices are fragrant.\n",
       "4.  **Deglaze and Combine:** Return the seared beef to the pot. Add the chopped carrots, crushed tomatoes, beef broth, and bay leaf. Stir everything together, scraping up any browned bits from the bottom of the pot.\n",
       "5.  **Simmer:** Bring the stew to a gentle simmer. Once simmering, reduce the heat to low, cover the pot, and let it cook for at least 2 to 2.5 hours, or until the beef is very tender and easily falls apart with a fork. Stir occasionally to prevent sticking.\n",
       "6.  **Adjust Seasoning:** Taste the stew and adjust salt and pepper as needed. If you're adding optional potatoes or peas, do so in the last 30 minutes of cooking until they are tender.\n",
       "7.  **Serve:** Remove the bay leaf before serving. Ladle the hot stew into bowls. Garnish with fresh parsley if desired. This stew pairs wonderfully with crusty bread, rice, or mashed potatoes.\n",
       "\n",
       "Enjoy this comforting and aromatic beef and vegetable stew!"
      ],
      "text/plain": [
       "<IPython.core.display.Markdown object>"
      ]
     },
     "metadata": {},
     "output_type": "display_data"
    }
   ],
   "source": [
    "from IPython.display import display, Markdown\n",
    "display(Markdown(recipe))"
   ]
  },
  {
   "cell_type": "markdown",
   "id": "d37121e6-7384-4ff0-b856-bebc8b2d632e",
   "metadata": {
    "jp-MarkdownHeadingCollapsed": true
   },
   "source": [
    "# Using Third-Party Packages"
   ]
  },
  {
   "cell_type": "code",
   "execution_count": 42,
   "id": "090ac574-36e4-4768-b94e-78ec91d157ce",
   "metadata": {},
   "outputs": [],
   "source": [
    "import pandas as pd"
   ]
  },
  {
   "cell_type": "code",
   "execution_count": 54,
   "id": "06237547-55f3-40ff-b066-1fd56de0bbcd",
   "metadata": {},
   "outputs": [
    {
     "data": {
      "text/html": [
       "<div>\n",
       "<style scoped>\n",
       "    .dataframe tbody tr th:only-of-type {\n",
       "        vertical-align: middle;\n",
       "    }\n",
       "\n",
       "    .dataframe tbody tr th {\n",
       "        vertical-align: top;\n",
       "    }\n",
       "\n",
       "    .dataframe thead th {\n",
       "        text-align: right;\n",
       "    }\n",
       "</style>\n",
       "<table border=\"1\" class=\"dataframe\">\n",
       "  <thead>\n",
       "    <tr style=\"text-align: right;\">\n",
       "      <th></th>\n",
       "      <th>name</th>\n",
       "      <th>year</th>\n",
       "      <th>selling_price</th>\n",
       "      <th>km_driven</th>\n",
       "      <th>fuel</th>\n",
       "      <th>seller_type</th>\n",
       "      <th>transmission</th>\n",
       "      <th>owner</th>\n",
       "    </tr>\n",
       "  </thead>\n",
       "  <tbody>\n",
       "    <tr>\n",
       "      <th>0</th>\n",
       "      <td>Maruti 800 AC</td>\n",
       "      <td>2007</td>\n",
       "      <td>60000</td>\n",
       "      <td>70000</td>\n",
       "      <td>Petrol</td>\n",
       "      <td>Individual</td>\n",
       "      <td>Manual</td>\n",
       "      <td>First Owner</td>\n",
       "    </tr>\n",
       "    <tr>\n",
       "      <th>1</th>\n",
       "      <td>Maruti Wagon R LXI Minor</td>\n",
       "      <td>2007</td>\n",
       "      <td>135000</td>\n",
       "      <td>50000</td>\n",
       "      <td>Petrol</td>\n",
       "      <td>Individual</td>\n",
       "      <td>Manual</td>\n",
       "      <td>First Owner</td>\n",
       "    </tr>\n",
       "    <tr>\n",
       "      <th>2</th>\n",
       "      <td>Hyundai Verna 1.6 SX</td>\n",
       "      <td>2012</td>\n",
       "      <td>600000</td>\n",
       "      <td>100000</td>\n",
       "      <td>Diesel</td>\n",
       "      <td>Individual</td>\n",
       "      <td>Manual</td>\n",
       "      <td>First Owner</td>\n",
       "    </tr>\n",
       "    <tr>\n",
       "      <th>3</th>\n",
       "      <td>Datsun RediGO T Option</td>\n",
       "      <td>2017</td>\n",
       "      <td>250000</td>\n",
       "      <td>46000</td>\n",
       "      <td>Petrol</td>\n",
       "      <td>Individual</td>\n",
       "      <td>Manual</td>\n",
       "      <td>First Owner</td>\n",
       "    </tr>\n",
       "    <tr>\n",
       "      <th>4</th>\n",
       "      <td>Honda Amaze VX i-DTEC</td>\n",
       "      <td>2014</td>\n",
       "      <td>450000</td>\n",
       "      <td>141000</td>\n",
       "      <td>Diesel</td>\n",
       "      <td>Individual</td>\n",
       "      <td>Manual</td>\n",
       "      <td>Second Owner</td>\n",
       "    </tr>\n",
       "  </tbody>\n",
       "</table>\n",
       "</div>"
      ],
      "text/plain": [
       "                       name  year  selling_price  km_driven    fuel  \\\n",
       "0             Maruti 800 AC  2007          60000      70000  Petrol   \n",
       "1  Maruti Wagon R LXI Minor  2007         135000      50000  Petrol   \n",
       "2      Hyundai Verna 1.6 SX  2012         600000     100000  Diesel   \n",
       "3    Datsun RediGO T Option  2017         250000      46000  Petrol   \n",
       "4     Honda Amaze VX i-DTEC  2014         450000     141000  Diesel   \n",
       "\n",
       "  seller_type transmission         owner  \n",
       "0  Individual       Manual   First Owner  \n",
       "1  Individual       Manual   First Owner  \n",
       "2  Individual       Manual   First Owner  \n",
       "3  Individual       Manual   First Owner  \n",
       "4  Individual       Manual  Second Owner  "
      ]
     },
     "execution_count": 54,
     "metadata": {},
     "output_type": "execute_result"
    }
   ],
   "source": [
    "# Dataset adapted from here https://www.kaggle.com/datasets/nehalbirla/vehicle-dataset-from-cardekho\n",
    "data = pd.read_csv(\"car_data.csv\")\n",
    "data.head()"
   ]
  },
  {
   "cell_type": "code",
   "execution_count": 60,
   "id": "40053d7f-9c33-4b82-8a14-17ff8db40625",
   "metadata": {},
   "outputs": [
    {
     "data": {
      "text/html": [
       "<div>\n",
       "<style scoped>\n",
       "    .dataframe tbody tr th:only-of-type {\n",
       "        vertical-align: middle;\n",
       "    }\n",
       "\n",
       "    .dataframe tbody tr th {\n",
       "        vertical-align: top;\n",
       "    }\n",
       "\n",
       "    .dataframe thead th {\n",
       "        text-align: right;\n",
       "    }\n",
       "</style>\n",
       "<table border=\"1\" class=\"dataframe\">\n",
       "  <thead>\n",
       "    <tr style=\"text-align: right;\">\n",
       "      <th></th>\n",
       "      <th>name</th>\n",
       "      <th>year</th>\n",
       "      <th>selling_price</th>\n",
       "      <th>km_driven</th>\n",
       "      <th>fuel</th>\n",
       "      <th>seller_type</th>\n",
       "      <th>transmission</th>\n",
       "      <th>owner</th>\n",
       "    </tr>\n",
       "  </thead>\n",
       "  <tbody>\n",
       "    <tr>\n",
       "      <th>0</th>\n",
       "      <td>Maruti 800 AC</td>\n",
       "      <td>2007</td>\n",
       "      <td>60000</td>\n",
       "      <td>70000</td>\n",
       "      <td>Petrol</td>\n",
       "      <td>Individual</td>\n",
       "      <td>Manual</td>\n",
       "      <td>First Owner</td>\n",
       "    </tr>\n",
       "    <tr>\n",
       "      <th>1</th>\n",
       "      <td>Maruti Wagon R LXI Minor</td>\n",
       "      <td>2007</td>\n",
       "      <td>135000</td>\n",
       "      <td>50000</td>\n",
       "      <td>Petrol</td>\n",
       "      <td>Individual</td>\n",
       "      <td>Manual</td>\n",
       "      <td>First Owner</td>\n",
       "    </tr>\n",
       "    <tr>\n",
       "      <th>2</th>\n",
       "      <td>Hyundai Verna 1.6 SX</td>\n",
       "      <td>2012</td>\n",
       "      <td>600000</td>\n",
       "      <td>100000</td>\n",
       "      <td>Diesel</td>\n",
       "      <td>Individual</td>\n",
       "      <td>Manual</td>\n",
       "      <td>First Owner</td>\n",
       "    </tr>\n",
       "    <tr>\n",
       "      <th>3</th>\n",
       "      <td>Datsun RediGO T Option</td>\n",
       "      <td>2017</td>\n",
       "      <td>250000</td>\n",
       "      <td>46000</td>\n",
       "      <td>Petrol</td>\n",
       "      <td>Individual</td>\n",
       "      <td>Manual</td>\n",
       "      <td>First Owner</td>\n",
       "    </tr>\n",
       "    <tr>\n",
       "      <th>4</th>\n",
       "      <td>Honda Amaze VX i-DTEC</td>\n",
       "      <td>2014</td>\n",
       "      <td>450000</td>\n",
       "      <td>141000</td>\n",
       "      <td>Diesel</td>\n",
       "      <td>Individual</td>\n",
       "      <td>Manual</td>\n",
       "      <td>Second Owner</td>\n",
       "    </tr>\n",
       "  </tbody>\n",
       "</table>\n",
       "</div>"
      ],
      "text/plain": [
       "                       name  year  selling_price  km_driven    fuel  \\\n",
       "0             Maruti 800 AC  2007          60000      70000  Petrol   \n",
       "1  Maruti Wagon R LXI Minor  2007         135000      50000  Petrol   \n",
       "2      Hyundai Verna 1.6 SX  2012         600000     100000  Diesel   \n",
       "3    Datsun RediGO T Option  2017         250000      46000  Petrol   \n",
       "4     Honda Amaze VX i-DTEC  2014         450000     141000  Diesel   \n",
       "\n",
       "  seller_type transmission         owner  \n",
       "0  Individual       Manual   First Owner  \n",
       "1  Individual       Manual   First Owner  \n",
       "2  Individual       Manual   First Owner  \n",
       "3  Individual       Manual   First Owner  \n",
       "4  Individual       Manual  Second Owner  "
      ]
     },
     "execution_count": 60,
     "metadata": {},
     "output_type": "execute_result"
    }
   ],
   "source": [
    "(data[data[\"selling_price\"] >= 10000]).head()"
   ]
  },
  {
   "cell_type": "code",
   "execution_count": 62,
   "id": "53791c0f-acd5-4b51-94b2-09bcd8d238b8",
   "metadata": {},
   "outputs": [
    {
     "data": {
      "text/html": [
       "<div>\n",
       "<style scoped>\n",
       "    .dataframe tbody tr th:only-of-type {\n",
       "        vertical-align: middle;\n",
       "    }\n",
       "\n",
       "    .dataframe tbody tr th {\n",
       "        vertical-align: top;\n",
       "    }\n",
       "\n",
       "    .dataframe thead th {\n",
       "        text-align: right;\n",
       "    }\n",
       "</style>\n",
       "<table border=\"1\" class=\"dataframe\">\n",
       "  <thead>\n",
       "    <tr style=\"text-align: right;\">\n",
       "      <th></th>\n",
       "      <th>name</th>\n",
       "      <th>year</th>\n",
       "      <th>selling_price</th>\n",
       "      <th>km_driven</th>\n",
       "      <th>fuel</th>\n",
       "      <th>seller_type</th>\n",
       "      <th>transmission</th>\n",
       "      <th>owner</th>\n",
       "    </tr>\n",
       "  </thead>\n",
       "  <tbody>\n",
       "    <tr>\n",
       "      <th>8</th>\n",
       "      <td>Hyundai Creta 1.6 VTVT S</td>\n",
       "      <td>2015</td>\n",
       "      <td>850000</td>\n",
       "      <td>25000</td>\n",
       "      <td>Petrol</td>\n",
       "      <td>Individual</td>\n",
       "      <td>Manual</td>\n",
       "      <td>First Owner</td>\n",
       "    </tr>\n",
       "    <tr>\n",
       "      <th>10</th>\n",
       "      <td>Chevrolet Sail 1.2 Base</td>\n",
       "      <td>2015</td>\n",
       "      <td>260000</td>\n",
       "      <td>35000</td>\n",
       "      <td>Petrol</td>\n",
       "      <td>Individual</td>\n",
       "      <td>Manual</td>\n",
       "      <td>First Owner</td>\n",
       "    </tr>\n",
       "    <tr>\n",
       "      <th>21</th>\n",
       "      <td>Hyundai Creta 1.6 VTVT S</td>\n",
       "      <td>2015</td>\n",
       "      <td>850000</td>\n",
       "      <td>25000</td>\n",
       "      <td>Petrol</td>\n",
       "      <td>Individual</td>\n",
       "      <td>Manual</td>\n",
       "      <td>First Owner</td>\n",
       "    </tr>\n",
       "    <tr>\n",
       "      <th>23</th>\n",
       "      <td>Chevrolet Sail 1.2 Base</td>\n",
       "      <td>2015</td>\n",
       "      <td>260000</td>\n",
       "      <td>35000</td>\n",
       "      <td>Petrol</td>\n",
       "      <td>Individual</td>\n",
       "      <td>Manual</td>\n",
       "      <td>First Owner</td>\n",
       "    </tr>\n",
       "    <tr>\n",
       "      <th>26</th>\n",
       "      <td>Maruti Ciaz VXi Plus</td>\n",
       "      <td>2015</td>\n",
       "      <td>585000</td>\n",
       "      <td>24000</td>\n",
       "      <td>Petrol</td>\n",
       "      <td>Dealer</td>\n",
       "      <td>Manual</td>\n",
       "      <td>First Owner</td>\n",
       "    </tr>\n",
       "  </tbody>\n",
       "</table>\n",
       "</div>"
      ],
      "text/plain": [
       "                        name  year  selling_price  km_driven    fuel  \\\n",
       "8   Hyundai Creta 1.6 VTVT S  2015         850000      25000  Petrol   \n",
       "10   Chevrolet Sail 1.2 Base  2015         260000      35000  Petrol   \n",
       "21  Hyundai Creta 1.6 VTVT S  2015         850000      25000  Petrol   \n",
       "23   Chevrolet Sail 1.2 Base  2015         260000      35000  Petrol   \n",
       "26      Maruti Ciaz VXi Plus  2015         585000      24000  Petrol   \n",
       "\n",
       "   seller_type transmission        owner  \n",
       "8   Individual       Manual  First Owner  \n",
       "10  Individual       Manual  First Owner  \n",
       "21  Individual       Manual  First Owner  \n",
       "23  Individual       Manual  First Owner  \n",
       "26      Dealer       Manual  First Owner  "
      ]
     },
     "execution_count": 62,
     "metadata": {},
     "output_type": "execute_result"
    }
   ],
   "source": [
    "(data[data[\"year\"] == 2015]).head()"
   ]
  },
  {
   "cell_type": "code",
   "execution_count": 64,
   "id": "4a095d41-4e5f-4e1a-8d2e-ddb85e00c09a",
   "metadata": {},
   "outputs": [
    {
     "data": {
      "text/plain": [
       "475000.0"
      ]
     },
     "execution_count": 64,
     "metadata": {},
     "output_type": "execute_result"
    }
   ],
   "source": [
    "filtered_data = data[data[\"year\"] == 2015]\n",
    "filtered_data[\"selling_price\"].median()"
   ]
  },
  {
   "cell_type": "code",
   "execution_count": 66,
   "id": "ce4fb1e8-7477-41fd-993c-2126ca8010d0",
   "metadata": {},
   "outputs": [],
   "source": [
    "import matplotlib.pyplot as plt"
   ]
  },
  {
   "cell_type": "code",
   "execution_count": 74,
   "id": "2c4fe798-32ce-4be7-8c94-a2fecff92339",
   "metadata": {},
   "outputs": [
    {
     "data": {
      "image/png": "[encoded data removed]",
      "text/plain": [
       "<Figure size 640x480 with 1 Axes>"
      ]
     },
     "metadata": {},
     "output_type": "display_data"
    }
   ],
   "source": [
    "plt.scatter(data[\"km_driven\"], data[\"selling_price\"], c='red')\n",
    "plt.title('Car Price vs. Kilometers Driven', fontsize=16)\n",
    "plt.xlabel('Kilometers Driven')\n",
    "plt.ylabel('Price (in USD)')\n",
    "plt.grid(True)\n",
    "plt.show()"
   ]
  },
  {
   "cell_type": "markdown",
   "id": "21a0f1ca-881b-44ff-8345-c0b024fcf460",
   "metadata": {
    "jp-MarkdownHeadingCollapsed": true
   },
   "source": [
    "# Installing Packages"
   ]
  },
  {
   "cell_type": "code",
   "execution_count": 77,
   "id": "52c8aa96-b46b-4e97-b9f4-8a2f8bf36e0b",
   "metadata": {},
   "outputs": [
    {
     "name": "stdout",
     "output_type": "stream",
     "text": [
      "Collecting bs4\n",
      "  Downloading bs4-0.0.2-py2.py3-none-any.whl.metadata (411 bytes)\n",
      "Requirement already satisfied: beautifulsoup4 in c:\\users\\kevin\\anaconda3\\lib\\site-packages (from bs4) (4.12.3)\n",
      "Requirement already satisfied: soupsieve>1.2 in c:\\users\\kevin\\anaconda3\\lib\\site-packages (from beautifulsoup4->bs4) (2.5)\n",
      "Downloading bs4-0.0.2-py2.py3-none-any.whl (1.2 kB)\n",
      "Installing collected packages: bs4\n",
      "Successfully installed bs4-0.0.2\n"
     ]
    }
   ],
   "source": [
    "# Beautiful soup version 4\n",
    "!pip install bs4"
   ]
  },
  {
   "cell_type": "code",
   "execution_count": 83,
   "id": "811e932b-fea0-4f7c-b190-7c173ec64e5f",
   "metadata": {},
   "outputs": [],
   "source": [
    "from bs4 import BeautifulSoup\n",
    "import requests\n",
    "from helper_functions import *\n",
    "from IPython.display import HTML, display"
   ]
  },
  {
   "cell_type": "code",
   "execution_count": 85,
   "id": "adaaad15-f8aa-45c1-bc21-d9a59a497ac3",
   "metadata": {},
   "outputs": [
    {
     "name": "stdout",
     "output_type": "stream",
     "text": [
      "<Response [200]>\n"
     ]
    }
   ],
   "source": [
    "url = 'https://www.deeplearning.ai/the-batch/the-world-needs-more-intelligence/'\n",
    "response = requests.get(url)\n",
    "print(response)"
   ]
  },
  {
   "cell_type": "code",
   "execution_count": 87,
   "id": "cb7ec466-f33f-4d3d-8e80-5040496ffa62",
   "metadata": {
    "scrolled": true
   },
   "outputs": [
    {
     "data": {
      "text/html": [
       "<iframe src=https://www.deeplearning.ai/the-batch/the-world-needs-more-intelligence/ width='60%' height='400'><iframe>"
      ],
      "text/plain": [
       "<IPython.core.display.HTML object>"
      ]
     },
     "execution_count": 87,
     "metadata": {},
     "output_type": "execute_result"
    }
   ],
   "source": [
    "HTML(f\"<iframe src={url} width='60%' height='400'><iframe>\")"
   ]
  },
  {
   "cell_type": "code",
   "execution_count": 91,
   "id": "2131c512-dd2a-4fa1-9dbc-2b15713bc290",
   "metadata": {
    "collapsed": true,
    "jupyter": {
     "outputs_hidden": true
    }
   },
   "outputs": [
    {
     "name": "stdout",
     "output_type": "stream",
     "text": [
      "\n",
      "✨ New course! Enroll in DSPy: Build and Optimize Agentic Apps\n",
      "Dear friends,\n",
      "Last year, a number of large businesses and individuals went to the media and governments and pushed the message that AI is scary, impossible to control, and might even lead to human extinction. Unfortunately they succeeded: Now many people think AI is scary. But when I speak with regulators, media, and private citizens, I like to bring the issue of whether AI is beneficial or harmful back to a very basic question: Are we better off with more, or less, intelligence in the world? \n",
      "Intelligence is the ability to apply skills and knowledge to make good decisions. Yes, intelligence can be used for nefarious purposes. But over many centuries, a major driver of civilization's progress has been people getting smarter and more educated. Until now, human intelligence has been the primary form of intelligence available. But with artificial intelligence, we have the opportunity to bring much more intelligence into the world. I discussed this opportunity in a recent interview (paywalled) with Financial Times reporter Ryan McMorrow.\n",
      "Historically, intelligence has been very expensive to acquire. It costs a lot to feed, raise, and train a broadly knowledgeable and experienced human being! That's why it’s so expensive to hire intelligence, such as a highly skilled doctor to examine and advise you on a medical condition, or a patient tutor who can understand your child and gently coach them where they need help. But with artificial intelligence, we have the potential to make intelligence cheap for everyone, so you no longer have to worry about a huge bill for seeing a doctor or educating your child. \n",
      "For society's biggest problems, such as climate change, intelligence — including artificial intelligence — also has a significant role to play. While having more intelligence in the world isn't the only thing (there are also nuances such as how to share the wealth it creates, how it will affect jobs, and how to keep it from being used for evil purposes), I believe we are much better off as a society with more intelligence, be it human or artificial intelligence. \n",
      "In my recent talk at TED AI (you can watch the 12-minute presentation here), I touched on why I'm excited about AI and why I think many of the anxieties about it are misplaced. If you speak with someone who’s worried about AI, please forward the talk to them to see if it helps to reassure them. Or ask if they fundamentally believe we want more intelligence in the world. I find that answering this question can be a useful North Star for how we approach AI.\n",
      "Keep learning!\n",
      "Andrew\n",
      "P.S. Check out our new short course on “Building Applications with Vector Databases,” taught by Pinecone’s Tim Tully! Vector databases (DBs) are commonly associated with retrieval augmented generation (RAG) but actually have many uses in AI applications. In this course, you’ll learn about (i) a basic semantic search app that uses a vector DB to find similar documents, (ii) a RAG application querying datasets it was not trained on, (iii) recommender systems that combine semantic search and RAG, (iv) hybrid search, which lets you work with dense and sparse vectors simultaneously, (v) anomaly detection applied to network logs, and (vi) an image-similarity application with a fun example that determines which parent a child resembles more. Come learn how you can use vector DBs to build many different types of applications! Enroll here\n",
      "Stay updated with weekly AI News and Insights delivered to your inbox\n"
     ]
    }
   ],
   "source": [
    "# Using BeautifulSoup to extract the text\n",
    "soup = BeautifulSoup(response.text, \"html.parser\")\n",
    "all_text = soup.find_all(\"p\")\n",
    "\n",
    "combined_text = \"\"\n",
    "for text in all_text:\n",
    "    combined_text = combined_text + \"\\n\" + text.get_text()\n",
    "print(combined_text)"
   ]
  },
  {
   "cell_type": "code",
   "execution_count": 103,
   "id": "1c7b095b-3d56-4e4d-af2a-2a97dd613d3f",
   "metadata": {},
   "outputs": [],
   "source": [
    "prompt = f\"\"\"Extract the key bullet points from the following text.\n",
    "\n",
    "Text:\n",
    "{combined_text}\n",
    "\"\"\"\n",
    "# print(prompt)\n",
    "# print_llm_response(prompt)"
   ]
  },
  {
   "cell_type": "code",
   "execution_count": 99,
   "id": "4b62cd95-dfe8-4ec9-a290-f5198d135e8b",
   "metadata": {
    "jupyter": {
     "source_hidden": true
    }
   },
   "outputs": [],
   "source": [
    "response = \"\"\"* **Reframing AI's Perception:** Challenges the notion that AI is inherently scary, emphasizing the fundamental question: \"Are we better off with more, or less, intelligence in the world?\"\n",
    "* **Intelligence as a Driver of Progress:** Defines intelligence as the ability to apply skills and knowledge for good decisions and posits that increased intelligence (both human and artificial) has historically driven civilization's progress.\n",
    "* **Democratizing Intelligence:** Highlights AI's potential to make intelligence affordable and accessible to everyone, contrasting it with the historical high cost of human expertise (e.g., doctors, tutors).\n",
    "* **AI's Role in Solving Grand Challenges:** Argues that more intelligence, including AI, is beneficial for tackling major societal problems like climate change.\n",
    "* **Addressing AI Anxiety:** Encourages sharing a TED AI talk to reassure those worried about AI, suggesting that focusing on the desire for more intelligence can serve as a guiding principle.\n",
    "* **New Course: DSPy: Build and Optimize Agentic Apps:** Announces a new course focused on building and optimizing agentic applications using DSPy.\n",
    "* **New Short Course: Building Applications with Vector Databases:** Promotes a new short course on vector databases, covering applications such as:\n",
    "    * Basic semantic search.\n",
    "    * Retrieval Augmented Generation (RAG) for querying untrainable datasets.\n",
    "    * Recommender systems combining semantic search and RAG.\n",
    "    * Hybrid search with dense and sparse vectors.\n",
    "    * Anomaly detection in network logs.\n",
    "    * Image-similarity applications (e.g., determining child resemblance).\"\"\""
   ]
  },
  {
   "cell_type": "code",
   "execution_count": 101,
   "id": "41880c3a-c9a0-4510-9024-38b3e03ebaba",
   "metadata": {
    "collapsed": true,
    "jupyter": {
     "outputs_hidden": true
    },
    "scrolled": true
   },
   "outputs": [
    {
     "data": {
      "text/markdown": [
       "* **Reframing AI's Perception:** Challenges the notion that AI is inherently scary, emphasizing the fundamental question: \"Are we better off with more, or less, intelligence in the world?\"\n",
       "* **Intelligence as a Driver of Progress:** Defines intelligence as the ability to apply skills and knowledge for good decisions and posits that increased intelligence (both human and artificial) has historically driven civilization's progress.\n",
       "* **Democratizing Intelligence:** Highlights AI's potential to make intelligence affordable and accessible to everyone, contrasting it with the historical high cost of human expertise (e.g., doctors, tutors).\n",
       "* **AI's Role in Solving Grand Challenges:** Argues that more intelligence, including AI, is beneficial for tackling major societal problems like climate change.\n",
       "* **Addressing AI Anxiety:** Encourages sharing a TED AI talk to reassure those worried about AI, suggesting that focusing on the desire for more intelligence can serve as a guiding principle.\n",
       "* **New Course: DSPy: Build and Optimize Agentic Apps:** Announces a new course focused on building and optimizing agentic applications using DSPy.\n",
       "* **New Short Course: Building Applications with Vector Databases:** Promotes a new short course on vector databases, covering applications such as:\n",
       "    * Basic semantic search.\n",
       "    * Retrieval Augmented Generation (RAG) for querying untrainable datasets.\n",
       "    * Recommender systems combining semantic search and RAG.\n",
       "    * Hybrid search with dense and sparse vectors.\n",
       "    * Anomaly detection in network logs.\n",
       "    * Image-similarity applications (e.g., determining child resemblance)."
      ],
      "text/plain": [
       "<IPython.core.display.Markdown object>"
      ]
     },
     "metadata": {},
     "output_type": "display_data"
    }
   ],
   "source": [
    "display(Markdown(response))"
   ]
  },
  {
   "cell_type": "code",
   "execution_count": 105,
   "id": "aba6f43c-cd85-4c54-bc4c-4cf4f718b9f8",
   "metadata": {
    "collapsed": true,
    "jupyter": {
     "outputs_hidden": true
    }
   },
   "outputs": [
    {
     "name": "stdout",
     "output_type": "stream",
     "text": [
      "Collecting aisetup\n",
      "  Downloading aisetup-0.1.9-py3-none-any.whl.metadata (1.2 kB)\n",
      "Collecting folium<0.18,>=0.17 (from aisetup)\n",
      "  Downloading folium-0.17.0-py2.py3-none-any.whl.metadata (3.8 kB)\n",
      "Requirement already satisfied: ipython<9.0,>=8.18 in c:\\users\\kevin\\anaconda3\\lib\\site-packages (from aisetup) (8.27.0)\n",
      "Requirement already satisfied: ipywidgets<9.0.0,>=8.1.3 in c:\\users\\kevin\\anaconda3\\lib\\site-packages (from aisetup) (8.1.6)\n",
      "Requirement already satisfied: matplotlib<4.0.0,>=3.9.2 in c:\\users\\kevin\\anaconda3\\lib\\site-packages (from aisetup) (3.9.2)\n",
      "Collecting openai<2.0,>=1.42 (from aisetup)\n",
      "  Downloading openai-1.86.0-py3-none-any.whl.metadata (25 kB)\n",
      "Requirement already satisfied: pandas<3.0,>=2.2 in c:\\users\\kevin\\anaconda3\\lib\\site-packages (from aisetup) (2.2.2)\n",
      "Collecting python-dotenv<2.0.0,>=1.0.1 (from aisetup)\n",
      "  Downloading python_dotenv-1.1.0-py3-none-any.whl.metadata (24 kB)\n",
      "Requirement already satisfied: requests<3.0.0,>=2.32.3 in c:\\users\\kevin\\anaconda3\\lib\\site-packages (from aisetup) (2.32.3)\n",
      "Collecting branca>=0.6.0 (from folium<0.18,>=0.17->aisetup)\n",
      "  Downloading branca-0.8.1-py3-none-any.whl.metadata (1.5 kB)\n",
      "Requirement already satisfied: jinja2>=2.9 in c:\\users\\kevin\\anaconda3\\lib\\site-packages (from folium<0.18,>=0.17->aisetup) (3.1.4)\n",
      "Requirement already satisfied: numpy in c:\\users\\kevin\\anaconda3\\lib\\site-packages (from folium<0.18,>=0.17->aisetup) (1.26.4)\n",
      "Requirement already satisfied: xyzservices in c:\\users\\kevin\\anaconda3\\lib\\site-packages (from folium<0.18,>=0.17->aisetup) (2022.9.0)\n",
      "Requirement already satisfied: decorator in c:\\users\\kevin\\anaconda3\\lib\\site-packages (from ipython<9.0,>=8.18->aisetup) (5.1.1)\n",
      "Requirement already satisfied: jedi>=0.16 in c:\\users\\kevin\\anaconda3\\lib\\site-packages (from ipython<9.0,>=8.18->aisetup) (0.19.1)\n",
      "Requirement already satisfied: matplotlib-inline in c:\\users\\kevin\\anaconda3\\lib\\site-packages (from ipython<9.0,>=8.18->aisetup) (0.1.6)\n",
      "Requirement already satisfied: prompt-toolkit<3.1.0,>=3.0.41 in c:\\users\\kevin\\anaconda3\\lib\\site-packages (from ipython<9.0,>=8.18->aisetup) (3.0.43)\n",
      "Requirement already satisfied: pygments>=2.4.0 in c:\\users\\kevin\\anaconda3\\lib\\site-packages (from ipython<9.0,>=8.18->aisetup) (2.15.1)\n",
      "Requirement already satisfied: stack-data in c:\\users\\kevin\\anaconda3\\lib\\site-packages (from ipython<9.0,>=8.18->aisetup) (0.2.0)\n",
      "Requirement already satisfied: traitlets>=5.13.0 in c:\\users\\kevin\\anaconda3\\lib\\site-packages (from ipython<9.0,>=8.18->aisetup) (5.14.3)\n",
      "Requirement already satisfied: colorama in c:\\users\\kevin\\anaconda3\\lib\\site-packages (from ipython<9.0,>=8.18->aisetup) (0.4.6)\n",
      "Requirement already satisfied: comm>=0.1.3 in c:\\users\\kevin\\anaconda3\\lib\\site-packages (from ipywidgets<9.0.0,>=8.1.3->aisetup) (0.2.1)\n",
      "Requirement already satisfied: widgetsnbextension~=4.0.14 in c:\\users\\kevin\\anaconda3\\lib\\site-packages (from ipywidgets<9.0.0,>=8.1.3->aisetup) (4.0.14)\n",
      "Requirement already satisfied: jupyterlab_widgets~=3.0.14 in c:\\users\\kevin\\anaconda3\\lib\\site-packages (from ipywidgets<9.0.0,>=8.1.3->aisetup) (3.0.14)\n",
      "Requirement already satisfied: contourpy>=1.0.1 in c:\\users\\kevin\\anaconda3\\lib\\site-packages (from matplotlib<4.0.0,>=3.9.2->aisetup) (1.2.0)\n",
      "Requirement already satisfied: cycler>=0.10 in c:\\users\\kevin\\anaconda3\\lib\\site-packages (from matplotlib<4.0.0,>=3.9.2->aisetup) (0.11.0)\n",
      "Requirement already satisfied: fonttools>=4.22.0 in c:\\users\\kevin\\anaconda3\\lib\\site-packages (from matplotlib<4.0.0,>=3.9.2->aisetup) (4.51.0)\n",
      "Requirement already satisfied: kiwisolver>=1.3.1 in c:\\users\\kevin\\anaconda3\\lib\\site-packages (from matplotlib<4.0.0,>=3.9.2->aisetup) (1.4.4)\n",
      "Requirement already satisfied: packaging>=20.0 in c:\\users\\kevin\\anaconda3\\lib\\site-packages (from matplotlib<4.0.0,>=3.9.2->aisetup) (24.1)\n",
      "Requirement already satisfied: pillow>=8 in c:\\users\\kevin\\anaconda3\\lib\\site-packages (from matplotlib<4.0.0,>=3.9.2->aisetup) (10.4.0)\n",
      "Requirement already satisfied: pyparsing>=2.3.1 in c:\\users\\kevin\\anaconda3\\lib\\site-packages (from matplotlib<4.0.0,>=3.9.2->aisetup) (3.1.2)\n",
      "Requirement already satisfied: python-dateutil>=2.7 in c:\\users\\kevin\\anaconda3\\lib\\site-packages (from matplotlib<4.0.0,>=3.9.2->aisetup) (2.9.0.post0)\n",
      "Requirement already satisfied: anyio<5,>=3.5.0 in c:\\users\\kevin\\anaconda3\\lib\\site-packages (from openai<2.0,>=1.42->aisetup) (4.9.0)\n",
      "Requirement already satisfied: distro<2,>=1.7.0 in c:\\users\\kevin\\anaconda3\\lib\\site-packages (from openai<2.0,>=1.42->aisetup) (1.9.0)\n",
      "Requirement already satisfied: httpx<1,>=0.23.0 in c:\\users\\kevin\\anaconda3\\lib\\site-packages (from openai<2.0,>=1.42->aisetup) (0.28.1)\n",
      "Collecting jiter<1,>=0.4.0 (from openai<2.0,>=1.42->aisetup)\n",
      "  Downloading jiter-0.10.0-cp312-cp312-win_amd64.whl.metadata (5.3 kB)\n",
      "Requirement already satisfied: pydantic<3,>=1.9.0 in c:\\users\\kevin\\anaconda3\\lib\\site-packages (from openai<2.0,>=1.42->aisetup) (2.8.2)\n",
      "Requirement already satisfied: sniffio in c:\\users\\kevin\\anaconda3\\lib\\site-packages (from openai<2.0,>=1.42->aisetup) (1.3.0)\n",
      "Requirement already satisfied: tqdm>4 in c:\\users\\kevin\\anaconda3\\lib\\site-packages (from openai<2.0,>=1.42->aisetup) (4.66.5)\n",
      "Requirement already satisfied: typing-extensions<5,>=4.11 in c:\\users\\kevin\\anaconda3\\lib\\site-packages (from openai<2.0,>=1.42->aisetup) (4.11.0)\n",
      "Requirement already satisfied: pytz>=2020.1 in c:\\users\\kevin\\anaconda3\\lib\\site-packages (from pandas<3.0,>=2.2->aisetup) (2024.1)\n",
      "Requirement already satisfied: tzdata>=2022.7 in c:\\users\\kevin\\anaconda3\\lib\\site-packages (from pandas<3.0,>=2.2->aisetup) (2023.3)\n",
      "Requirement already satisfied: charset-normalizer<4,>=2 in c:\\users\\kevin\\anaconda3\\lib\\site-packages (from requests<3.0.0,>=2.32.3->aisetup) (3.3.2)\n",
      "Requirement already satisfied: idna<4,>=2.5 in c:\\users\\kevin\\anaconda3\\lib\\site-packages (from requests<3.0.0,>=2.32.3->aisetup) (3.7)\n",
      "Requirement already satisfied: urllib3<3,>=1.21.1 in c:\\users\\kevin\\anaconda3\\lib\\site-packages (from requests<3.0.0,>=2.32.3->aisetup) (2.2.3)\n",
      "Requirement already satisfied: certifi>=2017.4.17 in c:\\users\\kevin\\anaconda3\\lib\\site-packages (from requests<3.0.0,>=2.32.3->aisetup) (2025.1.31)\n",
      "Requirement already satisfied: httpcore==1.* in c:\\users\\kevin\\anaconda3\\lib\\site-packages (from httpx<1,>=0.23.0->openai<2.0,>=1.42->aisetup) (1.0.2)\n",
      "Requirement already satisfied: h11<0.15,>=0.13 in c:\\users\\kevin\\anaconda3\\lib\\site-packages (from httpcore==1.*->httpx<1,>=0.23.0->openai<2.0,>=1.42->aisetup) (0.14.0)\n",
      "Requirement already satisfied: parso<0.9.0,>=0.8.3 in c:\\users\\kevin\\anaconda3\\lib\\site-packages (from jedi>=0.16->ipython<9.0,>=8.18->aisetup) (0.8.3)\n",
      "Requirement already satisfied: MarkupSafe>=2.0 in c:\\users\\kevin\\anaconda3\\lib\\site-packages (from jinja2>=2.9->folium<0.18,>=0.17->aisetup) (2.1.3)\n",
      "Requirement already satisfied: wcwidth in c:\\users\\kevin\\anaconda3\\lib\\site-packages (from prompt-toolkit<3.1.0,>=3.0.41->ipython<9.0,>=8.18->aisetup) (0.2.5)\n",
      "Requirement already satisfied: annotated-types>=0.4.0 in c:\\users\\kevin\\anaconda3\\lib\\site-packages (from pydantic<3,>=1.9.0->openai<2.0,>=1.42->aisetup) (0.6.0)\n",
      "Requirement already satisfied: pydantic-core==2.20.1 in c:\\users\\kevin\\anaconda3\\lib\\site-packages (from pydantic<3,>=1.9.0->openai<2.0,>=1.42->aisetup) (2.20.1)\n",
      "Requirement already satisfied: six>=1.5 in c:\\users\\kevin\\anaconda3\\lib\\site-packages (from python-dateutil>=2.7->matplotlib<4.0.0,>=3.9.2->aisetup) (1.16.0)\n",
      "Requirement already satisfied: executing in c:\\users\\kevin\\anaconda3\\lib\\site-packages (from stack-data->ipython<9.0,>=8.18->aisetup) (0.8.3)\n",
      "Requirement already satisfied: asttokens in c:\\users\\kevin\\anaconda3\\lib\\site-packages (from stack-data->ipython<9.0,>=8.18->aisetup) (2.0.5)\n",
      "Requirement already satisfied: pure-eval in c:\\users\\kevin\\anaconda3\\lib\\site-packages (from stack-data->ipython<9.0,>=8.18->aisetup) (0.2.2)\n",
      "Downloading aisetup-0.1.9-py3-none-any.whl (6.8 kB)\n",
      "Downloading folium-0.17.0-py2.py3-none-any.whl (108 kB)\n",
      "Downloading openai-1.86.0-py3-none-any.whl (730 kB)\n",
      "   ---------------------------------------- 0.0/730.3 kB ? eta -:--:--\n",
      "   --------------------------------------- 730.3/730.3 kB 15.1 MB/s eta 0:00:00\n",
      "Downloading python_dotenv-1.1.0-py3-none-any.whl (20 kB)\n",
      "Downloading branca-0.8.1-py3-none-any.whl (26 kB)\n",
      "Downloading jiter-0.10.0-cp312-cp312-win_amd64.whl (206 kB)\n",
      "Installing collected packages: python-dotenv, jiter, branca, openai, folium, aisetup\n",
      "  Attempting uninstall: python-dotenv\n",
      "    Found existing installation: python-dotenv 0.21.0\n",
      "    Uninstalling python-dotenv-0.21.0:\n",
      "      Successfully uninstalled python-dotenv-0.21.0\n",
      "Successfully installed aisetup-0.1.9 branca-0.8.1 folium-0.17.0 jiter-0.10.0 openai-1.86.0 python-dotenv-1.1.0\n"
     ]
    }
   ],
   "source": [
    "!pip install aisetup"
   ]
  },
  {
   "cell_type": "code",
   "execution_count": 107,
   "id": "ec5b0f83-7c93-4778-ac16-f95e4809a420",
   "metadata": {
    "scrolled": true
   },
   "outputs": [
    {
     "name": "stdout",
     "output_type": "stream",
     "text": [
      "Warning: An OpenAI API key is required to use AI model functions. Please provide the key by calling `authenticate(openai_api_key)` or ensure it is specified in the `.env` file as 'OPENAI_API_KEY'. If you set it in the `.env` file, call `authenticate()` or reload the package to proceed.\n"
     ]
    }
   ],
   "source": [
    "from aisetup import get_llm_response"
   ]
  },
  {
   "cell_type": "code",
   "execution_count": 111,
   "id": "e76785fb-0f91-4b43-820d-83ee15786e2f",
   "metadata": {},
   "outputs": [],
   "source": [
    "# response = get_llm_response(\"Why is the programming language called Python?\")\n",
    "\n",
    "# Print LLMs response\n",
    "# print(response)"
   ]
  },
  {
   "cell_type": "markdown",
   "id": "8637f843-15eb-4317-bf35-b982b46e6d19",
   "metadata": {
    "jp-MarkdownHeadingCollapsed": true
   },
   "source": [
    "# APIs to get data from the web"
   ]
  },
  {
   "cell_type": "markdown",
   "id": "bc86d956-d586-40d0-8ec4-3fb00351ab56",
   "metadata": {},
   "source": [
    "**API** = application programming interface"
   ]
  },
  {
   "cell_type": "code",
   "execution_count": 1,
   "id": "b4a57d42-d363-477b-a138-131b956e5acf",
   "metadata": {},
   "outputs": [
    {
     "name": "stdout",
     "output_type": "stream",
     "text": [
      "Warning: An OpenAI API key is required to use AI model functions. Please provide the key by calling `authenticate(openai_api_key)` or ensure it is specified in the `.env` file as 'OPENAI_API_KEY'. If you set it in the `.env` file, call `authenticate()` or reload the package to proceed.\n"
     ]
    }
   ],
   "source": [
    "import os\n",
    "import requests\n",
    "from aisetup import print_llm_response\n",
    "from dotenv import load_dotenv"
   ]
  },
  {
   "cell_type": "code",
   "execution_count": 13,
   "id": "7592e6ed-0414-4373-a7a4-fc3271916159",
   "metadata": {},
   "outputs": [],
   "source": [
    "# api_key = \"YOUR_API_KEY\"\n",
    "# WEATHER_API_KEY=8eb1b2110ce0494197acc13846e20edf\n",
    "# https://home.openweathermap.org/api_keys"
   ]
  },
  {
   "cell_type": "code",
   "execution_count": 15,
   "id": "eaba853e-4589-4f89-b2fb-67046b7034a5",
   "metadata": {},
   "outputs": [
    {
     "name": "stdout",
     "output_type": "stream",
     "text": [
      "Overwriting .env\n"
     ]
    }
   ],
   "source": [
    "%%writefile .env\n",
    "WEATHER_API_KEY=8eb1b2110ce0494197acc13846e20edf"
   ]
  },
  {
   "cell_type": "code",
   "execution_count": 26,
   "id": "c2fe7d81-b52a-456f-bba2-8896361487a8",
   "metadata": {},
   "outputs": [],
   "source": [
    "# Get the Weather API key from the .env file\n",
    "# https://openweathermap.org/price\n",
    "load_dotenv('.env', override=True)\n",
    "api_key = os.getenv('WEATHER_API_KEY')"
   ]
  },
  {
   "cell_type": "code",
   "execution_count": 28,
   "id": "1896f726-8476-4c87-9352-d82b1f4a999c",
   "metadata": {},
   "outputs": [],
   "source": [
    "# Store the latitude value in the 'lat' variable\n",
    "lat = 28.5383   # ORL, FL\n",
    "\n",
    "# Store the longitude value in the 'long' variable\n",
    "lon = -81.3792"
   ]
  },
  {
   "cell_type": "code",
   "execution_count": 30,
   "id": "d4335382-e8b6-4051-8561-31e19ec844ea",
   "metadata": {},
   "outputs": [],
   "source": [
    "url = f\"https://api.openweathermap.org/data/2.5/forecast?units=metric&cnt=1&lat={lat}&lon={lon}&appid={api_key}\"\n",
    "\n",
    "# Use the get function from the requests library to store the response from the API\n",
    "response = requests.get(url)"
   ]
  },
  {
   "cell_type": "code",
   "execution_count": 32,
   "id": "a0b2dd40-9727-4af8-8757-377c35a7f0d3",
   "metadata": {},
   "outputs": [
    {
     "name": "stdout",
     "output_type": "stream",
     "text": [
      "{'cod': 401, 'message': 'Invalid API key. Please see https://openweathermap.org/faq#error401 for more info.'}\n"
     ]
    }
   ],
   "source": [
    "# Take the response from the API (in JSON) and assign it to a Python dictionary\n",
    "data = response.json()\n",
    "\n",
    "# Print\n",
    "print(data)"
   ]
  },
  {
   "cell_type": "code",
   "execution_count": 11,
   "id": "9f128d36-f6fd-4fb8-932c-438b8dc39950",
   "metadata": {},
   "outputs": [
    {
     "name": "stdout",
     "output_type": "stream",
     "text": [
      "An error occurred: 401 Client Error: Unauthorized for url: https://api.openweathermap.org/data/2.5/forecast?units=metric&cnt=1&lat=28.5383&lon=-81.3792&appid=8eb1b2110ce0494197acc13846e20edf\n",
      "Specifically, an 'Invalid API key' error was received.\n",
      "Please double-check your API key on OpenWeatherMap and in your .env file.\n"
     ]
    }
   ],
   "source": [
    "# Load environment variables from .env file\n",
    "load_dotenv('.env', override=True)\n",
    "\n",
    "# Get the Weather API key\n",
    "api_key = os.getenv('WEATHER_API_KEY')\n",
    "\n",
    "# Check if the API key was loaded successfully\n",
    "if not api_key:\n",
    "    print(\"Error: WEATHER_API_KEY not found in .env file or environment variables.\")\n",
    "    print(\"Please make sure your .env file exists and contains WEATHER_API_KEY=your_key_here\")\n",
    "    exit() # Exit the script if no API key is found\n",
    "\n",
    "# Store the latitude value in the 'lat' variable\n",
    "lat = 28.5383  # ORL, FL\n",
    "\n",
    "# Store the longitude value in the 'long' variable\n",
    "lon = -81.3792\n",
    "\n",
    "url = f\"https://api.openweathermap.org/data/2.5/forecast?units=metric&cnt=1&lat={lat}&lon={lon}&appid={api_key}\"\n",
    "\n",
    "try:\n",
    "    # Use the get function from the requests library to store the response from the API\n",
    "    response = requests.get(url)\n",
    "\n",
    "    # Raise an exception for bad status codes (4xx or 5xx)\n",
    "    response.raise_for_status()\n",
    "\n",
    "    # Take the response from the API (in JSON) and assign it to a Python dictionary\n",
    "    data = response.json()\n",
    "\n",
    "    # Print\n",
    "    print(data)\n",
    "\n",
    "except requests.exceptions.RequestException as e:\n",
    "    print(f\"An error occurred: {e}\")\n",
    "    if response.status_code == 401:\n",
    "        print(\"Specifically, an 'Invalid API key' error was received.\")\n",
    "        print(\"Please double-check your API key on OpenWeatherMap and in your .env file.\")\n",
    "    elif response.status_code:\n",
    "        print(f\"Status Code: {response.status_code}\")\n",
    "        print(f\"Response Text: {response.text}\")"
   ]
  },
  {
   "cell_type": "code",
   "execution_count": null,
   "id": "b0570ad2-ed70-46d3-a3b7-571277114d74",
   "metadata": {},
   "outputs": [],
   "source": [
    "temperature = data['list'][0]['main']['temp']\n",
    "description = data['list'][0]['weather'][0]['description']\n",
    "wind_speed = data['list'][0]['wind']['speed']\n",
    "\n",
    "print(f\"Temperature: {temperature}\")\n",
    "print(f\"Weather Description: {description}\")\n",
    "print(f\"Wind Speed: {wind_speed}\")"
   ]
  },
  {
   "cell_type": "code",
   "execution_count": null,
   "id": "62ea2694-c81a-4a23-81bd-148da5b941a3",
   "metadata": {},
   "outputs": [],
   "source": [
    "weather_string = f\"\"\"The temperature is {temperature}°C. \n",
    "It is currently {description},\n",
    "with a wind speed of {wind_speed}m/s.\n",
    "\"\"\"\n",
    "\n",
    "print(weather_string)"
   ]
  },
  {
   "cell_type": "code",
   "execution_count": null,
   "id": "d0b7633d-f18f-43b2-8c7b-22d3dc046e91",
   "metadata": {},
   "outputs": [],
   "source": [
    "prompt = f\"\"\"Based on the following weather, \n",
    "suggest an appropriate outdoor outfit.\n",
    "\n",
    "Forecast: {weather_string}\n",
    "\"\"\"\n",
    "\n",
    "# Print the LLM response\n",
    "print_llm_response(prompt)"
   ]
  },
  {
   "cell_type": "code",
   "execution_count": null,
   "id": "bd5cce54-82f5-4cac-b54c-c67bc4274105",
   "metadata": {},
   "outputs": [],
   "source": [
    "# Complete the code below to get the \"feels_like\" temperature at your current location\n",
    "lat = \n",
    "lon = \n",
    "url = f\"https://api.openweathermap.org/data/2.5/forecast?units=metric&cnt=1&lat={lat}&lon={lon}&appid={api_key}\"\n",
    "response = \n",
    "\n",
    "data = response.json()\n",
    "feels_like = \n",
    "city = data['city']['name']\n",
    "print(f\"The temperature currently feels like {feels_like}°C in {city}.\")\n"
   ]
  },
  {
   "cell_type": "markdown",
   "id": "8285263f-c0e0-4d97-a6f0-1ef112a4f22b",
   "metadata": {
    "jp-MarkdownHeadingCollapsed": true
   },
   "source": [
    "# APIs to use AI models"
   ]
  },
  {
   "cell_type": "code",
   "execution_count": 40,
   "id": "a31f3d44-b539-4c27-a2f7-a7ba41a10132",
   "metadata": {
    "collapsed": true,
    "jupyter": {
     "outputs_hidden": true
    },
    "scrolled": true
   },
   "outputs": [
    {
     "name": "stdout",
     "output_type": "stream",
     "text": [
      "Requirement already satisfied: openai in c:\\users\\kevin\\anaconda3\\lib\\site-packages (1.86.0)\n",
      "Requirement already satisfied: anyio<5,>=3.5.0 in c:\\users\\kevin\\anaconda3\\lib\\site-packages (from openai) (4.9.0)\n",
      "Requirement already satisfied: distro<2,>=1.7.0 in c:\\users\\kevin\\anaconda3\\lib\\site-packages (from openai) (1.9.0)\n",
      "Requirement already satisfied: httpx<1,>=0.23.0 in c:\\users\\kevin\\anaconda3\\lib\\site-packages (from openai) (0.28.1)\n",
      "Requirement already satisfied: jiter<1,>=0.4.0 in c:\\users\\kevin\\anaconda3\\lib\\site-packages (from openai) (0.10.0)\n",
      "Requirement already satisfied: pydantic<3,>=1.9.0 in c:\\users\\kevin\\anaconda3\\lib\\site-packages (from openai) (2.8.2)\n",
      "Requirement already satisfied: sniffio in c:\\users\\kevin\\anaconda3\\lib\\site-packages (from openai) (1.3.0)\n",
      "Requirement already satisfied: tqdm>4 in c:\\users\\kevin\\anaconda3\\lib\\site-packages (from openai) (4.66.5)\n",
      "Requirement already satisfied: typing-extensions<5,>=4.11 in c:\\users\\kevin\\anaconda3\\lib\\site-packages (from openai) (4.11.0)\n",
      "Requirement already satisfied: idna>=2.8 in c:\\users\\kevin\\anaconda3\\lib\\site-packages (from anyio<5,>=3.5.0->openai) (3.7)\n",
      "Requirement already satisfied: certifi in c:\\users\\kevin\\anaconda3\\lib\\site-packages (from httpx<1,>=0.23.0->openai) (2025.1.31)\n",
      "Requirement already satisfied: httpcore==1.* in c:\\users\\kevin\\anaconda3\\lib\\site-packages (from httpx<1,>=0.23.0->openai) (1.0.2)\n",
      "Requirement already satisfied: h11<0.15,>=0.13 in c:\\users\\kevin\\anaconda3\\lib\\site-packages (from httpcore==1.*->httpx<1,>=0.23.0->openai) (0.14.0)\n",
      "Requirement already satisfied: annotated-types>=0.4.0 in c:\\users\\kevin\\anaconda3\\lib\\site-packages (from pydantic<3,>=1.9.0->openai) (0.6.0)\n",
      "Requirement already satisfied: pydantic-core==2.20.1 in c:\\users\\kevin\\anaconda3\\lib\\site-packages (from pydantic<3,>=1.9.0->openai) (2.20.1)\n",
      "Requirement already satisfied: colorama in c:\\users\\kevin\\anaconda3\\lib\\site-packages (from tqdm>4->openai) (0.4.6)\n"
     ]
    }
   ],
   "source": [
    "!pip install openai"
   ]
  },
  {
   "cell_type": "code",
   "execution_count": 62,
   "id": "c9e7d9ae-5afa-4245-b124-f23eda60947f",
   "metadata": {},
   "outputs": [],
   "source": [
    "# Temperature = randomness of AI model"
   ]
  },
  {
   "cell_type": "code",
   "execution_count": 46,
   "id": "ec3edb93-d3a9-4081-9694-859c53e5a3bd",
   "metadata": {},
   "outputs": [],
   "source": [
    "import os\n",
    "from dotenv import load_dotenv\n",
    "from openai import OpenAI"
   ]
  },
  {
   "cell_type": "code",
   "execution_count": null,
   "id": "8be976bd-0006-4703-a120-e70b8cc7dc94",
   "metadata": {},
   "outputs": [],
   "source": [
    "# Get the OpenAI API key from the .env file\n",
    "load_dotenv('.env', override=True)\n",
    "openai_api_key = os.getenv('OPENAI_API_KEY')\n",
    "client = OpenAI(api_key = openai_api_key)"
   ]
  },
  {
   "cell_type": "code",
   "execution_count": null,
   "id": "69a55022-0092-4757-a92f-c977de95287c",
   "metadata": {},
   "outputs": [],
   "source": [
    "def get_llm_response(prompt):\n",
    "    completion = client.chat.completions.create(\n",
    "        model=\"gpt-4o-mini\",\n",
    "        messages=[\n",
    "            {\n",
    "                \"role\": \"system\",\n",
    "                \"content\": \"You are an AI assistant.\",\n",
    "            },\n",
    "            {\"role\": \"user\", \"content\": prompt},\n",
    "        ],\n",
    "        temperature=0.0,\n",
    "    )\n",
    "    response = completion.choices[0].message.content\n",
    "    return response"
   ]
  },
  {
   "cell_type": "code",
   "execution_count": null,
   "id": "ad142ac7-9705-4ce9-ab2e-365776513be0",
   "metadata": {},
   "outputs": [],
   "source": [
    "prompt = \"What is the capital of France?\"\n",
    "response = get_llm_response(prompt)\n",
    "print(response)"
   ]
  },
  {
   "cell_type": "code",
   "execution_count": null,
   "id": "fa968375-7d38-4267-8b5d-7c7ec1618f8d",
   "metadata": {},
   "outputs": [],
   "source": [
    "def get_llm_response(prompt):\n",
    "    completion = client.chat.completions.create(\n",
    "        model=\"gpt-4o-mini\",\n",
    "        messages=[\n",
    "            {\n",
    "                \"role\": \"system\",\n",
    "                \"content\": \"You are an AI assistant.\", # change this instruction!\n",
    "            },\n",
    "            {\"role\": \"user\", \"content\": prompt},\n",
    "        ],\n",
    "        temperature=0.0,\n",
    "    )\n",
    "    response = completion.choices[0].message.content\n",
    "    return response"
   ]
  },
  {
   "cell_type": "code",
   "execution_count": null,
   "id": "00aef8ad-5c59-41c8-8844-ff71540cb40b",
   "metadata": {},
   "outputs": [],
   "source": [
    "prompt = \"What is the capital of France?\"\n",
    "response = get_llm_response(prompt)\n",
    "print(response)"
   ]
  },
  {
   "cell_type": "markdown",
   "id": "d1985a51-e2aa-41ff-99d1-4ad767efed88",
   "metadata": {},
   "source": [
    "## Using LLMs through the aisetup package\n",
    "- Uses credit card"
   ]
  },
  {
   "cell_type": "code",
   "execution_count": null,
   "id": "d5204831-0690-466b-abe6-d95d84610610",
   "metadata": {},
   "outputs": [],
   "source": [
    "from aisetup import authenticate, print_llm_response, get_llm_response\n",
    "\n",
    "authenticate(\"YOUR API KEY HERE\")\n",
    "\n",
    "# Print the LLM response\n",
    "print_llm_response(\"What is the capital of France\")\n",
    "\n",
    "# Store the LLM response as a variable and then print\n",
    "response = get_llm_response(\"What is the capital of France\")\n",
    "print(response)"
   ]
  },
  {
   "cell_type": "code",
   "execution_count": null,
   "id": "e6e86be5-1afa-45cd-8d5e-43ba432b13f5",
   "metadata": {},
   "outputs": [],
   "source": [
    "from aisetup import authenticate, print_llm_response, get_llm_response\n",
    "from dotenv import load_dotenv\n",
    "import os\n",
    "\n",
    "load_dotenv('.env', override=True)\n",
    "openai_api_key = os.getenv('OPENAI_API_KEY')\n",
    "authenticate(openai_api_key)\n",
    "\n",
    "# Print the LLM response\n",
    "print_llm_response(\"What is the capital of France\")\n",
    "\n",
    "# Store the LLM response as a variable and then print\n",
    "response = print_llm_response(\"What is the capital of France\")\n",
    "print(response)"
   ]
  },
  {
   "cell_type": "code",
   "execution_count": 60,
   "id": "0108cbe3-184d-40dd-b536-e41c52e9e54e",
   "metadata": {},
   "outputs": [],
   "source": [
    "# Extra practice\n",
    "# Ask the chatbot for help understanding how the load_dotenv code works. \n",
    "# Ask for step-by-step instructions on how you can create and setup a .env file on your own computer."
   ]
  },
  {
   "cell_type": "markdown",
   "id": "91d9fadc-a937-41ad-bc92-85b63c0139cf",
   "metadata": {},
   "source": [
    "### Setup for OpenAI API key\n",
    "OpenAI manages API keys through the OpenAI Platform, which is separate from ChatGPT. You will need to create an OpenAI Platform account even if you already have one for ChatGPT.\n",
    "\n",
    "Go to the OpenAI Platform homepage.\n",
    "\n",
    "Create an OpenAI Platform account. You can use the same login as your ChatGPT account, if you have one, but the two accounts are managed separately. Make sure you have verified your phone number. You cannot change your phone number after account creation. If a phone number does not appear in your account, you will need to contact support.\n",
    "\n",
    "Navigate to Dashboard -> API keys.\n",
    "\n",
    "Click \"+ Create new secret key\".\n",
    "\n",
    "Click \"Create secret key\". You do not need to name your key.\n",
    "\n",
    "Copy the key and save it somewhere. Note: You will NOT be able to view the key again after closing this window."
   ]
  },
  {
   "cell_type": "markdown",
   "id": "a49b1e7d-da88-4132-81ca-eae490981350",
   "metadata": {
    "jp-MarkdownHeadingCollapsed": true
   },
   "source": [
    "# Conclusion"
   ]
  },
  {
   "cell_type": "markdown",
   "id": "99d04033-4fd8-427d-b548-a0ceb31b9241",
   "metadata": {},
   "source": [
    "- Download Python using Anaconda\n",
    "- Short Courses: ChatGPT Prompt Engineering for Developers, Prompt Engineering with Llama 2 & 3\n",
    "- Longer Courses: ML Specialization\n",
    "- Work on projects that involve: downloading a webpage, conducting a websearch, extracting text from a pdf"
   ]
  }
 ],
 "metadata": {
  "kernelspec": {
   "display_name": "Python [conda env:base] *",
   "language": "python",
   "name": "conda-base-py"
  },
  "language_info": {
   "codemirror_mode": {
    "name": "ipython",
    "version": 3
   },
   "file_extension": ".py",
   "mimetype": "text/x-python",
   "name": "python",
   "nbconvert_exporter": "python",
   "pygments_lexer": "ipython3",
   "version": "3.12.3"
  }
 },
 "nbformat": 4,
 "nbformat_minor": 5
}
