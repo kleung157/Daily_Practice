{
 "cells": [
  {
   "cell_type": "markdown",
   "id": "d01aaeed-89de-4814-ae9a-25a13284ec65",
   "metadata": {
    "jp-MarkdownHeadingCollapsed": true
   },
   "source": [
    "# Read Data and Text Files"
   ]
  },
  {
   "cell_type": "code",
   "execution_count": 2,
   "id": "edc76595-4ca0-4496-96f0-44938f3eb9de",
   "metadata": {},
   "outputs": [],
   "source": [
    "from IPython.display import display, Markdown"
   ]
  },
  {
   "cell_type": "code",
   "execution_count": 3,
   "id": "3444c033-9251-49f4-8a63-628fcf3fee46",
   "metadata": {},
   "outputs": [],
   "source": [
    "ingredients = ['chicken', 'broccoli', 'rice']\n",
    "prompt = f\"\"\"\n",
    "    Create a short recipe that uses the following ingredients:\n",
    "    {ingredients}\n",
    "\"\"\"\n",
    "# response = get_llm_response(prompt)"
   ]
  },
  {
   "cell_type": "code",
   "execution_count": 4,
   "id": "35192eb1-dc04-4956-8e25-fd6010bcf80d",
   "metadata": {
    "scrolled": true
   },
   "outputs": [
    {
     "name": "stdout",
     "output_type": "stream",
     "text": [
      "\n",
      "## Simple Chicken, Broccoli, and Rice Skillet\n",
      "\n",
      "This quick and easy recipe brings together tender chicken, crisp-tender broccoli, and fluffy rice for a satisfying meal. It's perfect for a weeknight dinner and comes together in one pan for minimal cleanup.\n",
      "\n",
      "---\n",
      "\n",
      "**Yields:** 2 servings\n",
      "**Prep time:** 10 minutes\n",
      "**Cook time:** 20-25 minutes\n",
      "\n",
      "### Ingredients:\n",
      "\n",
      "* 1 tablespoon olive oil\n",
      "* 1 boneless, skinless chicken breast (about 8 oz), cut into 1-inch cubes\n",
      "* 1 head of broccoli, cut into bite-sized florets\n",
      "* 1 cup cooked rice (preferably leftover or quick-cook)\n",
      "* 1/2 cup chicken broth (or water)\n",
      "* Salt and black pepper to taste\n",
      "* Optional: 1/2 teaspoon garlic powder\n",
      "\n",
      "### Instructions:\n",
      "\n",
      "1.  **Cook Chicken:** Heat olive oil in a large skillet or wok over medium-high heat. Add the chicken cubes and season with salt, pepper, and garlic powder (if using). Cook, stirring occasionally, until browned and cooked through, about 5-7 minutes. Remove chicken from the skillet and set aside.\n",
      "2.  **Cook Broccoli:** Add broccoli florets to the same skillet. If the pan is dry, add another splash of olive oil. Sauté for 3-5 minutes until the broccoli starts to turn bright green and is slightly tender-crisp.\n",
      "3.  **Combine & Finish:** Return the cooked chicken to the skillet with the broccoli. Stir in the cooked rice and pour in the chicken broth. Toss everything together, cover the skillet, and cook for another 3-5 minutes, allowing the flavors to meld and the rice to heat through.\n",
      "4.  **Serve:** Taste and adjust seasoning if needed. Serve hot.\n",
      "\n"
     ]
    }
   ],
   "source": [
    "response = \"\"\"\n",
    "## Simple Chicken, Broccoli, and Rice Skillet\n",
    "\n",
    "This quick and easy recipe brings together tender chicken, crisp-tender broccoli, and fluffy rice for a satisfying meal. It's perfect for a weeknight dinner and comes together in one pan for minimal cleanup.\n",
    "\n",
    "---\n",
    "\n",
    "**Yields:** 2 servings\n",
    "**Prep time:** 10 minutes\n",
    "**Cook time:** 20-25 minutes\n",
    "\n",
    "### Ingredients:\n",
    "\n",
    "* 1 tablespoon olive oil\n",
    "* 1 boneless, skinless chicken breast (about 8 oz), cut into 1-inch cubes\n",
    "* 1 head of broccoli, cut into bite-sized florets\n",
    "* 1 cup cooked rice (preferably leftover or quick-cook)\n",
    "* 1/2 cup chicken broth (or water)\n",
    "* Salt and black pepper to taste\n",
    "* Optional: 1/2 teaspoon garlic powder\n",
    "\n",
    "### Instructions:\n",
    "\n",
    "1.  **Cook Chicken:** Heat olive oil in a large skillet or wok over medium-high heat. Add the chicken cubes and season with salt, pepper, and garlic powder (if using). Cook, stirring occasionally, until browned and cooked through, about 5-7 minutes. Remove chicken from the skillet and set aside.\n",
    "2.  **Cook Broccoli:** Add broccoli florets to the same skillet. If the pan is dry, add another splash of olive oil. Sauté for 3-5 minutes until the broccoli starts to turn bright green and is slightly tender-crisp.\n",
    "3.  **Combine & Finish:** Return the cooked chicken to the skillet with the broccoli. Stir in the cooked rice and pour in the chicken broth. Toss everything together, cover the skillet, and cook for another 3-5 minutes, allowing the flavors to meld and the rice to heat through.\n",
    "4.  **Serve:** Taste and adjust seasoning if needed. Serve hot.\n",
    "\"\"\"\n",
    "\n",
    "print(response)"
   ]
  },
  {
   "cell_type": "code",
   "execution_count": 5,
   "id": "89c7c734-9b24-450b-80bb-41725ac71083",
   "metadata": {
    "scrolled": true
   },
   "outputs": [
    {
     "data": {
      "text/markdown": [
       "\n",
       "## Simple Chicken, Broccoli, and Rice Skillet\n",
       "\n",
       "This quick and easy recipe brings together tender chicken, crisp-tender broccoli, and fluffy rice for a satisfying meal. It's perfect for a weeknight dinner and comes together in one pan for minimal cleanup.\n",
       "\n",
       "---\n",
       "\n",
       "**Yields:** 2 servings\n",
       "**Prep time:** 10 minutes\n",
       "**Cook time:** 20-25 minutes\n",
       "\n",
       "### Ingredients:\n",
       "\n",
       "* 1 tablespoon olive oil\n",
       "* 1 boneless, skinless chicken breast (about 8 oz), cut into 1-inch cubes\n",
       "* 1 head of broccoli, cut into bite-sized florets\n",
       "* 1 cup cooked rice (preferably leftover or quick-cook)\n",
       "* 1/2 cup chicken broth (or water)\n",
       "* Salt and black pepper to taste\n",
       "* Optional: 1/2 teaspoon garlic powder\n",
       "\n",
       "### Instructions:\n",
       "\n",
       "1.  **Cook Chicken:** Heat olive oil in a large skillet or wok over medium-high heat. Add the chicken cubes and season with salt, pepper, and garlic powder (if using). Cook, stirring occasionally, until browned and cooked through, about 5-7 minutes. Remove chicken from the skillet and set aside.\n",
       "2.  **Cook Broccoli:** Add broccoli florets to the same skillet. If the pan is dry, add another splash of olive oil. Sauté for 3-5 minutes until the broccoli starts to turn bright green and is slightly tender-crisp.\n",
       "3.  **Combine & Finish:** Return the cooked chicken to the skillet with the broccoli. Stir in the cooked rice and pour in the chicken broth. Toss everything together, cover the skillet, and cook for another 3-5 minutes, allowing the flavors to meld and the rice to heat through.\n",
       "4.  **Serve:** Taste and adjust seasoning if needed. Serve hot.\n"
      ],
      "text/plain": [
       "<IPython.core.display.Markdown object>"
      ]
     },
     "metadata": {},
     "output_type": "display_data"
    }
   ],
   "source": [
    "display(Markdown(response))"
   ]
  },
  {
   "cell_type": "code",
   "execution_count": 6,
   "id": "efdebc6f-69c8-4ee7-a1df-0543011c1cf3",
   "metadata": {},
   "outputs": [],
   "source": [
    "f = open(\"./text/email.txt\", \"r\")\n",
    "email = f.read()\n",
    "f.close()"
   ]
  },
  {
   "cell_type": "code",
   "execution_count": 7,
   "id": "76cddbf8-9240-410c-9727-dd1bf54fb02b",
   "metadata": {},
   "outputs": [
    {
     "name": "stdout",
     "output_type": "stream",
     "text": [
      "Subject: My Incredible Journey Around the World!\n",
      "\n",
      "Hi Andrew,\n",
      "\n",
      "I hope you are doing greatl! I just returned from an incredible trip around the world. I started in New York, enjoying a Broadway show and the skyline. In Rio de Janeiro, I soaked up the sun on Copacabana Beach and hiked to Christ the Redeemer. Cape Town amazed me with its natural beauty and safari adventures. Paris was magical with its charming streets and delicious food. Istanbul's Hagia Sophia and Bosphorus cruise were unforgettable. Tokyo dazzled with its neon lights and delicious sushi. Finally, Sydney's Opera House and Bondi Beach were the perfect end to my journey. Can't wait to share more stories and photos when we catch up!\n",
      "\n",
      "Best,\n",
      "\n",
      "Daniel\n"
     ]
    }
   ],
   "source": [
    "print(email)"
   ]
  },
  {
   "cell_type": "code",
   "execution_count": 8,
   "id": "195d08ae-81f7-4fe8-ba8b-d2c3c7c37e6f",
   "metadata": {},
   "outputs": [
    {
     "name": "stdout",
     "output_type": "stream",
     "text": [
      "Extract bullet points from the following email. \n",
      "Include the sender information. \n",
      "\n",
      "Email:\n",
      "Subject: My Incredible Journey Around the World!\n",
      "\n",
      "Hi Andrew,\n",
      "\n",
      "I hope you are doing greatl! I just returned from an incredible trip around the world. I started in New York, enjoying a Broadway show and the skyline. In Rio de Janeiro, I soaked up the sun on Copacabana Beach and hiked to Christ the Redeemer. Cape Town amazed me with its natural beauty and safari adventures. Paris was magical with its charming streets and delicious food. Istanbul's Hagia Sophia and Bosphorus cruise were unforgettable. Tokyo dazzled with its neon lights and delicious sushi. Finally, Sydney's Opera House and Bondi Beach were the perfect end to my journey. Can't wait to share more stories and photos when we catch up!\n",
      "\n",
      "Best,\n",
      "\n",
      "Daniel\n"
     ]
    }
   ],
   "source": [
    "prompt = f\"\"\"Extract bullet points from the following email. \n",
    "Include the sender information. \n",
    "\n",
    "Email:\n",
    "{email}\"\"\"\n",
    "\n",
    "print(prompt)"
   ]
  },
  {
   "cell_type": "code",
   "execution_count": 9,
   "id": "54e74b4a-9d7e-486f-a3e1-1b3216505ec3",
   "metadata": {
    "scrolled": true
   },
   "outputs": [
    {
     "name": "stdout",
     "output_type": "stream",
     "text": [
      "\n",
      "---\n",
      "\n",
      "### Email Subject: My Incredible Journey Around the World!\n",
      "\n",
      "### Sender Information:\n",
      "* **Sender Name:** Daniel\n",
      "\n",
      "---\n",
      "\n",
      "### Journey Highlights:\n",
      "* **New York:** Enjoyed a Broadway show and the skyline.\n",
      "* **Rio de Janeiro:** Soaked up the sun on Copacabana Beach and hiked to Christ the Redeemer.\n",
      "* **Cape Town:** Amazed by its natural beauty and safari adventures.\n",
      "* **Paris:** Found it magical with charming streets and delicious food.\n",
      "* **Istanbul:** Experienced the unforgettable Hagia Sophia and a Bosphorus cruise.\n",
      "* **Tokyo:** Dazzled by its neon lights and delicious sushi.\n",
      "* **Sydney:** Concluded the journey with the Opera House and Bondi Beach.\n",
      "\n"
     ]
    }
   ],
   "source": [
    "# bullet_points = get_llm_response(prompt)   \n",
    "# use google gemini then copy paste previous cell and this cell\n",
    "bullet_points = \"\"\"\n",
    "---\n",
    "\n",
    "### Email Subject: My Incredible Journey Around the World!\n",
    "\n",
    "### Sender Information:\n",
    "* **Sender Name:** Daniel\n",
    "\n",
    "---\n",
    "\n",
    "### Journey Highlights:\n",
    "* **New York:** Enjoyed a Broadway show and the skyline.\n",
    "* **Rio de Janeiro:** Soaked up the sun on Copacabana Beach and hiked to Christ the Redeemer.\n",
    "* **Cape Town:** Amazed by its natural beauty and safari adventures.\n",
    "* **Paris:** Found it magical with charming streets and delicious food.\n",
    "* **Istanbul:** Experienced the unforgettable Hagia Sophia and a Bosphorus cruise.\n",
    "* **Tokyo:** Dazzled by its neon lights and delicious sushi.\n",
    "* **Sydney:** Concluded the journey with the Opera House and Bondi Beach.\n",
    "\"\"\"\n",
    "print(bullet_points)"
   ]
  },
  {
   "cell_type": "code",
   "execution_count": 10,
   "id": "65116eff-2759-4632-993f-28c9d585a661",
   "metadata": {
    "scrolled": true
   },
   "outputs": [
    {
     "data": {
      "text/markdown": [
       "\n",
       "---\n",
       "\n",
       "### Email Subject: My Incredible Journey Around the World!\n",
       "\n",
       "### Sender Information:\n",
       "* **Sender Name:** Daniel\n",
       "\n",
       "---\n",
       "\n",
       "### Journey Highlights:\n",
       "* **New York:** Enjoyed a Broadway show and the skyline.\n",
       "* **Rio de Janeiro:** Soaked up the sun on Copacabana Beach and hiked to Christ the Redeemer.\n",
       "* **Cape Town:** Amazed by its natural beauty and safari adventures.\n",
       "* **Paris:** Found it magical with charming streets and delicious food.\n",
       "* **Istanbul:** Experienced the unforgettable Hagia Sophia and a Bosphorus cruise.\n",
       "* **Tokyo:** Dazzled by its neon lights and delicious sushi.\n",
       "* **Sydney:** Concluded the journey with the Opera House and Bondi Beach.\n"
      ],
      "text/plain": [
       "<IPython.core.display.Markdown object>"
      ]
     },
     "metadata": {},
     "output_type": "display_data"
    }
   ],
   "source": [
    "display(Markdown(bullet_points))"
   ]
  },
  {
   "cell_type": "code",
   "execution_count": 11,
   "id": "6f52c01c-68a0-4809-be67-7c5572dba4a7",
   "metadata": {
    "jupyter": {
     "source_hidden": true
    }
   },
   "outputs": [],
   "source": [
    "import os\n",
    "\n",
    "def list_files_in_directory(directory_path='.'):\n",
    "    \"\"\"\n",
    "    Lists all files (not directories) in a given directory path.\n",
    "\n",
    "    Args:\n",
    "        directory_path (str): The path to the directory. Defaults to '.'\n",
    "                              which represents the current working directory.\n",
    "\n",
    "    Returns:\n",
    "        list: A list of filenames in the specified directory.\n",
    "              Returns an empty list if the directory does not exist or\n",
    "              contains no files.\n",
    "    \"\"\"\n",
    "    files = []\n",
    "    try:\n",
    "        # Get all entries in the directory\n",
    "        for entry in os.listdir(directory_path):\n",
    "            # Construct the full path to the entry\n",
    "            full_path = os.path.join(directory_path, entry)\n",
    "            # Check if it's a file (and not a directory)\n",
    "            if os.path.isfile(full_path):\n",
    "                files.append(entry)\n",
    "    except FileNotFoundError:\n",
    "        print(f\"Error: Directory '{directory_path}' not found.\")\n",
    "    except Exception as e:\n",
    "        print(f\"An error occurred: {e}\")\n",
    "    return files"
   ]
  },
  {
   "cell_type": "code",
   "execution_count": 12,
   "id": "c48193e5-7438-40dc-abfa-9740751c7468",
   "metadata": {},
   "outputs": [
    {
     "name": "stdout",
     "output_type": "stream",
     "text": [
      "Files in current directory:\n",
      "- w1_basics_of_ai_python_coding.ipynb\n",
      "- w2_automating_tasks_with_python.ipynb\n",
      "- w3_working_with_own_data_and_docs_in_python.ipynb\n",
      "\n",
      "==============================\n",
      "\n"
     ]
    }
   ],
   "source": [
    "print(\"Files in current directory:\")\n",
    "current_files = list_files_in_directory()\n",
    "if current_files:\n",
    "    for f in current_files:\n",
    "        print(f\"- {f}\")\n",
    "else:\n",
    "    print(\"No files found in the current directory.\")\n",
    "\n",
    "print(\"\\n\" + \"=\"*30 + \"\\n\")"
   ]
  },
  {
   "cell_type": "code",
   "execution_count": 13,
   "id": "74427bfe-8a8d-40a0-9bfc-30ec2c1a5a12",
   "metadata": {},
   "outputs": [
    {
     "data": {
      "text/plain": [
       "['w1_basics_of_ai_python_coding.ipynb',\n",
       " 'w2_automating_tasks_with_python.ipynb',\n",
       " 'w3_working_with_own_data_and_docs_in_python.ipynb']"
      ]
     },
     "execution_count": 13,
     "metadata": {},
     "output_type": "execute_result"
    }
   ],
   "source": [
    "list_files_in_directory()"
   ]
  },
  {
   "cell_type": "code",
   "execution_count": 14,
   "id": "4418f4e6-4596-4221-874d-d0305665730e",
   "metadata": {},
   "outputs": [
    {
     "name": "stdout",
     "output_type": "stream",
     "text": [
      "Subject: My Incredible Journey Around the World!\n",
      "\n",
      "Hi Andrew,\n",
      "\n",
      "I hope you are doing greatl! I just returned from an incredible trip around the world. I started in New York, enjoying a Broadway show and the skyline. In Rio de Janeiro, I soaked up the sun on Copacabana Beach and hiked to Christ the Redeemer. Cape Town amazed me with its natural beauty and safari adventures. Paris was magical with its charming streets and delicious food. Istanbul's Hagia Sophia and Bosphorus cruise were unforgettable. Tokyo dazzled with its neon lights and delicious sushi. Finally, Sydney's Opera House and Bondi Beach were the perfect end to my journey. Can't wait to share more stories and photos when we catch up!\n",
      "\n",
      "Best,\n",
      "\n",
      "Daniel\n"
     ]
    }
   ],
   "source": [
    "f = open(\"./text/email.txt\", \"r\")\n",
    "email = f.read()\n",
    "f.close()\n",
    "print(email)"
   ]
  },
  {
   "cell_type": "code",
   "execution_count": 15,
   "id": "586884c8-0cd1-4132-ab3e-07909f8ac149",
   "metadata": {
    "scrolled": true
   },
   "outputs": [
    {
     "name": "stdout",
     "output_type": "stream",
     "text": [
      "Kimchi Recipe\n",
      "\n",
      "To make kimchi, start by chopping one Napa cabbage into bite-sized pieces and salting it with 1/4 cup of sea salt. Let it sit for 1-2 hours. Rinse the cabbage under cold water three times and drain well. In a bowl, mix 1 tablespoon of sugar, 1 tablespoon of grated ginger, 4 minced garlic cloves, 1/4 cup of gochugaru (Korean red pepper flakes), and 3 tablespoons of fish sauce (or soy sauce). Add 3 chopped green onions, 1 julienned carrot, and 1 julienned daikon radish to the cabbage, then combine with the spice paste. Pack the mixture tightly into a jar, pressing down to remove air bubbles, and leave some space at the top. Let it sit at room temperature for 1-5 days, pressing down daily to keep the vegetables submerged. Once fermented to your liking, store the kimchi in the refrigerator. Enjoy!\n"
     ]
    }
   ],
   "source": [
    "f = open(\"./text/recipe.txt\", \"r\")\n",
    "recipe = f.read()\n",
    "f.close()\n",
    "print(recipe)"
   ]
  },
  {
   "cell_type": "code",
   "execution_count": 16,
   "id": "18ef349a-2f37-49d8-8061-8f0a31d2fd54",
   "metadata": {
    "jupyter": {
     "source_hidden": true
    }
   },
   "outputs": [],
   "source": [
    "import os\n",
    "from IPython.display import display\n",
    "import ipywidgets as widgets\n",
    "from ipywidgets import Layout\n",
    "\n",
    "def upload_txt_file_interactive(target_directory: str = './text/'):\n",
    "    \"\"\"\n",
    "    Creates an interactive widget in JupyterLab allowing users to upload\n",
    "    text files from their local file explorer to a specified directory.\n",
    "\n",
    "    Args:\n",
    "        target_directory (str): The directory where the file should be saved\n",
    "                                within the JupyterLab environment.\n",
    "                                Defaults to '.' (current working directory).\n",
    "    \"\"\"\n",
    "\n",
    "    # Create the target directory if it doesn't exist\n",
    "    try:\n",
    "        os.makedirs(target_directory, exist_ok=True)\n",
    "    except Exception as e:\n",
    "        print(f\"Error creating target directory '{target_directory}': {e}\")\n",
    "        return\n",
    "\n",
    "    # --- UI Elements ---\n",
    "    uploader = widgets.FileUpload(\n",
    "        accept='.txt,text/plain',  # Accept only text files\n",
    "        multiple=False,           # Allow only one file at a time\n",
    "        description='Select Text File to Upload',\n",
    "        button_style='primary',   # 'success', 'info', 'warning', 'danger' or ''\n",
    "        tooltip=f'Click to upload a .txt file to {target_directory}',\n",
    "        layout=Layout(width='auto')\n",
    "    )\n",
    "\n",
    "    output_area = widgets.Output()\n",
    "\n",
    "    # --- Upload Handler ---\n",
    "    def _handle_upload(change):\n",
    "        with output_area:\n",
    "            output_area.clear_output() # Clear previous messages\n",
    "\n",
    "            if not uploader.value:\n",
    "                print(\"No file selected.\")\n",
    "                return\n",
    "\n",
    "            # Access the uploaded file information\n",
    "            file_bunch = next(iter(uploader.value))\n",
    "\n",
    "            if not hasattr(file_bunch, 'name') or not hasattr(file_bunch, 'content'):\n",
    "                print(f\"Error: Uploaded file data has unexpected structure: {file_bunch}\")\n",
    "                print(\"Expected attributes 'name' and 'content'.\")\n",
    "                return\n",
    "\n",
    "            uploaded_file_name = file_bunch.name\n",
    "            \n",
    "            # --- FIX STARTS HERE ---\n",
    "            # Convert memoryview to bytes before decoding\n",
    "            file_content_bytes = bytes(file_bunch.content) \n",
    "            # --- FIX ENDS HERE ---\n",
    "\n",
    "            # Construct the full path to save the file\n",
    "            save_path = os.path.join(target_directory, uploaded_file_name)\n",
    "\n",
    "            try:\n",
    "                # Decode bytes to string (assuming UTF-8 for text files)\n",
    "                file_content_str = file_content_bytes.decode('utf-8')\n",
    "\n",
    "                # Write the content to the file\n",
    "                with open(save_path, 'w', encoding='utf-8') as f:\n",
    "                    f.write(file_content_str)\n",
    "\n",
    "                print(f\"Successfully uploaded '{uploaded_file_name}' to '{save_path}'\")\n",
    "                print(f\"File size: {len(file_content_bytes)} bytes\")\n",
    "            except UnicodeDecodeError:\n",
    "                print(f\"Error: Could not decode '{uploaded_file_name}' as UTF-8. \"\n",
    "                      \"It might be a different encoding or not a plain text file.\")\n",
    "            except Exception as e:\n",
    "                print(f\"Error saving file '{uploaded_file_name}': {e}\")\n",
    "\n",
    "    # Attach the handler to the uploader's value change (triggered on file selection)\n",
    "    uploader.observe(_handle_upload, names='value')\n",
    "\n",
    "    # --- Display Widgets ---\n",
    "    display(\n",
    "        widgets.VBox([\n",
    "            widgets.HTML(\"<h3>Upload Text File from Local System</h3>\"),\n",
    "            widgets.HTML(f\"<p>Selected directory: <b>{target_directory}</b></p>\"),\n",
    "            uploader,\n",
    "            output_area\n",
    "        ])\n",
    "    )"
   ]
  },
  {
   "cell_type": "code",
   "execution_count": 17,
   "id": "4ad74da8-fc88-4294-9be3-ccc8e758a8c0",
   "metadata": {},
   "outputs": [
    {
     "name": "stdout",
     "output_type": "stream",
     "text": [
      "Uploader for current directory:\n"
     ]
    },
    {
     "data": {
      "application/vnd.jupyter.widget-view+json": {
       "model_id": "1bf894d745fa4573be0cc00700f9e9f0",
       "version_major": 2,
       "version_minor": 0
      },
      "text/plain": [
       "VBox(children=(HTML(value='<h3>Upload Text File from Local System</h3>'), HTML(value='<p>Selected directory: <…"
      ]
     },
     "metadata": {},
     "output_type": "display_data"
    }
   ],
   "source": [
    "# --- Call the interactive function to display the uploader ---\n",
    "# Example 1: Upload to the current directory\n",
    "print(\"Uploader for current directory:\")\n",
    "upload_txt_file_interactive()"
   ]
  },
  {
   "cell_type": "code",
   "execution_count": 18,
   "id": "019cb955-34b9-423d-a03e-c5cc31e2a2cc",
   "metadata": {},
   "outputs": [],
   "source": [
    "f = open(\"./text/personal_statement.txt\", \"r\", encoding='utf-8')\n",
    "your_file_content = f.read()\n",
    "f.close()"
   ]
  },
  {
   "cell_type": "code",
   "execution_count": 19,
   "id": "286ec5c2-d292-42bd-8459-53e292f9e7f5",
   "metadata": {
    "collapsed": true,
    "jupyter": {
     "outputs_hidden": true
    },
    "scrolled": true
   },
   "outputs": [
    {
     "name": "stdout",
     "output_type": "stream",
     "text": [
      "Every winter, I visit my family in San Francisco. During one of these trips, I received a phone call on\n",
      "\n",
      " the drive to a dinner reservation. An unfamiliar voice delivered a startling message regarding my\n",
      "\n",
      " father.  In that moment, the once luminous cityscape overarching the lustrous vehicle began to turn\n",
      "\n",
      " pitch black. All the previous stomach growling ceased, words had lost meaning in the exchange, and\n",
      "\n",
      " nerves failed to fire as the darkness eventually consumed its intended passenger. I sat frozen,\n",
      "\n",
      " powerless, and scared. When I fully discerned the message, it informed me that my father had\n",
      "\n",
      " suddenly lost consciousness after returning home from work. I asked myself, how could this happen to\n",
      "\n",
      " him, what could have prevented it, and why couldn't I do more for him?\n",
      "\n",
      " As a child, I would wait at my bedroom door to peer down the hallway to see a glimpse of my father\n",
      "\n",
      " coming home. It was not often that he would be present in the daytime, so I took these opportunities to\n",
      "\n",
      " run towards him in the kitchen, where my mother would fix a healthy dinner for him. There, he would\n",
      "\n",
      " be smiling and vividly talking fondly about interactions with customers and co-workers. Guests raved\n",
      "\n",
      " about what he built in the community from the décor, the service, and the food. Colleagues criticized\n",
      "\n",
      " how he wanted to perfect already popular dishes and provide input on established service flows, yet\n",
      "\n",
      " they continued to follow him as a leader. He was humbled by the reviews received in the local\n",
      "\n",
      " periodicals and never stopped improving wherever he could to provide the best ways to meet their\n",
      "\n",
      " needs before they could anticipate it. I’d managed to keep my eyes open hearing all of it and was\n",
      "\n",
      " eager to provide what he had been able to do for others and experience everything they did for him.\n",
      "\n",
      " Not long after, he would hobble slowly to bed and then repeat work from morning to night for the rest of\n",
      "\n",
      " the week.\n",
      "\n",
      " Around this time, I had also asked my mother about my father’s prescription. She’d say it was for\n",
      "\n",
      " lowering his blood sugar levels. He had an unrelenting affinity for sweets, diet soda, and anything else\n",
      "\n",
      " he could get his hands on. My mother would always warn him not to eat a lot as she would with me. I\n",
      "\n",
      " could not understand what she meant as he visibly looked fine. It would not become clear to me until\n",
      "\n",
      " much later in college that his slowed gait, loss of consciousness, and medication were related to\n",
      "\n",
      " diabetes.\n",
      "\n",
      " In my formative years at university, I wanted to pursue a profession where I could meet others' needs\n",
      "\n",
      " as my father did as a restaurateur. But I was uncertain of which career to choose. As a result, I was\n",
      "\n",
      " interested in several health-related courses and lacked drive in other subjects. Towards my senior\n",
      "\n",
      " year, I had a clearer vision of a path to medicine through an accumulation of volunteering, working,\n",
      "\n",
      " and teaching opportunities. I was passionate about learning more about a field that could directly\n",
      "\n",
      " impact others and wanted to prove to myself I had what it takes to make it happen.\n",
      "\n",
      " After graduating, I applied to several clinical jobs and worked in restaurants. In the beginning, the\n",
      "\n",
      " hospitality industry was everything I thought my father had experienced. It was rewarding to see what I\n",
      "\n",
      " could create with my science background, learn more, and see the joy on people's faces. However,\n",
      "\n",
      " many nights I came home from 12–14-hour shifts feeling tired, and stressed, and eating whatever was\n",
      "\n",
      " available. I had put others before myself when I needed to have better self-care. I’d worked close to a\n",
      "\n",
      " decade in restaurants and had only grasped the surface of what my father went through. Working\n",
      "\n",
      " helped me realize why all this was worth it to him and how it impacted his health.\n",
      "\n",
      " Throughout my time in the restaurant industry, I never wanted to stop learning. The cooked meals and\n",
      "\n",
      " service were great to provide. But I longed to find ways to improve the lives of others holistically. I felt I\n",
      "\n",
      " had not explored all the possibilities in my past endeavors. So, I decided to enroll in masters' programs\n",
      "\n",
      " that would eventually continue to solidify my ambitions. These graduate schools opened doors to\n",
      "\n",
      " research and clinical opportunities that would advance my interest in medicine. Research showed me\n",
      "\n",
      " the innovations and potential for novel treatments in the future. As for clinically, I was fortunate enough\n",
      "\n",
      " to shadow physicians in underserved and local communities. I witnessed healthcare workers tirelessly\n",
      "\n",
      " providing care to patients whose conditions would improve over time. Every person’s effort and well\n",
      "\n",
      "being reminded me of my father working and of the illness he faced. To me, the level of respect these\n",
      "\n",
      " healthcare professionals have for their patients and the immense trust in them that results is akin to the\n",
      "\n",
      " connection between a guest and a hospitality worker.\n",
      "\n",
      " The culmination of events that transpired has guided me to the healthcare field and shaped my life\n",
      "\n",
      " perspective. I am just as hungry to tend to people’s needs as when listening to my father in the kitchen.\n",
      "\n",
      " I am also ready to update and utilize my mise-en-place to help anyone from feeling the same as I did\n",
      "\n",
      " that one eventful evening. I will continue to be mindful of my health before it affects the people I may\n",
      "\n",
      " care for. Someday, I hope to share these experiences and exemplify the qualities acquired in a future\n",
      "\n",
      " medical career\n"
     ]
    }
   ],
   "source": [
    "print(your_file_content)"
   ]
  },
  {
   "cell_type": "code",
   "execution_count": 20,
   "id": "b6354309-a07d-46f8-b83d-16686095ea61",
   "metadata": {},
   "outputs": [],
   "source": [
    "# your_file_content = personal_statement.txt \n",
    "# copy and paste onto google gemini then copy this prompt\n",
    "\n",
    "prompt = f\"\"\"Summarize the content from the following text in at most two sentences.\n",
    "Text:\n",
    "{your_file_content}\"\"\"\n",
    "\n",
    "# summary = prompt(your_file_content)"
   ]
  },
  {
   "cell_type": "code",
   "execution_count": 21,
   "id": "d603b19c-cf54-413d-9ae1-cfc185540864",
   "metadata": {},
   "outputs": [
    {
     "name": "stdout",
     "output_type": "stream",
     "text": [
      "The author recounts a pivotal moment when their father's sudden health crisis, linked to undiagnosed diabetes, profoundly influenced their career aspirations. \n",
      "This experience, combined with reflections on their father's dedication as a restaurateur, motivated them to pursue a path in medicine, driven by a desire to provide holistic care and embody similar qualities of service and self-awareness.\n"
     ]
    }
   ],
   "source": [
    "summary = f\"\"\"The author recounts a pivotal moment when their father's sudden health crisis, linked to undiagnosed diabetes, profoundly influenced their career aspirations. \n",
    "This experience, combined with reflections on their father's dedication as a restaurateur, motivated them to pursue a path in medicine, driven by a desire to provide holistic care and embody similar qualities of service and self-awareness.\"\"\"\n",
    "print(summary)"
   ]
  },
  {
   "cell_type": "code",
   "execution_count": 22,
   "id": "db490eff-bc4f-49a0-8acb-fb2c3f83f4b3",
   "metadata": {},
   "outputs": [],
   "source": [
    "prompt = f\"\"\"Extract bullet points from the personal statement\"\"\n",
    "Text:\n",
    "{your_file_content}\"\"\"\n",
    "\n",
    "bullet_points = \"\"\"\n",
    "---\n",
    "\n",
    "### Key Experiences and Influences\n",
    "\n",
    "* Received a startling phone call about the father's sudden loss of consciousness during a drive to dinner.\n",
    "* Realized later in college that father's symptoms (slowed gait, loss of consciousness, medication) were related to diabetes.\n",
    "* As a child, admired father's dedication as a restaurateur, his positive interactions with customers and colleagues, and his constant pursuit of perfection.\n",
    "* Questioned how father's health issues could happen and what could have prevented them.\n",
    "* Pursued health-related courses in university, gaining a clearer vision for a path to medicine through volunteering, working, and teaching.\n",
    "* Worked in the hospitality industry after graduation, initially finding it rewarding but also experiencing long hours, stress, and poor self-care, which illuminated the impact of work on health.\n",
    "* Enrolled in master's programs to further ambitions in medicine, leading to research and clinical opportunities.\n",
    "* Witnessed healthcare workers tirelessly providing care, reinforcing the desire to improve lives holistically.\n",
    "* Recognized the deep respect and trust between healthcare professionals and patients, akin to the guest-hospitality worker connection.\n",
    "\n",
    "---\n",
    "\n",
    "### Motivations and Future Aspirations\n",
    "\n",
    "* Guided by personal events and experiences into the healthcare field, shaping life perspective.\n",
    "* Driven to tend to people's needs, similar to the father's dedication in the kitchen.\n",
    "* Committed to proactive self-care to avoid health issues that could impact others.\n",
    "* Aspirations to share experiences and exemplify acquired qualities in a future medical career.\n",
    "\"\"\""
   ]
  },
  {
   "cell_type": "code",
   "execution_count": 23,
   "id": "a77ab36e-d237-4e01-8131-5fbc5c9ec6ae",
   "metadata": {
    "scrolled": true
   },
   "outputs": [
    {
     "name": "stdout",
     "output_type": "stream",
     "text": [
      "\n",
      "---\n",
      "\n",
      "### Key Experiences and Influences\n",
      "\n",
      "* Received a startling phone call about the father's sudden loss of consciousness during a drive to dinner.\n",
      "* Realized later in college that father's symptoms (slowed gait, loss of consciousness, medication) were related to diabetes.\n",
      "* As a child, admired father's dedication as a restaurateur, his positive interactions with customers and colleagues, and his constant pursuit of perfection.\n",
      "* Questioned how father's health issues could happen and what could have prevented them.\n",
      "* Pursued health-related courses in university, gaining a clearer vision for a path to medicine through volunteering, working, and teaching.\n",
      "* Worked in the hospitality industry after graduation, initially finding it rewarding but also experiencing long hours, stress, and poor self-care, which illuminated the impact of work on health.\n",
      "* Enrolled in master's programs to further ambitions in medicine, leading to research and clinical opportunities.\n",
      "* Witnessed healthcare workers tirelessly providing care, reinforcing the desire to improve lives holistically.\n",
      "* Recognized the deep respect and trust between healthcare professionals and patients, akin to the guest-hospitality worker connection.\n",
      "\n",
      "---\n",
      "\n",
      "### Motivations and Future Aspirations\n",
      "\n",
      "* Guided by personal events and experiences into the healthcare field, shaping life perspective.\n",
      "* Driven to tend to people's needs, similar to the father's dedication in the kitchen.\n",
      "* Committed to proactive self-care to avoid health issues that could impact others.\n",
      "* Aspirations to share experiences and exemplify acquired qualities in a future medical career.\n",
      "\n"
     ]
    }
   ],
   "source": [
    "print(bullet_points)"
   ]
  },
  {
   "cell_type": "code",
   "execution_count": 24,
   "id": "2be99c17-1f40-4cad-9254-2d400b59e156",
   "metadata": {
    "scrolled": true
   },
   "outputs": [
    {
     "data": {
      "text/markdown": [
       "\n",
       "---\n",
       "\n",
       "### Key Experiences and Influences\n",
       "\n",
       "* Received a startling phone call about the father's sudden loss of consciousness during a drive to dinner.\n",
       "* Realized later in college that father's symptoms (slowed gait, loss of consciousness, medication) were related to diabetes.\n",
       "* As a child, admired father's dedication as a restaurateur, his positive interactions with customers and colleagues, and his constant pursuit of perfection.\n",
       "* Questioned how father's health issues could happen and what could have prevented them.\n",
       "* Pursued health-related courses in university, gaining a clearer vision for a path to medicine through volunteering, working, and teaching.\n",
       "* Worked in the hospitality industry after graduation, initially finding it rewarding but also experiencing long hours, stress, and poor self-care, which illuminated the impact of work on health.\n",
       "* Enrolled in master's programs to further ambitions in medicine, leading to research and clinical opportunities.\n",
       "* Witnessed healthcare workers tirelessly providing care, reinforcing the desire to improve lives holistically.\n",
       "* Recognized the deep respect and trust between healthcare professionals and patients, akin to the guest-hospitality worker connection.\n",
       "\n",
       "---\n",
       "\n",
       "### Motivations and Future Aspirations\n",
       "\n",
       "* Guided by personal events and experiences into the healthcare field, shaping life perspective.\n",
       "* Driven to tend to people's needs, similar to the father's dedication in the kitchen.\n",
       "* Committed to proactive self-care to avoid health issues that could impact others.\n",
       "* Aspirations to share experiences and exemplify acquired qualities in a future medical career.\n"
      ],
      "text/plain": [
       "<IPython.core.display.Markdown object>"
      ]
     },
     "metadata": {},
     "output_type": "display_data"
    }
   ],
   "source": [
    "display(Markdown(bullet_points))"
   ]
  },
  {
   "cell_type": "code",
   "execution_count": 25,
   "id": "783404ef-ce49-45e2-b957-45863c0004d2",
   "metadata": {},
   "outputs": [],
   "source": [
    "from IPython.display import display, HTML"
   ]
  },
  {
   "cell_type": "code",
   "execution_count": 26,
   "id": "8c23225f-e17d-4224-a84d-fb28e9092d73",
   "metadata": {},
   "outputs": [
    {
     "data": {
      "text/html": [
       "\n",
       "---\n",
       "\n",
       "### Key Experiences and Influences\n",
       "\n",
       "* Received a startling phone call about the father's sudden loss of consciousness during a drive to dinner.\n",
       "* Realized later in college that father's symptoms (slowed gait, loss of consciousness, medication) were related to diabetes.\n",
       "* As a child, admired father's dedication as a restaurateur, his positive interactions with customers and colleagues, and his constant pursuit of perfection.\n",
       "* Questioned how father's health issues could happen and what could have prevented them.\n",
       "* Pursued health-related courses in university, gaining a clearer vision for a path to medicine through volunteering, working, and teaching.\n",
       "* Worked in the hospitality industry after graduation, initially finding it rewarding but also experiencing long hours, stress, and poor self-care, which illuminated the impact of work on health.\n",
       "* Enrolled in master's programs to further ambitions in medicine, leading to research and clinical opportunities.\n",
       "* Witnessed healthcare workers tirelessly providing care, reinforcing the desire to improve lives holistically.\n",
       "* Recognized the deep respect and trust between healthcare professionals and patients, akin to the guest-hospitality worker connection.\n",
       "\n",
       "---\n",
       "\n",
       "### Motivations and Future Aspirations\n",
       "\n",
       "* Guided by personal events and experiences into the healthcare field, shaping life perspective.\n",
       "* Driven to tend to people's needs, similar to the father's dedication in the kitchen.\n",
       "* Committed to proactive self-care to avoid health issues that could impact others.\n",
       "* Aspirations to share experiences and exemplify acquired qualities in a future medical career.\n"
      ],
      "text/plain": [
       "<IPython.core.display.HTML object>"
      ]
     },
     "metadata": {},
     "output_type": "display_data"
    }
   ],
   "source": [
    "display(HTML(bullet_points))"
   ]
  },
  {
   "cell_type": "code",
   "execution_count": 27,
   "id": "b975401c-2720-450b-beaf-e436dd8c3e3d",
   "metadata": {},
   "outputs": [
    {
     "name": "stdout",
     "output_type": "stream",
     "text": [
      "My first destination was The Test Kitchen, a restaurant that has earned its place among the world's best. Situated in the trendy Woodstock area, this dining spot is celebrated for its innovative dishes. I was particularly taken by their signature dish, the \"Pickled Fish Tacos.\" The tangy, flavorful fish wrapped in a soft taco, paired with a zesty salsa, was a delightful start to my culinary adventure. The industrial-chic ambiance added a modern edge to the dining experience.\n",
      "\n",
      "Next, I made my way to La Colombe, perched on the slopes of Constantia. Known for its refined and artistic approach to cuisine, La Colombe's \"Tuna La Colombe\" is a must-try. This dish features perfectly seared tuna, complemented by a delicate ponzu dressing and bursts of citrus. The presentation was as exquisite as the flavors, making it a memorable highlight of the day.\n",
      "\n",
      "At the bustling V&A Waterfront, I visited Harbour House for some of the freshest seafood in town. The \"Grilled Kingklip\" was a revelation. The succulent, flaky fish, grilled to perfection and served with a side of roasted vegetables, highlighted the ocean's bounty. The stunning views of the harbor added to the meal's appeal.\n",
      "\n",
      "Finally, my journey concluded at The Pot Luck Club, another gem in Woodstock. This trendy spot is known for its small plates, perfect for sharing. The standout dish was the \"Beef Tataki.\" Thinly sliced, seared beef with a tangy soy dressing and a hint of wasabi provided a burst of umami and heat. The eclectic, artistic vibe of the restaurant made for a fitting end to my culinary tour.\n"
     ]
    }
   ],
   "source": [
    "f = open(\"./text/cape_town.txt\", \"r\", encoding=\"utf-8\")\n",
    "journal_cape_town = f.read()\n",
    "f.close()\n",
    "print(journal_cape_town)"
   ]
  },
  {
   "cell_type": "code",
   "execution_count": 28,
   "id": "2be6701a-d7cd-441c-8094-68c86fdfe3c8",
   "metadata": {
    "scrolled": true
   },
   "outputs": [
    {
     "name": "stdout",
     "output_type": "stream",
     "text": [
      "Tokyo's culinary landscape is nothing short of extraordinary. Each spot offers a unique taste of the city's diverse food culture. Here's a quick guide to some must-try places and dishes.\n",
      "\n",
      "    Sukiyabashi Jiro\n",
      "        Location: Ginza\n",
      "        Dish: Omakase sushi\n",
      "        Highlight: Impeccably crafted sushi made by the legendary Jiro Ono. Each piece is a masterclass in balance and flavor.\n",
      "\n",
      "    Ichiran Ramen\n",
      "        Location: Shibuya\n",
      "        Dish: Tonkotsu ramen\n",
      "        Highlight: A personal ramen booth for focused, uninterrupted enjoyment. Rich, creamy broth with perfectly cooked noodles.\n",
      "\n",
      "    Tsukiji Outer Market\n",
      "        Location: Tsukiji\n",
      "        Dish: Fresh sashimi and street food\n",
      "        Highlight: Vibrant market atmosphere. Indulge in ultra-fresh sashimi, grilled seafood, and other Japanese street food delights.\n",
      "\n",
      "    Narisawa\n",
      "        Location: Minato\n",
      "        Dish: Innovative tasting menu\n",
      "        Highlight: A fusion of French and Japanese techniques. Creative dishes with an emphasis on sustainability and local ingredients.\n",
      "\n",
      "    Ginza Kojyu\n",
      "        Location: Ginza\n",
      "        Dish: Kaiseki (traditional multi-course meal)\n",
      "        Highlight: Exquisite presentation and meticulous preparation. A journey through seasonal Japanese flavors.\n",
      "\n",
      "    Akasaka Kikunoi\n",
      "        Location: Akasaka\n",
      "        Dish: Kaiseki\n",
      "        Highlight: Elegant and serene setting. Seasonal ingredients transformed into artful, delicious courses.\n"
     ]
    }
   ],
   "source": [
    "f = open(\"./text/tokyo.txt\", \"r\", encoding=\"utf-8\")\n",
    "journal_tokyo = f.read()\n",
    "f.close()\n",
    "print(journal_tokyo)"
   ]
  },
  {
   "cell_type": "code",
   "execution_count": 29,
   "id": "ce613cf4-1373-4cd4-a4d5-6dc3912e0e0c",
   "metadata": {},
   "outputs": [
    {
     "name": "stdout",
     "output_type": "stream",
     "text": [
      "Relevant\n"
     ]
    }
   ],
   "source": [
    "# Create prompt\n",
    "prompt = f\"\"\"Respond with \"Relevant\" or \"Not relevant\": \n",
    "the journal describes restaurants and their specialties. \n",
    "\n",
    "Journal:\n",
    "{journal_tokyo}\"\"\"\n",
    "\n",
    "# Use LLM to determine if the journal entry is useful\n",
    "# print_llm_response(prompt)\n",
    "response = \"\"\"Relevant\"\"\"\n",
    "print(response)"
   ]
  },
  {
   "cell_type": "code",
   "execution_count": 30,
   "id": "ca544e52-f681-4306-9a6b-a636e17e84e0",
   "metadata": {},
   "outputs": [
    {
     "name": "stdout",
     "output_type": "stream",
     "text": [
      "Madrid, as Spain's capital and largest city, is a key player in the nation's economy. Historically centered around its administrative functions, Madrid has evolved into a major financial hub, hosting the Madrid Stock Exchange and the headquarters of numerous national and international companies.\n",
      "\n",
      "The service sector, especially tourism, is vital to Madrid's economy. Millions of tourists visit annually, attracted by the city's cultural landmarks, museums, and vibrant nightlife. Additionally, trade fairs and conferences at venues like IFEMA (Feria de Madrid) bring significant business traffic.\n",
      "\n",
      "Innovation and technology are also growing sectors in Madrid. The city boasts a thriving startup ecosystem and hosts many tech companies, supported by a highly educated workforce from its universities and research institutions. This has spurred growth in IT, biotechnology, and renewable energy.\n",
      "\n",
      "Madrid's well-developed transportation network, including a comprehensive metro system, high-speed rail, and Adolfo Suárez Madrid-Barajas Airport, enhances its role as a logistical and commercial hub. This connectivity supports trade and commerce, both within Spain and internationally, solidifying Madrid's status as a leading economic center in Europe.\n"
     ]
    }
   ],
   "source": [
    "f = open(\"./text/madrid.txt\", \"r\", encoding=\"utf-8\")\n",
    "journal_madrid = f.read()\n",
    "f.close()\n",
    "print(journal_madrid)"
   ]
  },
  {
   "cell_type": "code",
   "execution_count": 31,
   "id": "d56213f1-0aff-42c8-ba20-d5468f424b94",
   "metadata": {},
   "outputs": [
    {
     "name": "stdout",
     "output_type": "stream",
     "text": [
      "madrid.txt -> No\n",
      "tokyo.txt -> Yes\n",
      "cape_town.txt -> Yes\n"
     ]
    }
   ],
   "source": [
    "files = [\"./text/cape_town.txt\", \"./text/madrid.txt\", \"./text/tokyo.txt\"]\n",
    "\n",
    "for file in files:\n",
    "    # Read journal file for the city\n",
    "    f = open(file, \"r\")\n",
    "    journal = f.read()\n",
    "    f.close()\n",
    "\n",
    "    # TRY CHANGING THIS PROMPT TO ASK DIFFERENT QUESTIONS\n",
    "    prompt = f\"\"\"Respond with \"Yes\" or \"No\": \n",
    "    the journal describes restaurants and food dishes. \n",
    "\n",
    "    Journal:\n",
    "    {journal}\"\"\"\n",
    "\n",
    "    # Use LLM to determine if the journal entry is useful\n",
    "    # print(f\"{file} -> {get_llm_response(prompt)}\")\n",
    "\n",
    "# Results:\n",
    "# madrid.txt -> No\n",
    "# tokyo.txt -> Yes\n",
    "# cape_town.txt -> Yes\n",
    "print(\"madrid.txt -> No\")\n",
    "print(\"tokyo.txt -> Yes\")\n",
    "print(\"cape_town.txt -> Yes\")\n"
   ]
  },
  {
   "cell_type": "code",
   "execution_count": 32,
   "id": "e91ae38a-0a58-4f14-9f3c-cc7ecaa815ae",
   "metadata": {},
   "outputs": [
    {
     "name": "stdout",
     "output_type": "stream",
     "text": [
      "cape_town.txt -> Relevant \n",
      "madrid.txt -> Not relevant \n",
      "tokyo.txt -> Relevant\n"
     ]
    }
   ],
   "source": [
    "files = [\"./text/cape_town.txt\", \"./text/madrid.txt\", \"./text/tokyo.txt\"]\n",
    "\n",
    "\n",
    "for file in files:\n",
    "    # Read journal file for the city\n",
    "    f = open(file, \"r\")\n",
    "    journal = f.read()\n",
    "    f.close()\n",
    "\n",
    "    # TRY CHANGING THIS PROMPT TO ASK DIFFERENT QUESTIONS\n",
    "    prompt = f\"\"\"Respond with \"Relevant\" or \"Not relevant\": \n",
    "    the journal describes restaurants and their specialties. \n",
    "\n",
    "    {journal}\"\"\"\n",
    "\n",
    "    # Use LLM to determine if the journal entry is useful\n",
    "    # print(f\"{file} -> {get_llm_response(prompt)}\")\n",
    "\n",
    "# Results:\n",
    "# cape_town.txt -> Relevant\n",
    "# madrid.txt -> Not relevant\n",
    "# tokyo.txt -> Relevant\n",
    "print(\"cape_town.txt -> Relevant \\nmadrid.txt -> Not relevant \\ntokyo.txt -> Relevant\")"
   ]
  },
  {
   "cell_type": "markdown",
   "id": "01824ed6-da7e-4a3c-a31d-94de05909d72",
   "metadata": {
    "jp-MarkdownHeadingCollapsed": true
   },
   "source": [
    "# Extracting Information from Text"
   ]
  },
  {
   "cell_type": "code",
   "execution_count": 34,
   "id": "1a5b0f04-3c50-417f-abc8-e8cbac0be7ea",
   "metadata": {},
   "outputs": [],
   "source": [
    "from IPython.display import display, HTML"
   ]
  },
  {
   "cell_type": "code",
   "execution_count": 35,
   "id": "b5c1d474-5249-4553-9ed4-755fec5b59e1",
   "metadata": {
    "jupyter": {
     "source_hidden": true
    }
   },
   "outputs": [],
   "source": [
    "import os\n",
    "\n",
    "def read_journal(file_path: str) -> str:\n",
    "    \"\"\"\n",
    "    Reads the entire content of a text file and returns it as a string.\n",
    "\n",
    "    Args:\n",
    "        file_path (str): The path to the text file you want to read.\n",
    "\n",
    "    Returns:\n",
    "        str: The complete content of the file.\n",
    "             Returns an empty string if the file is not found or an error occurs.\n",
    "    \"\"\"\n",
    "    try:\n",
    "        # Open the file in read mode ('r') with UTF-8 encoding\n",
    "        # UTF-8 is recommended for general text files to avoid character decoding issues\n",
    "        with open(file_path, 'r', encoding='utf-8') as f:\n",
    "            content = f.read()\n",
    "            return content\n",
    "    except FileNotFoundError:\n",
    "        print(f\"Error: The file '{file_path}' was not found.\")\n",
    "        return \"\"\n",
    "    except Exception as e:\n",
    "        print(f\"An error occurred while reading '{file_path}': {e}\")\n",
    "        return \"\""
   ]
  },
  {
   "cell_type": "code",
   "execution_count": 36,
   "id": "e162b054-c64f-47b4-90b2-a4e5c269364a",
   "metadata": {},
   "outputs": [
    {
     "name": "stdout",
     "output_type": "stream",
     "text": [
      "First up was Confeitaria Colombo, a legendary and picturesque café in central Rio. Known for its pastel de nata (custard tart), Colombo serves a delightful treat that is hard to beat. The crispy, flaky pastry filled with creamy, sweet custard was an excellent start to the day. The café's historic Belle Époque ambiance added an extra layer of charm.\n",
      "\n",
      "Next, I visited Fogo de Chão, a quintessential Brazilian steakhouse in Botafogo. Famous for its picanha (top sirloin), this churrascaria impressed with its perfectly grilled meat. The picanha was juicy, tender, and bursting with flavor, showcasing the high quality of Brazilian beef. The endless array of grilled meats served tableside made for a hearty and satisfying meal.\n",
      "\n",
      "For a more modern dining experience, I headed to Olympe in Lagoa. This Michelin-starred restaurant specializes in contemporary Brazilian cuisine. The highlight was their moqueca de caju (cashew nut stew). This rich and creamy stew, made from cashew nuts and complemented by fresh seafood and vegetables, was an exquisite dish in an elegant and refined setting.\n",
      "\n",
      "Finally, I concluded my culinary tour at Aprazível, renowned for its breathtaking views and farm-to-table approach. Their signature dish, galinhada (Brazilian chicken and rice), was outstanding. The tender and flavorful chicken, cooked with a mix of rice, vegetables, and spices, and served with farofa (toasted cassava flour), perfectly highlighted the fresh, locally sourced ingredients. The lush, garden-like setting of the restaurant provided a serene end to the culinary adventure.\n"
     ]
    }
   ],
   "source": [
    "journal_rio_de_janeiro = read_journal(\"./text/rio_de_janeiro.txt\")\n",
    "print(journal_rio_de_janeiro)"
   ]
  },
  {
   "cell_type": "code",
   "execution_count": 37,
   "id": "ccb7f09e-b2b6-4b0a-b6ad-f1f4179f5ef9",
   "metadata": {},
   "outputs": [],
   "source": [
    "prompt = f\"\"\"\n",
    "Given the following journal entry from a food critic, identify the restaurants and their best dishes.\n",
    "Highlight and bold each restaurant (in orange) and best dish (in blue) within the original text. \n",
    "\n",
    "Provide the output as HTML suitable for display in a Jupyter notebook. \n",
    "\n",
    "Journal entry:\n",
    "{journal_rio_de_janeiro}\n",
    "\"\"\"\n",
    "\n",
    "# html_response = get_llm_response(prompt)\n",
    "# print(html_response)"
   ]
  },
  {
   "cell_type": "code",
   "execution_count": 38,
   "id": "1272848e-22b7-43c7-b698-15fd44da6721",
   "metadata": {},
   "outputs": [],
   "source": [
    "html_response = \"\"\"<p>\n",
    "First up was <b style=\"color:orange;\">Confeitaria Colombo</b>, a legendary and picturesque café in central Rio. Known for its <b style=\"color:blue;\">pastel de nata (custard tart)</b>, Colombo serves a delightful treat that is hard to beat. The crispy, flaky pastry filled with creamy, sweet custard was an excellent start to the day. The café's historic Belle Époque ambiance added an extra layer of charm.\n",
    "</p>\n",
    "\n",
    "<p>\n",
    "Next, I visited <b style=\"color:orange;\">Fogo de Chão</b>, a quintessential Brazilian steakhouse in Botafogo. Famous for its <b style=\"color:blue;\">picanha (top sirloin)</b>, this churrascaria impressed with its perfectly grilled meat. The picanha was juicy, tender, and bursting with flavor, showcasing the high quality of Brazilian beef. The endless array of grilled meats served tableside made for a hearty and satisfying meal.\n",
    "</p>\n",
    "\n",
    "<p>\n",
    "For a more modern dining experience, I headed to <b style=\"color:orange;\">Olympe</b> in Lagoa. This Michelin-starred restaurant specializes in contemporary Brazilian cuisine. The highlight was their <b style=\"color:blue;\">moqueca de caju (cashew nut stew)</b>. This rich and creamy stew, made from cashew nuts and complemented by fresh seafood and vegetables, was an exquisite dish in an elegant and refined setting.\n",
    "</p>\n",
    "\n",
    "<p>\n",
    "Finally, I concluded my culinary tour at <b style=\"color:orange;\">Aprazível</b>, renowned for its breathtaking views and farm-to-table approach. Their signature dish, <b style=\"color:blue;\">galinhada (Brazilian chicken and rice)</b>, was outstanding. The tender and flavorful chicken, cooked with a mix of rice, vegetables, and spices, and served with farofa (toasted cassava flour), perfectly highlighted the fresh, locally sourced ingredients. The lush, garden-like setting of the restaurant provided a serene end to the culinary adventure.\n",
    "</p>\"\"\""
   ]
  },
  {
   "cell_type": "code",
   "execution_count": 39,
   "id": "d814849d-adca-4e3a-b020-d4cf1eb14ffb",
   "metadata": {
    "scrolled": true
   },
   "outputs": [
    {
     "data": {
      "text/html": [
       "<p>\n",
       "First up was <b style=\"color:orange;\">Confeitaria Colombo</b>, a legendary and picturesque café in central Rio. Known for its <b style=\"color:blue;\">pastel de nata (custard tart)</b>, Colombo serves a delightful treat that is hard to beat. The crispy, flaky pastry filled with creamy, sweet custard was an excellent start to the day. The café's historic Belle Époque ambiance added an extra layer of charm.\n",
       "</p>\n",
       "\n",
       "<p>\n",
       "Next, I visited <b style=\"color:orange;\">Fogo de Chão</b>, a quintessential Brazilian steakhouse in Botafogo. Famous for its <b style=\"color:blue;\">picanha (top sirloin)</b>, this churrascaria impressed with its perfectly grilled meat. The picanha was juicy, tender, and bursting with flavor, showcasing the high quality of Brazilian beef. The endless array of grilled meats served tableside made for a hearty and satisfying meal.\n",
       "</p>\n",
       "\n",
       "<p>\n",
       "For a more modern dining experience, I headed to <b style=\"color:orange;\">Olympe</b> in Lagoa. This Michelin-starred restaurant specializes in contemporary Brazilian cuisine. The highlight was their <b style=\"color:blue;\">moqueca de caju (cashew nut stew)</b>. This rich and creamy stew, made from cashew nuts and complemented by fresh seafood and vegetables, was an exquisite dish in an elegant and refined setting.\n",
       "</p>\n",
       "\n",
       "<p>\n",
       "Finally, I concluded my culinary tour at <b style=\"color:orange;\">Aprazível</b>, renowned for its breathtaking views and farm-to-table approach. Their signature dish, <b style=\"color:blue;\">galinhada (Brazilian chicken and rice)</b>, was outstanding. The tender and flavorful chicken, cooked with a mix of rice, vegetables, and spices, and served with farofa (toasted cassava flour), perfectly highlighted the fresh, locally sourced ingredients. The lush, garden-like setting of the restaurant provided a serene end to the culinary adventure.\n",
       "</p>"
      ],
      "text/plain": [
       "<IPython.core.display.HTML object>"
      ]
     },
     "metadata": {},
     "output_type": "display_data"
    }
   ],
   "source": [
    "display(HTML(html_response))"
   ]
  },
  {
   "cell_type": "code",
   "execution_count": 40,
   "id": "958a25be-8055-4b0b-8c20-9188642f3f9d",
   "metadata": {
    "scrolled": true
   },
   "outputs": [
    {
     "name": "stdout",
     "output_type": "stream",
     "text": [
      "Tokyo's culinary landscape is nothing short of extraordinary. Each spot offers a unique taste of the city's diverse food culture. Here's a quick guide to some must-try places and dishes.\n",
      "\n",
      "    Sukiyabashi Jiro\n",
      "        Location: Ginza\n",
      "        Dish: Omakase sushi\n",
      "        Highlight: Impeccably crafted sushi made by the legendary Jiro Ono. Each piece is a masterclass in balance and flavor.\n",
      "\n",
      "    Ichiran Ramen\n",
      "        Location: Shibuya\n",
      "        Dish: Tonkotsu ramen\n",
      "        Highlight: A personal ramen booth for focused, uninterrupted enjoyment. Rich, creamy broth with perfectly cooked noodles.\n",
      "\n",
      "    Tsukiji Outer Market\n",
      "        Location: Tsukiji\n",
      "        Dish: Fresh sashimi and street food\n",
      "        Highlight: Vibrant market atmosphere. Indulge in ultra-fresh sashimi, grilled seafood, and other Japanese street food delights.\n",
      "\n",
      "    Narisawa\n",
      "        Location: Minato\n",
      "        Dish: Innovative tasting menu\n",
      "        Highlight: A fusion of French and Japanese techniques. Creative dishes with an emphasis on sustainability and local ingredients.\n",
      "\n",
      "    Ginza Kojyu\n",
      "        Location: Ginza\n",
      "        Dish: Kaiseki (traditional multi-course meal)\n",
      "        Highlight: Exquisite presentation and meticulous preparation. A journey through seasonal Japanese flavors.\n",
      "\n",
      "    Akasaka Kikunoi\n",
      "        Location: Akasaka\n",
      "        Dish: Kaiseki\n",
      "        Highlight: Elegant and serene setting. Seasonal ingredients transformed into artful, delicious courses.\n"
     ]
    }
   ],
   "source": [
    "journal_tokyo = read_journal(\"./text/tokyo.txt\")\n",
    "print(journal_tokyo)"
   ]
  },
  {
   "cell_type": "code",
   "execution_count": 41,
   "id": "f5a6188e-5542-4861-8c86-3890cb27076b",
   "metadata": {},
   "outputs": [],
   "source": [
    "prompt = f\"\"\"\n",
    "Given the following journal entry from a food critic, identify the restaurants and their best dishes.\n",
    "Highlight and bold each restaurant (in orange) and best dish (in blue) within the original text. \n",
    "\n",
    "Provide the output as HTML suitable for display in a Jupyter notebook. \n",
    "\n",
    "Journal entry:\n",
    "{journal_tokyo}\n",
    "\"\"\"\n",
    "\n",
    "# html_response = get_llm_response(prompt)\n",
    "# print(html_response)"
   ]
  },
  {
   "cell_type": "code",
   "execution_count": 42,
   "id": "566a8a2e-a8a6-4cd2-8451-ce29acc0f684",
   "metadata": {},
   "outputs": [],
   "source": [
    "html_response = \"\"\"<h2>Tokyo Culinary Journal: Top Restaurants & Dishes</h2>\n",
    "<p>Tokyo's culinary landscape is nothing short of extraordinary. Each spot offers a unique taste of the city's diverse food culture. Here's a quick guide to some must-try places and dishes:</p>\n",
    "\n",
    "<ul>\n",
    "    <li><b><span style=\"color:orange;\">Sukiyabashi Jiro</span></b>\n",
    "        <ul>\n",
    "            <li>Location: Ginza</li>\n",
    "            <li>Dish: <b><span style=\"color:blue;\">Omakase sushi</span></b></li>\n",
    "            <li>Highlight: Impeccably crafted sushi made by the legendary Jiro Ono. Each piece is a masterclass in balance and flavor.</li>\n",
    "        </ul>\n",
    "    </li>\n",
    "    <li><b><span style=\"color:orange;\">Ichiran Ramen</span></b>\n",
    "        <ul>\n",
    "            <li>Location: Shibuya</li>\n",
    "            <li>Dish: <b><span style=\"color:blue;\">Tonkotsu ramen</span></b></li>\n",
    "            <li>Highlight: A personal ramen booth for focused, uninterrupted enjoyment. Rich, creamy broth with perfectly cooked noodles.</li>\n",
    "        </ul>\n",
    "    </li>\n",
    "    <li><b><span style=\"color:orange;\">Tsukiji Outer Market</span></b>\n",
    "        <ul>\n",
    "            <li>Location: Tsukiji</li>\n",
    "            <li>Dish: <b><span style=\"color:blue;\">Fresh sashimi and street food</span></b></li>\n",
    "            <li>Highlight: Vibrant market atmosphere. Indulge in ultra-fresh sashimi, grilled seafood, and other Japanese street food delights.</li>\n",
    "        </ul>\n",
    "    </li>\n",
    "    <li><b><span style=\"color:orange;\">Narisawa</span></b>\n",
    "        <ul>\n",
    "            <li>Location: Minato</li>\n",
    "            <li>Dish: <b><span style=\"color:blue;\">Innovative tasting menu</span></b></li>\n",
    "            <li>Highlight: A fusion of French and Japanese techniques. Creative dishes with an emphasis on sustainability and local ingredients.</li>\n",
    "        </ul>\n",
    "    </li>\n",
    "    <li><b><span style=\"color:orange;\">Ginza Kojyu</span></b>\n",
    "        <ul>\n",
    "            <li>Location: Ginza</li>\n",
    "            <li>Dish: <b><span style=\"color:blue;\">Kaiseki (traditional multi-course meal)</span></b></li>\n",
    "            <li>Highlight: Exquisite presentation and meticulous preparation. A journey through seasonal Japanese flavors.</li>\n",
    "        </ul>\n",
    "    </li>\n",
    "    <li><b><span style=\"color:orange;\">Akasaka Kikunoi</span></b>\n",
    "        <ul>\n",
    "            <li>Location: Akasaka</li>\n",
    "            <li>Dish: <b><span style=\"color:blue;\">Kaiseki</span></b></li>\n",
    "            <li>Highlight: Elegant and serene setting. Seasonal ingredients transformed into artful, delicious courses.</li>\n",
    "        </ul>\n",
    "    </li>\n",
    "</ul>\n",
    "\"\"\""
   ]
  },
  {
   "cell_type": "code",
   "execution_count": 43,
   "id": "be12d734-4d11-4583-8982-089782444ba2",
   "metadata": {
    "collapsed": true,
    "jupyter": {
     "outputs_hidden": true
    }
   },
   "outputs": [
    {
     "data": {
      "text/html": [
       "<h2>Tokyo Culinary Journal: Top Restaurants & Dishes</h2>\n",
       "<p>Tokyo's culinary landscape is nothing short of extraordinary. Each spot offers a unique taste of the city's diverse food culture. Here's a quick guide to some must-try places and dishes:</p>\n",
       "\n",
       "<ul>\n",
       "    <li><b><span style=\"color:orange;\">Sukiyabashi Jiro</span></b>\n",
       "        <ul>\n",
       "            <li>Location: Ginza</li>\n",
       "            <li>Dish: <b><span style=\"color:blue;\">Omakase sushi</span></b></li>\n",
       "            <li>Highlight: Impeccably crafted sushi made by the legendary Jiro Ono. Each piece is a masterclass in balance and flavor.</li>\n",
       "        </ul>\n",
       "    </li>\n",
       "    <li><b><span style=\"color:orange;\">Ichiran Ramen</span></b>\n",
       "        <ul>\n",
       "            <li>Location: Shibuya</li>\n",
       "            <li>Dish: <b><span style=\"color:blue;\">Tonkotsu ramen</span></b></li>\n",
       "            <li>Highlight: A personal ramen booth for focused, uninterrupted enjoyment. Rich, creamy broth with perfectly cooked noodles.</li>\n",
       "        </ul>\n",
       "    </li>\n",
       "    <li><b><span style=\"color:orange;\">Tsukiji Outer Market</span></b>\n",
       "        <ul>\n",
       "            <li>Location: Tsukiji</li>\n",
       "            <li>Dish: <b><span style=\"color:blue;\">Fresh sashimi and street food</span></b></li>\n",
       "            <li>Highlight: Vibrant market atmosphere. Indulge in ultra-fresh sashimi, grilled seafood, and other Japanese street food delights.</li>\n",
       "        </ul>\n",
       "    </li>\n",
       "    <li><b><span style=\"color:orange;\">Narisawa</span></b>\n",
       "        <ul>\n",
       "            <li>Location: Minato</li>\n",
       "            <li>Dish: <b><span style=\"color:blue;\">Innovative tasting menu</span></b></li>\n",
       "            <li>Highlight: A fusion of French and Japanese techniques. Creative dishes with an emphasis on sustainability and local ingredients.</li>\n",
       "        </ul>\n",
       "    </li>\n",
       "    <li><b><span style=\"color:orange;\">Ginza Kojyu</span></b>\n",
       "        <ul>\n",
       "            <li>Location: Ginza</li>\n",
       "            <li>Dish: <b><span style=\"color:blue;\">Kaiseki (traditional multi-course meal)</span></b></li>\n",
       "            <li>Highlight: Exquisite presentation and meticulous preparation. A journey through seasonal Japanese flavors.</li>\n",
       "        </ul>\n",
       "    </li>\n",
       "    <li><b><span style=\"color:orange;\">Akasaka Kikunoi</span></b>\n",
       "        <ul>\n",
       "            <li>Location: Akasaka</li>\n",
       "            <li>Dish: <b><span style=\"color:blue;\">Kaiseki</span></b></li>\n",
       "            <li>Highlight: Elegant and serene setting. Seasonal ingredients transformed into artful, delicious courses.</li>\n",
       "        </ul>\n",
       "    </li>\n",
       "</ul>\n"
      ],
      "text/plain": [
       "<IPython.core.display.HTML object>"
      ]
     },
     "metadata": {},
     "output_type": "display_data"
    }
   ],
   "source": [
    "display(HTML(html_response))"
   ]
  },
  {
   "cell_type": "code",
   "execution_count": 44,
   "id": "1240b053-14f6-4b2f-ad60-26b7be466e1b",
   "metadata": {},
   "outputs": [],
   "source": [
    "prompt = f\"\"\"Please extract a comprehensive list of the restaurants \n",
    "and their respective best dishes mentioned in the following journal entry. \n",
    "Ensure that each restaurant name is accurately identified and listed. \n",
    "\n",
    "Provide your answer in CSV format, ready to save. \n",
    "Exclude the \"```csv\" declaration, don't add spaces after the comma, include column headers.\n",
    "\n",
    "Format:\n",
    "Restaurant, Dish\n",
    "Res_1, Dsh_1\n",
    "...\n",
    "\n",
    "Journal entry:\n",
    "{journal_rio_de_janeiro}\n",
    "\"\"\"\n",
    "\n",
    "#restaurants_csv_ready_string = get_llm_response(prompt)\n",
    "# print(restaurants_csv_ready_string)"
   ]
  },
  {
   "cell_type": "code",
   "execution_count": 45,
   "id": "17ea1b00-10f8-40d9-a13a-42980f6202c4",
   "metadata": {},
   "outputs": [
    {
     "name": "stdout",
     "output_type": "stream",
     "text": [
      "Restaurant,Dish\n",
      "Confeitaria Colombo,pastel de nata (custard tart)\n",
      "Fogo de Chão,picanha (top sirloin)\n",
      "Olympe,moqueca de caju (cashew nut stew)\n",
      "Aprazível,galinhada (Brazilian chicken and rice)\n"
     ]
    }
   ],
   "source": [
    "restaurants_csv_ready_string = \"\"\"Restaurant,Dish\n",
    "Confeitaria Colombo,pastel de nata (custard tart)\n",
    "Fogo de Chão,picanha (top sirloin)\n",
    "Olympe,moqueca de caju (cashew nut stew)\n",
    "Aprazível,galinhada (Brazilian chicken and rice)\"\"\"\n",
    "print(restaurants_csv_ready_string)"
   ]
  },
  {
   "cell_type": "code",
   "execution_count": 46,
   "id": "28663a91-5d80-4240-83bc-2aa6ca45069b",
   "metadata": {},
   "outputs": [],
   "source": [
    "files = [\"./text/cape_town.txt\", \"./text/rio_de_janeiro.txt\", \"./text/tokyo.txt\"]\n",
    "\n",
    "for file in files:\n",
    "    #Open file and read contents\n",
    "    journal_entry = read_journal(file)\n",
    "\n",
    "    #Extract restaurants and display csv\n",
    "    prompt =  f\"\"\"Please extract a comprehensive list of the restaurants \n",
    "    and their respective best dishes mentioned in the following journal entry. \n",
    "    \n",
    "    Ensure that each restaurant name is accurately identified and listed. \n",
    "    Provide your answer in CSV format, ready to save.\n",
    "\n",
    "    Exclude the \"```csv\" declaration, don't add spaces after the \n",
    "    comma, include column headers.\n",
    "\n",
    "    Format:\n",
    "    Restaurant, Dish\n",
    "    Res_1, Dsh_1\n",
    "    ...\n",
    "\n",
    "    Journal entry:\n",
    "    {journal_entry}\n",
    "    \"\"\"\n",
    "    \n",
    "    # print(file)\n",
    "    #print_llm_response(prompt)\n",
    "    # print(\"\") # Prints a blank line!"
   ]
  },
  {
   "cell_type": "code",
   "execution_count": 47,
   "id": "690d4a33-465e-48c0-888e-4190707ba78b",
   "metadata": {
    "scrolled": true
   },
   "outputs": [
    {
     "name": "stdout",
     "output_type": "stream",
     "text": [
      "cape_town.txt\n",
      "Restaurant,Dish\n",
      "The Test Kitchen,Pickled Fish Tacos\n",
      "La Colombe,Tuna La Colombe\n",
      "Harbour House,Grilled Kingklip\n",
      "The Pot Luck Club,Beef Tataki\n",
      "\n",
      "rio_de_janeiro.txt\n",
      "Restaurant,Dish\n",
      "Confeitaria Colombo,pastel de nata (custard tart)\n",
      "Fogo de Chão,picanha (top sirloin)\n",
      "Olympe,moqueca de caju (cashew nut stew)\n",
      "Aprazível,galinhada (Brazilian chicken and rice)\n",
      "\n",
      "tokyo.txt\n",
      "Restaurant,Dish\n",
      "Sukiyabashi Jiro,Omakase sushi\n",
      "Ichiran Ramen,Tonkotsu ramen\n",
      "Tsukiji Outer Market,Fresh sashimi and street food\n",
      "Narisawa,Innovative tasting menu\n",
      "Ginza Kojyu,Kaiseki (traditional multi-course meal)\n",
      "Akasaka Kikunoi,Kaiseki\n",
      "\n"
     ]
    }
   ],
   "source": [
    "cape_town = \"\"\"Restaurant,Dish\n",
    "The Test Kitchen,Pickled Fish Tacos\n",
    "La Colombe,Tuna La Colombe\n",
    "Harbour House,Grilled Kingklip\n",
    "The Pot Luck Club,Beef Tataki\"\"\"\n",
    "rio_de_janeiro = \"\"\"Restaurant,Dish\n",
    "Confeitaria Colombo,pastel de nata (custard tart)\n",
    "Fogo de Chão,picanha (top sirloin)\n",
    "Olympe,moqueca de caju (cashew nut stew)\n",
    "Aprazível,galinhada (Brazilian chicken and rice)\"\"\"\n",
    "tokyo = \"\"\"Restaurant,Dish\n",
    "Sukiyabashi Jiro,Omakase sushi\n",
    "Ichiran Ramen,Tonkotsu ramen\n",
    "Tsukiji Outer Market,Fresh sashimi and street food\n",
    "Narisawa,Innovative tasting menu\n",
    "Ginza Kojyu,Kaiseki (traditional multi-course meal)\n",
    "Akasaka Kikunoi,Kaiseki\"\"\"\n",
    "\n",
    "journal_data = {\n",
    "    \"cape_town.txt\": cape_town,\n",
    "    \"rio_de_janeiro.txt\": rio_de_janeiro,\n",
    "    \"tokyo.txt\": tokyo\n",
    "}\n",
    "\n",
    "for file_name, csv_content in journal_data.items():\n",
    "    print(file_name)\n",
    "    print(csv_content)\n",
    "    print(\"\") "
   ]
  },
  {
   "cell_type": "markdown",
   "id": "8abe823d-3ee6-4245-8dd4-a20af6d2952a",
   "metadata": {
    "jp-MarkdownHeadingCollapsed": true
   },
   "source": [
    "# Writing Files"
   ]
  },
  {
   "cell_type": "code",
   "execution_count": 49,
   "id": "7ce4dcad-ac75-4333-b986-23f814ccf17d",
   "metadata": {},
   "outputs": [],
   "source": [
    "f = open(\"./text/highlighted_text.html\", 'w') \n",
    "f.write(html_response) \n",
    "f.close()"
   ]
  },
  {
   "cell_type": "code",
   "execution_count": 50,
   "id": "284655c7-677f-4c47-982a-84e0a66a202d",
   "metadata": {},
   "outputs": [],
   "source": [
    "f = open(\"./text/highlighted_text.html\", 'r')\n",
    "html_content = f.read()\n",
    "f.close()"
   ]
  },
  {
   "cell_type": "code",
   "execution_count": 51,
   "id": "b9c52690-0742-4815-9eee-d6851370703f",
   "metadata": {
    "collapsed": true,
    "jupyter": {
     "outputs_hidden": true
    },
    "scrolled": true
   },
   "outputs": [
    {
     "data": {
      "text/html": [
       "<h2>Tokyo Culinary Journal: Top Restaurants & Dishes</h2>\n",
       "<p>Tokyo's culinary landscape is nothing short of extraordinary. Each spot offers a unique taste of the city's diverse food culture. Here's a quick guide to some must-try places and dishes:</p>\n",
       "\n",
       "<ul>\n",
       "    <li><b><span style=\"color:orange;\">Sukiyabashi Jiro</span></b>\n",
       "        <ul>\n",
       "            <li>Location: Ginza</li>\n",
       "            <li>Dish: <b><span style=\"color:blue;\">Omakase sushi</span></b></li>\n",
       "            <li>Highlight: Impeccably crafted sushi made by the legendary Jiro Ono. Each piece is a masterclass in balance and flavor.</li>\n",
       "        </ul>\n",
       "    </li>\n",
       "    <li><b><span style=\"color:orange;\">Ichiran Ramen</span></b>\n",
       "        <ul>\n",
       "            <li>Location: Shibuya</li>\n",
       "            <li>Dish: <b><span style=\"color:blue;\">Tonkotsu ramen</span></b></li>\n",
       "            <li>Highlight: A personal ramen booth for focused, uninterrupted enjoyment. Rich, creamy broth with perfectly cooked noodles.</li>\n",
       "        </ul>\n",
       "    </li>\n",
       "    <li><b><span style=\"color:orange;\">Tsukiji Outer Market</span></b>\n",
       "        <ul>\n",
       "            <li>Location: Tsukiji</li>\n",
       "            <li>Dish: <b><span style=\"color:blue;\">Fresh sashimi and street food</span></b></li>\n",
       "            <li>Highlight: Vibrant market atmosphere. Indulge in ultra-fresh sashimi, grilled seafood, and other Japanese street food delights.</li>\n",
       "        </ul>\n",
       "    </li>\n",
       "    <li><b><span style=\"color:orange;\">Narisawa</span></b>\n",
       "        <ul>\n",
       "            <li>Location: Minato</li>\n",
       "            <li>Dish: <b><span style=\"color:blue;\">Innovative tasting menu</span></b></li>\n",
       "            <li>Highlight: A fusion of French and Japanese techniques. Creative dishes with an emphasis on sustainability and local ingredients.</li>\n",
       "        </ul>\n",
       "    </li>\n",
       "    <li><b><span style=\"color:orange;\">Ginza Kojyu</span></b>\n",
       "        <ul>\n",
       "            <li>Location: Ginza</li>\n",
       "            <li>Dish: <b><span style=\"color:blue;\">Kaiseki (traditional multi-course meal)</span></b></li>\n",
       "            <li>Highlight: Exquisite presentation and meticulous preparation. A journey through seasonal Japanese flavors.</li>\n",
       "        </ul>\n",
       "    </li>\n",
       "    <li><b><span style=\"color:orange;\">Akasaka Kikunoi</span></b>\n",
       "        <ul>\n",
       "            <li>Location: Akasaka</li>\n",
       "            <li>Dish: <b><span style=\"color:blue;\">Kaiseki</span></b></li>\n",
       "            <li>Highlight: Elegant and serene setting. Seasonal ingredients transformed into artful, delicious courses.</li>\n",
       "        </ul>\n",
       "    </li>\n",
       "</ul>\n"
      ],
      "text/plain": [
       "<IPython.core.display.HTML object>"
      ]
     },
     "metadata": {},
     "output_type": "display_data"
    }
   ],
   "source": [
    "display(HTML(html_content))"
   ]
  },
  {
   "cell_type": "markdown",
   "id": "3bfab4b4-5fd0-48d8-8e75-5ad5b3670ad4",
   "metadata": {
    "jp-MarkdownHeadingCollapsed": true
   },
   "source": [
    "# Vacation planning using CSV files"
   ]
  },
  {
   "cell_type": "code",
   "execution_count": 113,
   "id": "9758c81a-dabf-4c48-b026-accbc50b0526",
   "metadata": {},
   "outputs": [],
   "source": [
    "from IPython.display import Markdown\n",
    "import csv"
   ]
  },
  {
   "cell_type": "code",
   "execution_count": 117,
   "id": "923d12e9-fd43-49f6-8b47-3dd12331935d",
   "metadata": {},
   "outputs": [],
   "source": [
    "f = open(\"./text/itinerary.csv\", \"r\")"
   ]
  },
  {
   "cell_type": "code",
   "execution_count": 119,
   "id": "8c6f9962-7e32-434b-952f-e41e9072bd00",
   "metadata": {},
   "outputs": [
    {
     "name": "stdout",
     "output_type": "stream",
     "text": [
      "{'Arrival': 'July-01', 'Departure': 'July-08', 'City': 'New York', 'Country': 'USA'}\n",
      "{'Arrival': 'July-09', 'Departure': 'July-16', 'City': 'Rio de Janeiro', 'Country': 'Brazil'}\n",
      "{'Arrival': 'July-17', 'Departure': 'July-24', 'City': 'Cape Town', 'Country': 'South Africa'}\n",
      "{'Arrival': 'July-25', 'Departure': 'August-01', 'City': 'Istanbul', 'Country': 'Turkey'}\n",
      "{'Arrival': 'August-02', 'Departure': 'August-09', 'City': 'Paris', 'Country': 'France'}\n",
      "{'Arrival': 'August-10', 'Departure': 'August-17', 'City': 'Tokyo', 'Country': 'Japan'}\n",
      "{'Arrival': 'August-18', 'Departure': 'August-25', 'City': 'Sydney', 'Country': 'Australia'}\n"
     ]
    }
   ],
   "source": [
    "csv_reader = csv.DictReader(f)\n",
    "itinerary = []\n",
    "for row in csv_reader:\n",
    "    print(row)\n",
    "    itinerary.append(row)"
   ]
  },
  {
   "cell_type": "code",
   "execution_count": 123,
   "id": "fbcda59c-d8de-4aed-ba90-6bfed872ed71",
   "metadata": {},
   "outputs": [],
   "source": [
    "f.close()"
   ]
  },
  {
   "cell_type": "code",
   "execution_count": 127,
   "id": "905a9e5c-d361-4831-a99c-2192598a32df",
   "metadata": {},
   "outputs": [
    {
     "name": "stdout",
     "output_type": "stream",
     "text": [
      "[{'Arrival': 'July-01', 'Departure': 'July-08', 'City': 'New York', 'Country': 'USA'}, {'Arrival': 'July-09', 'Departure': 'July-16', 'City': 'Rio de Janeiro', 'Country': 'Brazil'}, {'Arrival': 'July-17', 'Departure': 'July-24', 'City': 'Cape Town', 'Country': 'South Africa'}, {'Arrival': 'July-25', 'Departure': 'August-01', 'City': 'Istanbul', 'Country': 'Turkey'}, {'Arrival': 'August-02', 'Departure': 'August-09', 'City': 'Paris', 'Country': 'France'}, {'Arrival': 'August-10', 'Departure': 'August-17', 'City': 'Tokyo', 'Country': 'Japan'}, {'Arrival': 'August-18', 'Departure': 'August-25', 'City': 'Sydney', 'Country': 'Australia'}]\n"
     ]
    }
   ],
   "source": [
    "print(itinerary)"
   ]
  },
  {
   "cell_type": "code",
   "execution_count": 125,
   "id": "7ee8c05a-dc52-487b-b200-9c57d55b9b91",
   "metadata": {},
   "outputs": [
    {
     "data": {
      "text/plain": [
       "list"
      ]
     },
     "execution_count": 125,
     "metadata": {},
     "output_type": "execute_result"
    }
   ],
   "source": [
    "type(itinerary)"
   ]
  },
  {
   "cell_type": "code",
   "execution_count": 129,
   "id": "e8716776-761d-47f8-a0a5-06823ea5f8af",
   "metadata": {},
   "outputs": [
    {
     "name": "stdout",
     "output_type": "stream",
     "text": [
      "{'Arrival': 'July-01', 'Departure': 'July-08', 'City': 'New York', 'Country': 'USA'}\n"
     ]
    }
   ],
   "source": [
    "print(itinerary[0])"
   ]
  },
  {
   "cell_type": "code",
   "execution_count": 142,
   "id": "c88efa78-894c-42c4-9892-d48e3f47df57",
   "metadata": {
    "scrolled": true
   },
   "outputs": [
    {
     "data": {
      "text/html": [
       "<div>\n",
       "<style scoped>\n",
       "    .dataframe tbody tr th:only-of-type {\n",
       "        vertical-align: middle;\n",
       "    }\n",
       "\n",
       "    .dataframe tbody tr th {\n",
       "        vertical-align: top;\n",
       "    }\n",
       "\n",
       "    .dataframe thead th {\n",
       "        text-align: right;\n",
       "    }\n",
       "</style>\n",
       "<table border=\"1\" class=\"dataframe\">\n",
       "  <thead>\n",
       "    <tr style=\"text-align: right;\">\n",
       "      <th></th>\n",
       "      <th>Arrival</th>\n",
       "      <th>Departure</th>\n",
       "      <th>City</th>\n",
       "      <th>Country</th>\n",
       "    </tr>\n",
       "  </thead>\n",
       "  <tbody>\n",
       "    <tr>\n",
       "      <th>0</th>\n",
       "      <td>July-01</td>\n",
       "      <td>July-08</td>\n",
       "      <td>New York</td>\n",
       "      <td>USA</td>\n",
       "    </tr>\n",
       "    <tr>\n",
       "      <th>1</th>\n",
       "      <td>July-09</td>\n",
       "      <td>July-16</td>\n",
       "      <td>Rio de Janeiro</td>\n",
       "      <td>Brazil</td>\n",
       "    </tr>\n",
       "    <tr>\n",
       "      <th>2</th>\n",
       "      <td>July-17</td>\n",
       "      <td>July-24</td>\n",
       "      <td>Cape Town</td>\n",
       "      <td>South Africa</td>\n",
       "    </tr>\n",
       "    <tr>\n",
       "      <th>3</th>\n",
       "      <td>July-25</td>\n",
       "      <td>August-01</td>\n",
       "      <td>Istanbul</td>\n",
       "      <td>Turkey</td>\n",
       "    </tr>\n",
       "    <tr>\n",
       "      <th>4</th>\n",
       "      <td>August-02</td>\n",
       "      <td>August-09</td>\n",
       "      <td>Paris</td>\n",
       "      <td>France</td>\n",
       "    </tr>\n",
       "    <tr>\n",
       "      <th>5</th>\n",
       "      <td>August-10</td>\n",
       "      <td>August-17</td>\n",
       "      <td>Tokyo</td>\n",
       "      <td>Japan</td>\n",
       "    </tr>\n",
       "    <tr>\n",
       "      <th>6</th>\n",
       "      <td>August-18</td>\n",
       "      <td>August-25</td>\n",
       "      <td>Sydney</td>\n",
       "      <td>Australia</td>\n",
       "    </tr>\n",
       "  </tbody>\n",
       "</table>\n",
       "</div>"
      ],
      "text/plain": [
       "     Arrival  Departure            City       Country\n",
       "0    July-01    July-08        New York           USA\n",
       "1    July-09    July-16  Rio de Janeiro        Brazil\n",
       "2    July-17    July-24       Cape Town  South Africa\n",
       "3    July-25  August-01        Istanbul        Turkey\n",
       "4  August-02  August-09           Paris        France\n",
       "5  August-10  August-17           Tokyo         Japan\n",
       "6  August-18  August-25          Sydney     Australia"
      ]
     },
     "execution_count": 142,
     "metadata": {},
     "output_type": "execute_result"
    }
   ],
   "source": [
    "import pandas as pd\n",
    "itinerary_df = pd.DataFrame(itinerary)\n",
    "itinerary_df"
   ]
  },
  {
   "cell_type": "code",
   "execution_count": 144,
   "id": "7ed7901a-f98b-44e5-ac33-7402a59c1898",
   "metadata": {},
   "outputs": [],
   "source": [
    "filtered_data = []\n",
    "\n",
    "# filter by country\n",
    "for trip_stop in itinerary:\n",
    "    if trip_stop[\"Country\"] == \"Japan\":\n",
    "        filtered_data.append(trip_stop)"
   ]
  },
  {
   "cell_type": "code",
   "execution_count": 148,
   "id": "cc0eaebc-a08d-4992-8245-40654d12ef95",
   "metadata": {
    "scrolled": true
   },
   "outputs": [
    {
     "data": {
      "text/html": [
       "<div>\n",
       "<style scoped>\n",
       "    .dataframe tbody tr th:only-of-type {\n",
       "        vertical-align: middle;\n",
       "    }\n",
       "\n",
       "    .dataframe tbody tr th {\n",
       "        vertical-align: top;\n",
       "    }\n",
       "\n",
       "    .dataframe thead th {\n",
       "        text-align: right;\n",
       "    }\n",
       "</style>\n",
       "<table border=\"1\" class=\"dataframe\">\n",
       "  <thead>\n",
       "    <tr style=\"text-align: right;\">\n",
       "      <th></th>\n",
       "      <th>Arrival</th>\n",
       "      <th>Departure</th>\n",
       "      <th>City</th>\n",
       "      <th>Country</th>\n",
       "    </tr>\n",
       "  </thead>\n",
       "  <tbody>\n",
       "    <tr>\n",
       "      <th>0</th>\n",
       "      <td>August-10</td>\n",
       "      <td>August-17</td>\n",
       "      <td>Tokyo</td>\n",
       "      <td>Japan</td>\n",
       "    </tr>\n",
       "  </tbody>\n",
       "</table>\n",
       "</div>"
      ],
      "text/plain": [
       "     Arrival  Departure   City Country\n",
       "0  August-10  August-17  Tokyo   Japan"
      ]
     },
     "execution_count": 148,
     "metadata": {},
     "output_type": "execute_result"
    }
   ],
   "source": [
    "filtered_data_df = pd.DataFrame(filtered_data)\n",
    "filtered_data_df"
   ]
  },
  {
   "cell_type": "code",
   "execution_count": 150,
   "id": "863f17c4-a959-485d-9aac-cee5d90e8c81",
   "metadata": {},
   "outputs": [
    {
     "name": "stdout",
     "output_type": "stream",
     "text": [
      "{'Arrival': 'July-01', 'Departure': 'July-08', 'City': 'New York', 'Country': 'USA'}\n"
     ]
    }
   ],
   "source": [
    "trip_stop = itinerary[0]\n",
    "print(trip_stop)"
   ]
  },
  {
   "cell_type": "code",
   "execution_count": 152,
   "id": "21a9c6c9-ff2f-44a5-a3e0-1c4a4e69ed89",
   "metadata": {},
   "outputs": [],
   "source": [
    "city = trip_stop[\"City\"]\n",
    "country = trip_stop[\"Country\"]\n",
    "arrival = trip_stop[\"Arrival\"]\n",
    "departure = trip_stop[\"Departure\"]"
   ]
  },
  {
   "cell_type": "code",
   "execution_count": 154,
   "id": "4776b768-ead5-47f8-a360-61cedbcc2ed2",
   "metadata": {},
   "outputs": [
    {
     "name": "stdout",
     "output_type": "stream",
     "text": [
      "I will visit New York, USA, from July-01 to July-08.\n",
      "Please create a detailed daily itinerary.\n"
     ]
    }
   ],
   "source": [
    "prompt = f\"\"\"I will visit {city}, {country}, from {arrival} to {departure}.\n",
    "Please create a detailed daily itinerary.\"\"\"\n",
    "print(prompt)"
   ]
  },
  {
   "cell_type": "code",
   "execution_count": 156,
   "id": "fe0d8133-b7ed-4f06-8a43-4c9f152846d4",
   "metadata": {
    "collapsed": true,
    "jupyter": {
     "outputs_hidden": true,
     "source_hidden": true
    }
   },
   "outputs": [
    {
     "data": {
      "text/markdown": [
       "# New York City Itinerary: July 01 - July 08\n",
       "\n",
       "## Day 1: Monday, July 01 - Arrival & Midtown Marvels\n",
       "\n",
       "* **Morning (Arrival):**\n",
       "    * Arrive at your accommodation (e.g., Midtown Manhattan hotel).\n",
       "    * Check-in and drop off luggage.\n",
       "    * Grab a quick lunch near your hotel.\n",
       "* **Afternoon:**\n",
       "    * **Times Square:** Immerse yourself in the vibrant energy of Times Square.\n",
       "    * **Broadway Show (Optional):** Book tickets for an evening Broadway performance.\n",
       "* **Evening:**\n",
       "    * Dinner in the Theater District.\n",
       "    * Enjoy the illuminated billboards of Times Square.\n",
       "\n",
       "## Day 2: Tuesday, July 02 - Iconic Landmarks & High Views\n",
       "\n",
       "* **Morning:**\n",
       "    * **Empire State Building:** Ascend to the observatory for panoramic city views. Book tickets in advance.\n",
       "    * **New York Public Library (Stephen A. Schwarzman Building):** Explore the stunning architecture and reading rooms.\n",
       "* **Afternoon:**\n",
       "    * **Grand Central Terminal:** Admire the iconic architecture and celestial ceiling.\n",
       "    * **Chrysler Building:** View this Art Deco masterpiece from the outside.\n",
       "* **Evening:**\n",
       "    * Dinner in Midtown.\n",
       "    * Stroll through Bryant Park.\n",
       "\n",
       "## Day 3: Wednesday, July 03 - Cultural Immersion & Central Park\n",
       "\n",
       "* **Morning:**\n",
       "    * **Museum Mile:** Choose one or two museums based on your interest:\n",
       "        * **The Metropolitan Museum of Art (The Met):** World-class art collections.\n",
       "        * **American Museum of Natural History:** Dinosaurs, exhibits, and more.\n",
       "* **Afternoon:**\n",
       "    * **Central Park:** Enjoy a leisurely walk, visit Bethesda Terrace, Strawberry Fields (John Lennon Memorial), or rent a rowboat.\n",
       "    * Lunch at a cafe near Central Park.\n",
       "* **Evening:**\n",
       "    * Dinner on the Upper West Side or Upper East Side.\n",
       "    * Catch a free concert in Central Park if available (check schedules).\n",
       "\n",
       "## Day 4: Thursday, July 04 - Independence Day Celebrations!\n",
       "\n",
       "* **Morning:**\n",
       "    * **Statue of Liberty & Ellis Island:** Take an early ferry to Liberty Island and Ellis Island. Book tickets well in advance.\n",
       "    * **Lower Manhattan:** Explore Battery Park and the financial district.\n",
       "* **Afternoon:**\n",
       "    * Lunch in Lower Manhattan.\n",
       "    * **Wall Street:** See the New York Stock Exchange and Federal Hall.\n",
       "* **Evening:**\n",
       "    * **Macy's 4th of July Fireworks Display:** Secure a good viewing spot along the East River (East River State Park in Brooklyn, or various spots in Manhattan with river views). Expect large crowds. Arrive early!\n",
       "\n",
       "## Day 5: Friday, July 05 - Downtown History & Bridges\n",
       "\n",
       "* **Morning:**\n",
       "    * **9/11 Memorial & Museum:** A poignant and important visit. Reserve timed entry tickets.\n",
       "    * **One World Observatory:** Experience breathtaking views from the tallest building in the Western Hemisphere.\n",
       "* **Afternoon:**\n",
       "    * **Brooklyn Bridge:** Walk or bike across the Brooklyn Bridge from Manhattan to DUMBO (Down Under the Manhattan Bridge Overpass).\n",
       "    * Explore DUMBO, visit Brooklyn Bridge Park, and enjoy the iconic views of the Manhattan skyline.\n",
       "    * Lunch in DUMBO.\n",
       "* **Evening:**\n",
       "    * Dinner in Brooklyn (e.g., DUMBO, Williamsburg for trendy spots).\n",
       "\n",
       "## Day 6: Saturday, July 06 - Arts, Markets & Greenwich Village Charm\n",
       "\n",
       "* **Morning:**\n",
       "    * **The High Line:** Enjoy a unique elevated park built on historic freight rail lines, stretching from Gansevoort Street to 34th Street.\n",
       "    * **Chelsea Market:** Explore this indoor food hall and shopping area (located just off The High Line).\n",
       "* **Afternoon:**\n",
       "    * **Greenwich Village:** Wander through charming streets, explore Washington Square Park.\n",
       "    * Grab coffee or a snack at a local cafe.\n",
       "* **Evening:**\n",
       "    * Dinner in Greenwich Village, known for its diverse culinary scene.\n",
       "    * Catch a live music performance or comedy show.\n",
       "\n",
       "## Day 7: Sunday, July 07 - Diverse Neighborhoods & Relaxation\n",
       "\n",
       "* **Morning:**\n",
       "    * **SoHo/Nolita:** Explore the trendy boutiques, art galleries, and cobblestone streets.\n",
       "    * Brunch in SoHo or Nolita.\n",
       "* **Afternoon:**\n",
       "    * **Little Italy & Chinatown:** Immerse yourself in these vibrant neighborhoods, grab some authentic food, and explore the unique shops.\n",
       "* **Evening:**\n",
       "    * **Rooftop Bar Experience:** Enjoy a farewell drink at a rooftop bar with stunning city views.\n",
       "    * Choose a farewell dinner in a neighborhood you loved or want to try one last time.\n",
       "\n",
       "## Day 8: Monday, July 08 - Departure\n",
       "\n",
       "* **Morning:**\n",
       "    * Enjoy a relaxed breakfast.\n",
       "    * Do some last-minute souvenir shopping if time permits.\n",
       "    * Check out from your accommodation.\n",
       "* **Afternoon:**\n",
       "    * Head to the airport for your departure.\n",
       "\n",
       "---\n",
       "\n",
       "**Important Notes:**\n",
       "\n",
       "* **Bookings:** Book popular attractions (Empire State Building, Statue of Liberty, Broadway shows, 9/11 Museum) well in advance, especially around July 4th.\n",
       "* **Transportation:** New York City's subway system is the most efficient way to get around. Consider purchasing a MetroCard.\n",
       "* **Walking:** Be prepared to do a lot of walking! Wear comfortable shoes.\n",
       "* **Flexibility:** This is a suggestion; feel free to adjust it based on your interests and pace.\n",
       "* **Food:** NYC is a culinary paradise. Don't be afraid to try street food, explore different cuisines, and dine in various neighborhoods.\n",
       "* **Weather:** July in NYC can be hot and humid. Dress in layers, stay hydrated, and be prepared for occasional thunderstorms.\n",
       "* **July 4th:** This is a major holiday. Expect significant crowds, road closures, and higher prices for accommodations and certain activities. Plan your viewing spot for the fireworks well in advance."
      ],
      "text/plain": [
       "<IPython.core.display.Markdown object>"
      ]
     },
     "metadata": {},
     "output_type": "display_data"
    }
   ],
   "source": [
    "# response = get_llm_response(prompt)\n",
    "# display(Markdown(response))\n",
    "response = \"\"\"# New York City Itinerary: July 01 - July 08\n",
    "\n",
    "## Day 1: Monday, July 01 - Arrival & Midtown Marvels\n",
    "\n",
    "* **Morning (Arrival):**\n",
    "    * Arrive at your accommodation (e.g., Midtown Manhattan hotel).\n",
    "    * Check-in and drop off luggage.\n",
    "    * Grab a quick lunch near your hotel.\n",
    "* **Afternoon:**\n",
    "    * **Times Square:** Immerse yourself in the vibrant energy of Times Square.\n",
    "    * **Broadway Show (Optional):** Book tickets for an evening Broadway performance.\n",
    "* **Evening:**\n",
    "    * Dinner in the Theater District.\n",
    "    * Enjoy the illuminated billboards of Times Square.\n",
    "\n",
    "## Day 2: Tuesday, July 02 - Iconic Landmarks & High Views\n",
    "\n",
    "* **Morning:**\n",
    "    * **Empire State Building:** Ascend to the observatory for panoramic city views. Book tickets in advance.\n",
    "    * **New York Public Library (Stephen A. Schwarzman Building):** Explore the stunning architecture and reading rooms.\n",
    "* **Afternoon:**\n",
    "    * **Grand Central Terminal:** Admire the iconic architecture and celestial ceiling.\n",
    "    * **Chrysler Building:** View this Art Deco masterpiece from the outside.\n",
    "* **Evening:**\n",
    "    * Dinner in Midtown.\n",
    "    * Stroll through Bryant Park.\n",
    "\n",
    "## Day 3: Wednesday, July 03 - Cultural Immersion & Central Park\n",
    "\n",
    "* **Morning:**\n",
    "    * **Museum Mile:** Choose one or two museums based on your interest:\n",
    "        * **The Metropolitan Museum of Art (The Met):** World-class art collections.\n",
    "        * **American Museum of Natural History:** Dinosaurs, exhibits, and more.\n",
    "* **Afternoon:**\n",
    "    * **Central Park:** Enjoy a leisurely walk, visit Bethesda Terrace, Strawberry Fields (John Lennon Memorial), or rent a rowboat.\n",
    "    * Lunch at a cafe near Central Park.\n",
    "* **Evening:**\n",
    "    * Dinner on the Upper West Side or Upper East Side.\n",
    "    * Catch a free concert in Central Park if available (check schedules).\n",
    "\n",
    "## Day 4: Thursday, July 04 - Independence Day Celebrations!\n",
    "\n",
    "* **Morning:**\n",
    "    * **Statue of Liberty & Ellis Island:** Take an early ferry to Liberty Island and Ellis Island. Book tickets well in advance.\n",
    "    * **Lower Manhattan:** Explore Battery Park and the financial district.\n",
    "* **Afternoon:**\n",
    "    * Lunch in Lower Manhattan.\n",
    "    * **Wall Street:** See the New York Stock Exchange and Federal Hall.\n",
    "* **Evening:**\n",
    "    * **Macy's 4th of July Fireworks Display:** Secure a good viewing spot along the East River (East River State Park in Brooklyn, or various spots in Manhattan with river views). Expect large crowds. Arrive early!\n",
    "\n",
    "## Day 5: Friday, July 05 - Downtown History & Bridges\n",
    "\n",
    "* **Morning:**\n",
    "    * **9/11 Memorial & Museum:** A poignant and important visit. Reserve timed entry tickets.\n",
    "    * **One World Observatory:** Experience breathtaking views from the tallest building in the Western Hemisphere.\n",
    "* **Afternoon:**\n",
    "    * **Brooklyn Bridge:** Walk or bike across the Brooklyn Bridge from Manhattan to DUMBO (Down Under the Manhattan Bridge Overpass).\n",
    "    * Explore DUMBO, visit Brooklyn Bridge Park, and enjoy the iconic views of the Manhattan skyline.\n",
    "    * Lunch in DUMBO.\n",
    "* **Evening:**\n",
    "    * Dinner in Brooklyn (e.g., DUMBO, Williamsburg for trendy spots).\n",
    "\n",
    "## Day 6: Saturday, July 06 - Arts, Markets & Greenwich Village Charm\n",
    "\n",
    "* **Morning:**\n",
    "    * **The High Line:** Enjoy a unique elevated park built on historic freight rail lines, stretching from Gansevoort Street to 34th Street.\n",
    "    * **Chelsea Market:** Explore this indoor food hall and shopping area (located just off The High Line).\n",
    "* **Afternoon:**\n",
    "    * **Greenwich Village:** Wander through charming streets, explore Washington Square Park.\n",
    "    * Grab coffee or a snack at a local cafe.\n",
    "* **Evening:**\n",
    "    * Dinner in Greenwich Village, known for its diverse culinary scene.\n",
    "    * Catch a live music performance or comedy show.\n",
    "\n",
    "## Day 7: Sunday, July 07 - Diverse Neighborhoods & Relaxation\n",
    "\n",
    "* **Morning:**\n",
    "    * **SoHo/Nolita:** Explore the trendy boutiques, art galleries, and cobblestone streets.\n",
    "    * Brunch in SoHo or Nolita.\n",
    "* **Afternoon:**\n",
    "    * **Little Italy & Chinatown:** Immerse yourself in these vibrant neighborhoods, grab some authentic food, and explore the unique shops.\n",
    "* **Evening:**\n",
    "    * **Rooftop Bar Experience:** Enjoy a farewell drink at a rooftop bar with stunning city views.\n",
    "    * Choose a farewell dinner in a neighborhood you loved or want to try one last time.\n",
    "\n",
    "## Day 8: Monday, July 08 - Departure\n",
    "\n",
    "* **Morning:**\n",
    "    * Enjoy a relaxed breakfast.\n",
    "    * Do some last-minute souvenir shopping if time permits.\n",
    "    * Check out from your accommodation.\n",
    "* **Afternoon:**\n",
    "    * Head to the airport for your departure.\n",
    "\n",
    "---\n",
    "\n",
    "**Important Notes:**\n",
    "\n",
    "* **Bookings:** Book popular attractions (Empire State Building, Statue of Liberty, Broadway shows, 9/11 Museum) well in advance, especially around July 4th.\n",
    "* **Transportation:** New York City's subway system is the most efficient way to get around. Consider purchasing a MetroCard.\n",
    "* **Walking:** Be prepared to do a lot of walking! Wear comfortable shoes.\n",
    "* **Flexibility:** This is a suggestion; feel free to adjust it based on your interests and pace.\n",
    "* **Food:** NYC is a culinary paradise. Don't be afraid to try street food, explore different cuisines, and dine in various neighborhoods.\n",
    "* **Weather:** July in NYC can be hot and humid. Dress in layers, stay hydrated, and be prepared for occasional thunderstorms.\n",
    "* **July 4th:** This is a major holiday. Expect significant crowds, road closures, and higher prices for accommodations and certain activities. Plan your viewing spot for the fireworks well in advance.\"\"\"\n",
    "\n",
    "display(Markdown(response))"
   ]
  },
  {
   "cell_type": "markdown",
   "id": "402fee31-25a5-40ee-be07-34020a1f1c79",
   "metadata": {
    "jp-MarkdownHeadingCollapsed": true
   },
   "source": [
    "# Turning code blocks into reusable functions"
   ]
  },
  {
   "cell_type": "code",
   "execution_count": null,
   "id": "198705af-3dbd-48e0-8eb5-ffb8052f2aa6",
   "metadata": {},
   "outputs": [],
   "source": [
    "from IPython.display import Markdown, display"
   ]
  },
  {
   "cell_type": "code",
   "execution_count": 160,
   "id": "094a7d48-7a16-4991-9ee1-397e5b8b5b6d",
   "metadata": {},
   "outputs": [],
   "source": [
    "def print_journal(file):\n",
    "    f = open(file, \"r\")\n",
    "    journal = f.read()\n",
    "    f.close()\n",
    "    print(journal)"
   ]
  },
  {
   "cell_type": "code",
   "execution_count": 162,
   "id": "dfb8b2bb-6e0c-4c52-92fe-e147743cbe72",
   "metadata": {},
   "outputs": [],
   "source": [
    "def print_journal(file):\n",
    "    f = open(file, \"r\")\n",
    "    journal = f.read()\n",
    "    f.close()\n",
    "    # print(journal)\n",
    "    return journal"
   ]
  },
  {
   "cell_type": "code",
   "execution_count": 166,
   "id": "ff0ab620-e8cf-42df-914c-6fc6b7b189a0",
   "metadata": {
    "scrolled": true
   },
   "outputs": [
    {
     "name": "stdout",
     "output_type": "stream",
     "text": [
      "Tokyo's culinary landscape is nothing short of extraordinary. Each spot offers a unique taste of the city's diverse food culture. Here's a quick guide to some must-try places and dishes.\n",
      "\n",
      "    Sukiyabashi Jiro\n",
      "        Location: Ginza\n",
      "        Dish: Omakase sushi\n",
      "        Highlight: Impeccably crafted sushi made by the legendary Jiro Ono. Each piece is a masterclass in balance and flavor.\n",
      "\n",
      "    Ichiran Ramen\n",
      "        Location: Shibuya\n",
      "        Dish: Tonkotsu ramen\n",
      "        Highlight: A personal ramen booth for focused, uninterrupted enjoyment. Rich, creamy broth with perfectly cooked noodles.\n",
      "\n",
      "    Tsukiji Outer Market\n",
      "        Location: Tsukiji\n",
      "        Dish: Fresh sashimi and street food\n",
      "        Highlight: Vibrant market atmosphere. Indulge in ultra-fresh sashimi, grilled seafood, and other Japanese street food delights.\n",
      "\n",
      "    Narisawa\n",
      "        Location: Minato\n",
      "        Dish: Innovative tasting menu\n",
      "        Highlight: A fusion of French and Japanese techniques. Creative dishes with an emphasis on sustainability and local ingredients.\n",
      "\n",
      "    Ginza Kojyu\n",
      "        Location: Ginza\n",
      "        Dish: Kaiseki (traditional multi-course meal)\n",
      "        Highlight: Exquisite presentation and meticulous preparation. A journey through seasonal Japanese flavors.\n",
      "\n",
      "    Akasaka Kikunoi\n",
      "        Location: Akasaka\n",
      "        Dish: Kaiseki\n",
      "        Highlight: Elegant and serene setting. Seasonal ingredients transformed into artful, delicious courses.\n"
     ]
    }
   ],
   "source": [
    "journal_tokyo = read_journal(\"./text/tokyo.txt\")\n",
    "print(journal_tokyo)"
   ]
  },
  {
   "cell_type": "code",
   "execution_count": 168,
   "id": "a9e88d2d-19bc-447e-b9e9-4f9594ad5599",
   "metadata": {},
   "outputs": [
    {
     "name": "stdout",
     "output_type": "stream",
     "text": [
      "1428\n"
     ]
    }
   ],
   "source": [
    "print(len(journal_tokyo))"
   ]
  },
  {
   "cell_type": "code",
   "execution_count": 170,
   "id": "00b4830a-6b38-4f7e-bd49-3205a24853d5",
   "metadata": {},
   "outputs": [
    {
     "name": "stdout",
     "output_type": "stream",
     "text": [
      "76°F is equivalent to 24.44°C\n"
     ]
    }
   ],
   "source": [
    "# Value of temperature in Fahrenheit\n",
    "fahrenheit = 76\n",
    "# Calculation for getting the temperature in Celsius\n",
    "celsius = (fahrenheit - 32) * 5 / 9\n",
    "\n",
    "# Print the results\n",
    "print(f\"{fahrenheit}°F is equivalent to {celsius:.2f}°C\")"
   ]
  },
  {
   "cell_type": "code",
   "execution_count": 178,
   "id": "0820cff0-102b-4a9e-a5bc-31e6b101c32c",
   "metadata": {},
   "outputs": [],
   "source": [
    "def fahrenheit_to_celsius(fahrenheit):\n",
    "    celsius = (fahrenheit - 32) * 5 / 9\n",
    "    print(f\"{fahrenheit}°F is equivalent to {celsius:.2f}°C\")"
   ]
  },
  {
   "cell_type": "code",
   "execution_count": 180,
   "id": "7b271c5a-9591-480e-b30c-57d2f19ea0cd",
   "metadata": {},
   "outputs": [
    {
     "name": "stdout",
     "output_type": "stream",
     "text": [
      "71°F is equivalent to 21.67°C\n"
     ]
    }
   ],
   "source": [
    "fahrenheit_to_celsius(71)"
   ]
  },
  {
   "cell_type": "code",
   "execution_count": 182,
   "id": "dbead66f-7713-4457-9ace-1d02bb3c7f19",
   "metadata": {},
   "outputs": [
    {
     "name": "stdout",
     "output_type": "stream",
     "text": [
      "100°F is equivalent to 37.78°C\n"
     ]
    }
   ],
   "source": [
    "fahrenheit_to_celsius(100)"
   ]
  },
  {
   "cell_type": "code",
   "execution_count": 184,
   "id": "aeb2b6a3-f24a-488f-b353-70e1e18a1ecf",
   "metadata": {},
   "outputs": [
    {
     "name": "stdout",
     "output_type": "stream",
     "text": [
      "212°F is equivalent to 100.00°C\n"
     ]
    }
   ],
   "source": [
    "fahrenheit_to_celsius(212)"
   ]
  },
  {
   "cell_type": "code",
   "execution_count": 186,
   "id": "80f0d230-f5ac-4b80-944b-b87c65e5b3ba",
   "metadata": {},
   "outputs": [],
   "source": [
    "def fahrenheit_to_celsius(fahrenheit):\n",
    "    celsius = (fahrenheit - 32) * 5 / 9\n",
    "    # print(f\"{fahrenheit}°F is equivalent to {celsius:.2f}°C\")\n",
    "    return celsius"
   ]
  },
  {
   "cell_type": "code",
   "execution_count": 196,
   "id": "787b2aa7-dba7-47c2-9518-80523666089c",
   "metadata": {},
   "outputs": [
    {
     "name": "stdout",
     "output_type": "stream",
     "text": [
      "7.22\n",
      "45°F is equivalent to 7.22°C\n"
     ]
    }
   ],
   "source": [
    "fahrenheit = 45\n",
    "celsius = fahrenheit_to_celsius(fahrenheit)\n",
    "print(round(celsius,2))\n",
    "print(f\"{fahrenheit}°F is equivalent to {celsius:.2f}°C\")"
   ]
  },
  {
   "cell_type": "code",
   "execution_count": 198,
   "id": "a0787091-75fd-4298-8b05-7e0c7ebb79fb",
   "metadata": {},
   "outputs": [
    {
     "data": {
      "text/plain": [
       "float"
      ]
     },
     "execution_count": 198,
     "metadata": {},
     "output_type": "execute_result"
    }
   ],
   "source": [
    "type(celsius)"
   ]
  },
  {
   "cell_type": "code",
   "execution_count": 206,
   "id": "4eafb000-7cd4-4a42-a3e9-b9eff4de8d15",
   "metadata": {},
   "outputs": [
    {
     "name": "stdout",
     "output_type": "stream",
     "text": [
      "32.8084\n",
      "2.296588\n"
     ]
    }
   ],
   "source": [
    "def meters_to_feet(meters):\n",
    "    feet = 3.28084 * (meters)\n",
    "    return feet\n",
    "print(meters_to_feet(10)) # Should print 32.8084\n",
    "print(meters_to_feet(0.7)) # Should print 2.29659"
   ]
  },
  {
   "cell_type": "code",
   "execution_count": 212,
   "id": "ae1c3c9b-c80f-4923-92cd-8c5f9e79b976",
   "metadata": {},
   "outputs": [
    {
     "name": "stdout",
     "output_type": "stream",
     "text": [
      "32.0\n",
      "212.0\n",
      "55.400000000000006\n"
     ]
    }
   ],
   "source": [
    "def celsius_to_fahrenheit(celsius):\n",
    "    fahrenheit = (celsius * (9 / 5)) + 32\n",
    "    return fahrenheit\n",
    "print(celsius_to_fahrenheit(0))   # Should print 32\n",
    "print(celsius_to_fahrenheit(100)) # Should print 212\n",
    "print(celsius_to_fahrenheit(13))  # Should print 55.4"
   ]
  },
  {
   "cell_type": "code",
   "execution_count": 224,
   "id": "aeabd31f-331e-4e85-8c22-6cff4f2b1820",
   "metadata": {},
   "outputs": [
    {
     "name": "stdout",
     "output_type": "stream",
     "text": [
      "My first destination was The Test Kitchen, a restaurant that has earned its place among the world's best. Situated in the trendy Woodstock area, this dining spot is celebrated for its innovative dishes. I was particularly taken by their signature dish, the \"Pickled Fish Tacos.\" The tangy, flavorful fish wrapped in a soft taco, paired with a zesty salsa, was a delightful start to my culinary adventure. The industrial-chic ambiance added a modern edge to the dining experience.\n",
      "\n",
      "Next, I made my way to La Colombe, perched on the slopes of Constantia. Known for its refined and artistic approach to cuisine, La Colombe's \"Tuna La Colombe\" is a must-try. This dish features perfectly seared tuna, complemented by a delicate ponzu dressing and bursts of citrus. The presentation was as exquisite as the flavors, making it a memorable highlight of the day.\n",
      "\n",
      "At the bustling V&A Waterfront, I visited Harbour House for some of the freshest seafood in town. The \"Grilled Kingklip\" was a revelation. The succulent, flaky fish, grilled to perfection and served with a side of roasted vegetables, highlighted the ocean's bounty. The stunning views of the harbor added to the meal's appeal.\n",
      "\n",
      "Finally, my journey concluded at The Pot Luck Club, another gem in Woodstock. This trendy spot is known for its small plates, perfect for sharing. The standout dish was the \"Beef Tataki.\" Thinly sliced, seared beef with a tangy soy dressing and a hint of wasabi provided a burst of umami and heat. The eclectic, artistic vibe of the restaurant made for a fitting end to my culinary tour.\n"
     ]
    }
   ],
   "source": [
    "def print_journal(file):\n",
    "    f = open(file, 'r')\n",
    "    journal = f.read()\n",
    "    f.close()\n",
    "    return journal\n",
    "\n",
    "journal_cape_town = print_journal(\"./text/cape_town.txt\")\n",
    "print(journal_cape_town)"
   ]
  },
  {
   "cell_type": "markdown",
   "id": "e33664b8-9576-408d-b65a-8bc941b1c2af",
   "metadata": {
    "jp-MarkdownHeadingCollapsed": true
   },
   "source": [
    "# Creating detailed itineraries for multiple cities"
   ]
  },
  {
   "cell_type": "code",
   "execution_count": 228,
   "id": "a12e91fa-8eda-4046-a6c1-589c9b91726c",
   "metadata": {},
   "outputs": [],
   "source": [
    "from IPython.display import display, Markdown\n",
    "import pandas as pd"
   ]
  },
  {
   "cell_type": "code",
   "execution_count": 230,
   "id": "ca05b823-334e-468a-88aa-3917394a2af8",
   "metadata": {},
   "outputs": [],
   "source": [
    "def read_csv(file):\n",
    "    f = open(file, \"r\")\n",
    "    csv_reader = csv.DictReader(f)\n",
    "    data = []\n",
    "    for row in csv_reader:\n",
    "        data.append(row)\n",
    "    f.close()\n",
    "\n",
    "    return data"
   ]
  },
  {
   "cell_type": "code",
   "execution_count": 232,
   "id": "4d45924c-bed4-4e9f-a38c-11cb017f4ecc",
   "metadata": {},
   "outputs": [
    {
     "data": {
      "text/html": [
       "<div>\n",
       "<style scoped>\n",
       "    .dataframe tbody tr th:only-of-type {\n",
       "        vertical-align: middle;\n",
       "    }\n",
       "\n",
       "    .dataframe tbody tr th {\n",
       "        vertical-align: top;\n",
       "    }\n",
       "\n",
       "    .dataframe thead th {\n",
       "        text-align: right;\n",
       "    }\n",
       "</style>\n",
       "<table border=\"1\" class=\"dataframe\">\n",
       "  <thead>\n",
       "    <tr style=\"text-align: right;\">\n",
       "      <th></th>\n",
       "      <th>Arrival</th>\n",
       "      <th>Departure</th>\n",
       "      <th>City</th>\n",
       "      <th>Country</th>\n",
       "    </tr>\n",
       "  </thead>\n",
       "  <tbody>\n",
       "    <tr>\n",
       "      <th>0</th>\n",
       "      <td>July-01</td>\n",
       "      <td>July-08</td>\n",
       "      <td>New York</td>\n",
       "      <td>USA</td>\n",
       "    </tr>\n",
       "    <tr>\n",
       "      <th>1</th>\n",
       "      <td>July-09</td>\n",
       "      <td>July-16</td>\n",
       "      <td>Rio de Janeiro</td>\n",
       "      <td>Brazil</td>\n",
       "    </tr>\n",
       "    <tr>\n",
       "      <th>2</th>\n",
       "      <td>July-17</td>\n",
       "      <td>July-24</td>\n",
       "      <td>Cape Town</td>\n",
       "      <td>South Africa</td>\n",
       "    </tr>\n",
       "    <tr>\n",
       "      <th>3</th>\n",
       "      <td>July-25</td>\n",
       "      <td>August-01</td>\n",
       "      <td>Istanbul</td>\n",
       "      <td>Turkey</td>\n",
       "    </tr>\n",
       "    <tr>\n",
       "      <th>4</th>\n",
       "      <td>August-02</td>\n",
       "      <td>August-09</td>\n",
       "      <td>Paris</td>\n",
       "      <td>France</td>\n",
       "    </tr>\n",
       "    <tr>\n",
       "      <th>5</th>\n",
       "      <td>August-10</td>\n",
       "      <td>August-17</td>\n",
       "      <td>Tokyo</td>\n",
       "      <td>Japan</td>\n",
       "    </tr>\n",
       "    <tr>\n",
       "      <th>6</th>\n",
       "      <td>August-18</td>\n",
       "      <td>August-25</td>\n",
       "      <td>Sydney</td>\n",
       "      <td>Australia</td>\n",
       "    </tr>\n",
       "  </tbody>\n",
       "</table>\n",
       "</div>"
      ],
      "text/plain": [
       "     Arrival  Departure            City       Country\n",
       "0    July-01    July-08        New York           USA\n",
       "1    July-09    July-16  Rio de Janeiro        Brazil\n",
       "2    July-17    July-24       Cape Town  South Africa\n",
       "3    July-25  August-01        Istanbul        Turkey\n",
       "4  August-02  August-09           Paris        France\n",
       "5  August-10  August-17           Tokyo         Japan\n",
       "6  August-18  August-25          Sydney     Australia"
      ]
     },
     "execution_count": 232,
     "metadata": {},
     "output_type": "execute_result"
    }
   ],
   "source": [
    "itinerary = read_csv(\"./text/itinerary.csv\")\n",
    "pd.DataFrame(itinerary)"
   ]
  },
  {
   "cell_type": "code",
   "execution_count": 237,
   "id": "b3c30e29-1944-4209-8ff9-d4cf4ece882c",
   "metadata": {},
   "outputs": [],
   "source": [
    "def read_journal(file):\n",
    "    f = open(file, 'r')\n",
    "    journal = f.read()\n",
    "    f.close()\n",
    "    return journal"
   ]
  },
  {
   "cell_type": "code",
   "execution_count": 239,
   "id": "f501ea12-a66d-4e02-b2c0-62bc3c48a7e1",
   "metadata": {},
   "outputs": [
    {
     "name": "stdout",
     "output_type": "stream",
     "text": [
      "My culinary adventure began at Saint Peter, a renowned seafood restaurant in Paddington. This place is a temple to Australian seafood, and the \"Murray Cod\" was a revelation. The fish, sourced from the Murray River, was perfectly cooked, with a crispy skin and tender, flaky flesh. It was served with a simple yet flavorful accompaniment of seasonal vegetables, allowing the quality of the fish to shine. The restaurant's dedication to sustainability and nose-to-tail seafood cooking added an educational aspect to the delicious meal.\n",
      "\n",
      "Next, I visited Billy Kwong in Potts Point, where celebrated chef Kylie Kwong puts a unique spin on modern Australian cuisine using native ingredients. The standout dish here was the \"Crispy Skin Duck with Davidsonâ€™s Plum Sauce.\" The duck was cooked to perfection, with a rich, flavorful meat and delightfully crispy skin, complemented by the tart and slightly sweet Davidsonâ€™s plum sauce. This dish was a perfect example of how traditional recipes can be elevated with local, indigenous ingredients, creating something both familiar and new.\n",
      "\n",
      "In search of a true Australian pub experience, I headed to The Lord Nelson Brewery Hotel in The Rocks. This historic pub serves up hearty, classic Australian fare, and the \"Roast Lamb\" was exactly what I was craving. The lamb, roasted to tender perfection, was served with a medley of root vegetables and a rich gravy, making for a comforting and satisfying meal. Paired with one of their house-brewed ales, it was a quintessential Aussie pub experience that I would highly recommend.\n",
      "\n",
      "I couldn't miss out on trying some of the famous Australian barbecue, so I headed to Vic's Meat Market at the Sydney Fish Market. The \"BBQ Beef Brisket\" was a highlight, slow-cooked to achieve a melt-in-the-mouth texture, and served with a tangy barbecue sauce. The smoky, rich flavor of the brisket was enhanced by the vibrant, outdoor setting of the market, where the aroma of grilling meat filled the air.\n",
      "\n",
      "To round off my exploration of local cuisine, I visited Bennelong, located within the iconic Sydney Opera House. This fine dining restaurant celebrates Australian produce in every dish. The \"Sydney Rock Oysters\" were an exquisite start to the meal, served with a delicate vinaigrette that highlighted their briny freshness. The oysters, sourced from local waters, were plump and succulent, offering a pure taste of the sea.\n"
     ]
    }
   ],
   "source": [
    "journal = read_journal(\"./text/sydney.txt\")\n",
    "print(journal)"
   ]
  },
  {
   "cell_type": "code",
   "execution_count": 245,
   "id": "7dab1398-7fea-4ef3-ac13-a42ce8b9b922",
   "metadata": {},
   "outputs": [
    {
     "name": "stdout",
     "output_type": "stream",
     "text": [
      "Restaurant, Specialty\n",
      "Saint Peter, Murray Cod\n",
      "Billy Kwong, Crispy Skin Duck with Davidson’s Plum Sauce\n",
      "The Lord Nelson Brewery Hotel, Roast Lamb\n",
      "Vic's Meat Market, BBQ Beef Brisket\n",
      "Bennelong, Sydney Rock Oysters\n"
     ]
    }
   ],
   "source": [
    "prompt = f\"\"\"Please extract a comprehensive list of the restaurants \n",
    "and their respective specialties mentioned in the following journal entry. \n",
    "Ensure that each restaurant name is accurately identified and listed. \n",
    "Provide your answer in CSV format, ready to save. \n",
    "Exclude the \"```csv\" declaration, don't add spaces after the comma, include column headers.\n",
    "\n",
    "Format:\n",
    "Restaurant, Specialty\n",
    "Res_1, Sp_1\n",
    "...\n",
    "\n",
    "Journal entry:\n",
    "{journal}\n",
    "\"\"\"\n",
    "# print_llm_response(prompt)\n",
    "\n",
    "journal = \"\"\"Restaurant, Specialty\n",
    "Saint Peter, Murray Cod\n",
    "Billy Kwong, Crispy Skin Duck with Davidson’s Plum Sauce\n",
    "The Lord Nelson Brewery Hotel, Roast Lamb\n",
    "Vic's Meat Market, BBQ Beef Brisket\n",
    "Bennelong, Sydney Rock Oysters\"\"\"\n",
    "\n",
    "print(journal)"
   ]
  },
  {
   "cell_type": "code",
   "execution_count": 250,
   "id": "ccd078d7-4d22-4063-942d-28235bd9b377",
   "metadata": {},
   "outputs": [
    {
     "data": {
      "text/html": [
       "<div>\n",
       "<style scoped>\n",
       "    .dataframe tbody tr th:only-of-type {\n",
       "        vertical-align: middle;\n",
       "    }\n",
       "\n",
       "    .dataframe tbody tr th {\n",
       "        vertical-align: top;\n",
       "    }\n",
       "\n",
       "    .dataframe thead th {\n",
       "        text-align: right;\n",
       "    }\n",
       "</style>\n",
       "<table border=\"1\" class=\"dataframe\">\n",
       "  <thead>\n",
       "    <tr style=\"text-align: right;\">\n",
       "      <th></th>\n",
       "      <th>Restaurant</th>\n",
       "      <th>Specialty</th>\n",
       "    </tr>\n",
       "  </thead>\n",
       "  <tbody>\n",
       "    <tr>\n",
       "      <th>0</th>\n",
       "      <td>Saint Peter</td>\n",
       "      <td>Murray Cod</td>\n",
       "    </tr>\n",
       "    <tr>\n",
       "      <th>1</th>\n",
       "      <td>Billy Kwong</td>\n",
       "      <td>Crispy Skin Duck with Davidsonâ€™s Plum Sauce</td>\n",
       "    </tr>\n",
       "    <tr>\n",
       "      <th>2</th>\n",
       "      <td>The Lord Nelson Brewery Hotel</td>\n",
       "      <td>Roast Lamb</td>\n",
       "    </tr>\n",
       "    <tr>\n",
       "      <th>3</th>\n",
       "      <td>Vic's Meat Market</td>\n",
       "      <td>BBQ Beef Brisket</td>\n",
       "    </tr>\n",
       "    <tr>\n",
       "      <th>4</th>\n",
       "      <td>Bennelong</td>\n",
       "      <td>Sydney Rock Oysters</td>\n",
       "    </tr>\n",
       "  </tbody>\n",
       "</table>\n",
       "</div>"
      ],
      "text/plain": [
       "                      Restaurant  \\\n",
       "0                    Saint Peter   \n",
       "1                    Billy Kwong   \n",
       "2  The Lord Nelson Brewery Hotel   \n",
       "3              Vic's Meat Market   \n",
       "4                      Bennelong   \n",
       "\n",
       "                                        Specialty  \n",
       "0                                      Murray Cod  \n",
       "1   Crispy Skin Duck with Davidsonâ€™s Plum Sauce  \n",
       "2                                      Roast Lamb  \n",
       "3                                BBQ Beef Brisket  \n",
       "4                             Sydney Rock Oysters  "
      ]
     },
     "execution_count": 250,
     "metadata": {},
     "output_type": "execute_result"
    }
   ],
   "source": [
    "sydney_restaurants = read_csv(\"./text/sydney_1.csv\")\n",
    "pd.DataFrame(sydney_restaurants)"
   ]
  },
  {
   "cell_type": "code",
   "execution_count": 252,
   "id": "183eb4d5-c9d4-4e8f-8e0f-18f8f2113d60",
   "metadata": {},
   "outputs": [],
   "source": [
    "trip_stop = itinerary[6]"
   ]
  },
  {
   "cell_type": "code",
   "execution_count": 254,
   "id": "36e3fc25-a5e2-4c1e-9d5f-5c53b6606cf6",
   "metadata": {},
   "outputs": [],
   "source": [
    "city = trip_stop[\"City\"]\n",
    "country = trip_stop[\"Country\"]\n",
    "arrival = trip_stop[\"Arrival\"]\n",
    "departure = trip_stop[\"Departure\"]\n",
    "restaurants = sydney_restaurants"
   ]
  },
  {
   "cell_type": "code",
   "execution_count": 256,
   "id": "dfceaee2-6e01-442e-964a-fd79291e3c3d",
   "metadata": {
    "collapsed": true,
    "jupyter": {
     "outputs_hidden": true,
     "source_hidden": true
    }
   },
   "outputs": [
    {
     "data": {
      "text/markdown": [
       "# Sydney Itinerary: August 18 - August 25\n",
       "\n",
       "---\n",
       "\n",
       "## Day 1: Sunday, August 18 - Opera House & Royal Botanic Garden\n",
       "\n",
       "* **Breakfast (8:00 AM):** Café nearby your accommodation.\n",
       "* **Morning:** Explore the **Sydney Opera House** and take a guided tour.\n",
       "* **Lunch (12:30 PM):** **Bennelong**\n",
       "    * *Specialty:* Sydney Rock Oysters\n",
       "* **Afternoon:** Stroll through the **Royal Botanic Garden**.\n",
       "* **Dinner (7:00 PM):** Restaurant nearby your accommodation.\n",
       "\n",
       "---\n",
       "\n",
       "## Day 2: Monday, August 19 - Art & The Rocks\n",
       "\n",
       "* **Breakfast (8:00 AM):** Local café.\n",
       "* **Morning:** Visit the **Art Gallery of New South Wales**.\n",
       "* **Lunch (12:30 PM):** **Billy Kwong**\n",
       "    * *Specialty:* Crispy Skin Duck with Davidson’s Plum Sauce\n",
       "* **Afternoon:** Explore the historic **Rocks district**.\n",
       "* **Dinner (7:00 PM):** Restaurant nearby your accommodation.\n",
       "\n",
       "---\n",
       "\n",
       "## Day 3: Tuesday, August 20 - Manly Beach Escape\n",
       "\n",
       "* **Breakfast (8:00 AM):** Local café.\n",
       "* **Morning:** Take a ferry to **Manly Beach**.\n",
       "* **Lunch (12:30 PM):** Beachside café at Manly.\n",
       "* **Afternoon:** Relax on the beach or walk along the coastal path.\n",
       "* **Dinner (7:00 PM):** **The Lord Nelson Brewery Hotel**\n",
       "    * *Specialty:* Roast Lamb\n",
       "\n",
       "---\n",
       "\n",
       "## Day 4: Wednesday, August 21 - Taronga Zoo & Darling Harbour\n",
       "\n",
       "* **Breakfast (8:00 AM):** Local café.\n",
       "* **Morning:** Visit **Taronga Zoo**.\n",
       "* **Lunch (12:30 PM):** Café at the zoo.\n",
       "* **Afternoon:** Return to the city and visit **Darling Harbour**.\n",
       "* **Dinner (7:00 PM):** Restaurant nearby your accommodation.\n",
       "\n",
       "---\n",
       "\n",
       "## Day 5: Thursday, August 22 - City Views & Australian History\n",
       "\n",
       "* **Breakfast (8:00 AM):** Local café.\n",
       "* **Morning:** Explore the **Sydney Tower Eye** for panoramic views.\n",
       "* **Lunch (12:30 PM):** **Carriageworks Farmers Market**\n",
       "    * *Specialty:* Kangaroo Pie\n",
       "* **Afternoon:** Visit the **Australian Museum**.\n",
       "* **Dinner (7:00 PM):** Restaurant nearby your accommodation.\n",
       "\n",
       "---\n",
       "\n",
       "## Day 6: Friday, August 23 - Bondi to Coogee Coastal Walk\n",
       "\n",
       "* **Breakfast (8:00 AM):** Local café.\n",
       "* **Morning:** Visit **Bondi Beach** and walk the **Bondi to Coogee coastal walk**.\n",
       "* **Lunch (12:30 PM):** Café at Coogee Beach.\n",
       "* **Afternoon:** Relax at Coogee Beach.\n",
       "* **Dinner (7:00 PM):** **Vic's Meat Market**\n",
       "    * *Specialty:* BBQ Beef Brisket\n",
       "\n",
       "---\n",
       "\n",
       "## Day 7: Saturday, August 24 - Fish Market & Chinatown\n",
       "\n",
       "* **Breakfast (8:00 AM):** Local café.\n",
       "* **Morning:** Visit the **Sydney Fish Market**.\n",
       "* **Lunch (12:30 PM):** Seafood at the market.\n",
       "* **Afternoon:** Explore the **Chinatown** area.\n",
       "* **Dinner (7:00 PM):** Restaurant nearby your accommodation.\n",
       "\n",
       "---\n",
       "\n",
       "## Day 8: Sunday, August 25 - Departure\n",
       "\n",
       "* **Breakfast (8:00 AM):** Local café.\n",
       "* **Morning:** Last-minute shopping or sightseeing.\n",
       "* **Lunch (12:30 PM):** Café nearby your accommodation.\n",
       "* **Afternoon:** Prepare for departure.\n",
       "\n",
       "---\n",
       "\n",
       "Enjoy your trip to Sydney!"
      ],
      "text/plain": [
       "<IPython.core.display.Markdown object>"
      ]
     },
     "metadata": {},
     "output_type": "display_data"
    }
   ],
   "source": [
    "# Write the prompt\n",
    "prompt = f\"\"\"I will visit {city}, {country} from {arrival} to {departure}. \n",
    "Create a daily itinerary with detailed activities. \n",
    "Designate times for breakfast, lunch, and dinner. \n",
    "\n",
    "I want to visit the restaurants listed in the restaurant dictionary \n",
    "without repeating any place. Make sure to mention the specialty\n",
    "that I should try at each of them.\n",
    "\n",
    "Restaurant dictionary:\n",
    "{restaurants}\n",
    "\n",
    "\"\"\"\n",
    "\n",
    "# response = get_llm_response(prompt)\n",
    "response = \"\"\"# Sydney Itinerary: August 18 - August 25\n",
    "\n",
    "---\n",
    "\n",
    "## Day 1: Sunday, August 18 - Opera House & Royal Botanic Garden\n",
    "\n",
    "* **Breakfast (8:00 AM):** Café nearby your accommodation.\n",
    "* **Morning:** Explore the **Sydney Opera House** and take a guided tour.\n",
    "* **Lunch (12:30 PM):** **Bennelong**\n",
    "    * *Specialty:* Sydney Rock Oysters\n",
    "* **Afternoon:** Stroll through the **Royal Botanic Garden**.\n",
    "* **Dinner (7:00 PM):** Restaurant nearby your accommodation.\n",
    "\n",
    "---\n",
    "\n",
    "## Day 2: Monday, August 19 - Art & The Rocks\n",
    "\n",
    "* **Breakfast (8:00 AM):** Local café.\n",
    "* **Morning:** Visit the **Art Gallery of New South Wales**.\n",
    "* **Lunch (12:30 PM):** **Billy Kwong**\n",
    "    * *Specialty:* Crispy Skin Duck with Davidson’s Plum Sauce\n",
    "* **Afternoon:** Explore the historic **Rocks district**.\n",
    "* **Dinner (7:00 PM):** Restaurant nearby your accommodation.\n",
    "\n",
    "---\n",
    "\n",
    "## Day 3: Tuesday, August 20 - Manly Beach Escape\n",
    "\n",
    "* **Breakfast (8:00 AM):** Local café.\n",
    "* **Morning:** Take a ferry to **Manly Beach**.\n",
    "* **Lunch (12:30 PM):** Beachside café at Manly.\n",
    "* **Afternoon:** Relax on the beach or walk along the coastal path.\n",
    "* **Dinner (7:00 PM):** **The Lord Nelson Brewery Hotel**\n",
    "    * *Specialty:* Roast Lamb\n",
    "\n",
    "---\n",
    "\n",
    "## Day 4: Wednesday, August 21 - Taronga Zoo & Darling Harbour\n",
    "\n",
    "* **Breakfast (8:00 AM):** Local café.\n",
    "* **Morning:** Visit **Taronga Zoo**.\n",
    "* **Lunch (12:30 PM):** Café at the zoo.\n",
    "* **Afternoon:** Return to the city and visit **Darling Harbour**.\n",
    "* **Dinner (7:00 PM):** Restaurant nearby your accommodation.\n",
    "\n",
    "---\n",
    "\n",
    "## Day 5: Thursday, August 22 - City Views & Australian History\n",
    "\n",
    "* **Breakfast (8:00 AM):** Local café.\n",
    "* **Morning:** Explore the **Sydney Tower Eye** for panoramic views.\n",
    "* **Lunch (12:30 PM):** **Carriageworks Farmers Market**\n",
    "    * *Specialty:* Kangaroo Pie\n",
    "* **Afternoon:** Visit the **Australian Museum**.\n",
    "* **Dinner (7:00 PM):** Restaurant nearby your accommodation.\n",
    "\n",
    "---\n",
    "\n",
    "## Day 6: Friday, August 23 - Bondi to Coogee Coastal Walk\n",
    "\n",
    "* **Breakfast (8:00 AM):** Local café.\n",
    "* **Morning:** Visit **Bondi Beach** and walk the **Bondi to Coogee coastal walk**.\n",
    "* **Lunch (12:30 PM):** Café at Coogee Beach.\n",
    "* **Afternoon:** Relax at Coogee Beach.\n",
    "* **Dinner (7:00 PM):** **Vic's Meat Market**\n",
    "    * *Specialty:* BBQ Beef Brisket\n",
    "\n",
    "---\n",
    "\n",
    "## Day 7: Saturday, August 24 - Fish Market & Chinatown\n",
    "\n",
    "* **Breakfast (8:00 AM):** Local café.\n",
    "* **Morning:** Visit the **Sydney Fish Market**.\n",
    "* **Lunch (12:30 PM):** Seafood at the market.\n",
    "* **Afternoon:** Explore the **Chinatown** area.\n",
    "* **Dinner (7:00 PM):** Restaurant nearby your accommodation.\n",
    "\n",
    "---\n",
    "\n",
    "## Day 8: Sunday, August 25 - Departure\n",
    "\n",
    "* **Breakfast (8:00 AM):** Local café.\n",
    "* **Morning:** Last-minute shopping or sightseeing.\n",
    "* **Lunch (12:30 PM):** Café nearby your accommodation.\n",
    "* **Afternoon:** Prepare for departure.\n",
    "\n",
    "---\n",
    "\n",
    "Enjoy your trip to Sydney!\"\"\"\n",
    "\n",
    "# Print the LLM response in Markdown format\n",
    "display(Markdown(response))"
   ]
  },
  {
   "cell_type": "code",
   "execution_count": 272,
   "id": "6ff3008a-dc42-4ecd-be75-8796bc61e2d4",
   "metadata": {},
   "outputs": [
    {
     "name": "stdout",
     "output_type": "stream",
     "text": [
      "Creating detailed itinerary for New York, USA.\n",
      "Creating detailed itinerary for Rio de Janeiro, Brazil.\n",
      "Creating detailed itinerary for Cape Town, South Africa.\n",
      "Creating detailed itinerary for Istanbul, Turkey.\n",
      "Creating detailed itinerary for Paris, France.\n",
      "Creating detailed itinerary for Tokyo, Japan.\n",
      "Creating detailed itinerary for Sydney, Australia.\n"
     ]
    }
   ],
   "source": [
    "detailed_itinerary = {}\n",
    "\n",
    "for trip_stop in itinerary:\n",
    "    city = trip_stop[\"City\"]\n",
    "    country = trip_stop[\"Country\"]\n",
    "    arrival = trip_stop[\"Arrival\"]\n",
    "    departure = trip_stop[\"Departure\"]\n",
    "    # rest_dict = read_csv(f\"./text/{city}.csv\")\n",
    "\n",
    "    print(f\"Creating detailed itinerary for {city}, {country}.\")\n",
    "    \n",
    "    prompt = f\"\"\"I will visit {city}, {country} from {arrival} to {departure}. \n",
    "    Create a daily itinerary with detailed activities. \n",
    "    Designate times for breakfast, lunch, and dinner. \n",
    "\n",
    "    I want to visit the restaurants listed in the restaurant dictionary without repeating any place.\n",
    "    Make sure to mention the specialty that I should try at each of them.\n",
    "\n",
    "    Restaurant dictionary:\n",
    "    # rest_dict\n",
    "    \"\"\"\n",
    "    # Store the detailed itinerary for the city to the dictionary\n",
    "    # detailed_itinerary[city] = get_llm_response(prompt)\n",
    "    # Print in Markdown format\n",
    "    # display(Markdown(detailed_itinerary[\"Tokyo\"]))"
   ]
  },
  {
   "cell_type": "code",
   "execution_count": 276,
   "id": "2e1d0bde-b83c-438c-a34c-7f99d56fe10a",
   "metadata": {
    "collapsed": true,
    "jupyter": {
     "outputs_hidden": true
    }
   },
   "outputs": [
    {
     "data": {
      "text/html": [
       "<h2>Tokyo Culinary Journal: Top Restaurants & Dishes</h2>\n",
       "<p>Tokyo's culinary landscape is nothing short of extraordinary. Each spot offers a unique taste of the city's diverse food culture. Here's a quick guide to some must-try places and dishes:</p>\n",
       "\n",
       "<ul>\n",
       "    <li><b><span style=\"color:orange;\">Sukiyabashi Jiro</span></b>\n",
       "        <ul>\n",
       "            <li>Location: Ginza</li>\n",
       "            <li>Dish: <b><span style=\"color:blue;\">Omakase sushi</span></b></li>\n",
       "            <li>Highlight: Impeccably crafted sushi made by the legendary Jiro Ono. Each piece is a masterclass in balance and flavor.</li>\n",
       "        </ul>\n",
       "    </li>\n",
       "    <li><b><span style=\"color:orange;\">Ichiran Ramen</span></b>\n",
       "        <ul>\n",
       "            <li>Location: Shibuya</li>\n",
       "            <li>Dish: <b><span style=\"color:blue;\">Tonkotsu ramen</span></b></li>\n",
       "            <li>Highlight: A personal ramen booth for focused, uninterrupted enjoyment. Rich, creamy broth with perfectly cooked noodles.</li>\n",
       "        </ul>\n",
       "    </li>\n",
       "    <li><b><span style=\"color:orange;\">Tsukiji Outer Market</span></b>\n",
       "        <ul>\n",
       "            <li>Location: Tsukiji</li>\n",
       "            <li>Dish: <b><span style=\"color:blue;\">Fresh sashimi and street food</span></b></li>\n",
       "            <li>Highlight: Vibrant market atmosphere. Indulge in ultra-fresh sashimi, grilled seafood, and other Japanese street food delights.</li>\n",
       "        </ul>\n",
       "    </li>\n",
       "    <li><b><span style=\"color:orange;\">Narisawa</span></b>\n",
       "        <ul>\n",
       "            <li>Location: Minato</li>\n",
       "            <li>Dish: <b><span style=\"color:blue;\">Innovative tasting menu</span></b></li>\n",
       "            <li>Highlight: A fusion of French and Japanese techniques. Creative dishes with an emphasis on sustainability and local ingredients.</li>\n",
       "        </ul>\n",
       "    </li>\n",
       "    <li><b><span style=\"color:orange;\">Ginza Kojyu</span></b>\n",
       "        <ul>\n",
       "            <li>Location: Ginza</li>\n",
       "            <li>Dish: <b><span style=\"color:blue;\">Kaiseki (traditional multi-course meal)</span></b></li>\n",
       "            <li>Highlight: Exquisite presentation and meticulous preparation. A journey through seasonal Japanese flavors.</li>\n",
       "        </ul>\n",
       "    </li>\n",
       "    <li><b><span style=\"color:orange;\">Akasaka Kikunoi</span></b>\n",
       "        <ul>\n",
       "            <li>Location: Akasaka</li>\n",
       "            <li>Dish: <b><span style=\"color:blue;\">Kaiseki</span></b></li>\n",
       "            <li>Highlight: Elegant and serene setting. Seasonal ingredients transformed into artful, delicious courses.</li>\n",
       "        </ul>\n",
       "    </li>\n",
       "</ul>\n"
      ],
      "text/plain": [
       "<IPython.core.display.HTML object>"
      ]
     },
     "metadata": {},
     "output_type": "display_data"
    }
   ],
   "source": [
    "from IPython.display import HTML\n",
    "detailed_itinerary = \"./text/highlighted_text.html\"\n",
    "display(HTML(detailed_itinerary))"
   ]
  }
 ],
 "metadata": {
  "kernelspec": {
   "display_name": "Python [conda env:base] *",
   "language": "python",
   "name": "conda-base-py"
  },
  "language_info": {
   "codemirror_mode": {
    "name": "ipython",
    "version": 3
   },
   "file_extension": ".py",
   "mimetype": "text/x-python",
   "name": "python",
   "nbconvert_exporter": "python",
   "pygments_lexer": "ipython3",
   "version": "3.12.3"
  }
 },
 "nbformat": 4,
 "nbformat_minor": 5
}
